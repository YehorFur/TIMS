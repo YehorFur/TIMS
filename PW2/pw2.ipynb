{
 "cells": [
  {
   "cell_type": "code",
   "execution_count": 613,
   "id": "initial_id",
   "metadata": {
    "collapsed": true,
    "ExecuteTime": {
     "end_time": "2024-03-23T17:19:38.948435600Z",
     "start_time": "2024-03-23T17:19:38.709046200Z"
    }
   },
   "outputs": [],
   "source": [
    "import matplotlib.pyplot as plt\n",
    "import math\n",
    "import numpy as np\n",
    "from scipy.stats import chi2"
   ]
  },
  {
   "cell_type": "code",
   "execution_count": 614,
   "outputs": [],
   "source": [
    "with open(\"input.txt\", 'r') as file:\n",
    "    data = file.readlines()\n",
    "    \n",
    "data[0] = data[0][:-1]\n",
    "xi = data[0].split('_')\n",
    "for it in range(len(xi)):\n",
    "    temp = xi[it].split('-')\n",
    "    xi[it] = [float(temp[0]), float(temp[1])]\n",
    "ni = data[1].split('_')\n",
    "for it in range(len(ni)):\n",
    "    ni[it] = float(ni[it])\n",
    "data = [xi, ni]"
   ],
   "metadata": {
    "collapsed": false,
    "ExecuteTime": {
     "end_time": "2024-03-23T17:19:38.980435400Z",
     "start_time": "2024-03-23T17:19:38.741047200Z"
    }
   },
   "id": "8691d8c9e3c2b82f"
  },
  {
   "cell_type": "code",
   "execution_count": 615,
   "outputs": [],
   "source": [
    "def build_histogram(data):\n",
    "    plt.bar(range(len(data[1])), data[1])\n",
    "    plt.xticks(range(len(data[0])), data[0], rotation=45)\n",
    "    plt.show()"
   ],
   "metadata": {
    "collapsed": false,
    "ExecuteTime": {
     "end_time": "2024-03-23T17:19:38.981436300Z",
     "start_time": "2024-03-23T17:19:38.772433800Z"
    }
   },
   "id": "d3c04e21fb4eed64"
  },
  {
   "cell_type": "code",
   "execution_count": 616,
   "outputs": [
    {
     "data": {
      "text/plain": "<Figure size 640x480 with 1 Axes>",
      "image/png": "[encoded data removed]"
     },
     "metadata": {},
     "output_type": "display_data"
    }
   ],
   "source": [
    "build_histogram(data)"
   ],
   "metadata": {
    "collapsed": false,
    "ExecuteTime": {
     "end_time": "2024-03-23T17:19:39.306623400Z",
     "start_time": "2024-03-23T17:19:38.786434600Z"
    }
   },
   "id": "6a804b636715aec9"
  },
  {
   "cell_type": "code",
   "execution_count": 617,
   "outputs": [],
   "source": [
    "with open(\"dod2.txt\", 'r') as file:\n",
    "    dod2 = file.readlines()\n",
    "dod2 = [it.split('\\t') for it in dod2]\n",
    "for it in range(len(dod2)):\n",
    "    dod2[it] = dod2[it][1:-1]\n",
    "for it in range(len(dod2)):\n",
    "    for jt in range(len(dod2[it])):\n",
    "        dod2[it][jt] = dod2[it][jt].replace(',', '.')\n",
    "        dod2[it][jt] = float(dod2[it][jt])"
   ],
   "metadata": {
    "collapsed": false,
    "ExecuteTime": {
     "end_time": "2024-03-23T17:19:39.545643800Z",
     "start_time": "2024-03-23T17:19:39.304625700Z"
    }
   },
   "id": "d7789986f64acc20"
  },
  {
   "cell_type": "code",
   "execution_count": 618,
   "outputs": [],
   "source": [
    "def getnu(x):\n",
    "    flag = 0\n",
    "    if x < 0:\n",
    "        flag = 1\n",
    "    x = abs(x)\n",
    "    row = math.modf(x*10)[1]\n",
    "    col = int((x*10 - row)*10)\n",
    "    if row > 39:\n",
    "        if flag == 0:\n",
    "            return 0.5\n",
    "        else:\n",
    "            return -0.5\n",
    "    else :\n",
    "        if flag == 0:\n",
    "            return dod2[int(row)][col]\n",
    "        else:\n",
    "            return -dod2[int(row)][col]"
   ],
   "metadata": {
    "collapsed": false,
    "ExecuteTime": {
     "end_time": "2024-03-23T17:19:39.546645Z",
     "start_time": "2024-03-23T17:19:39.324626700Z"
    }
   },
   "id": "f9ef1467a0a933b4"
  },
  {
   "cell_type": "code",
   "execution_count": 619,
   "outputs": [],
   "source": [
    "data.append([])\n",
    "for it in data[0]:\n",
    "    data[2].append((it[0] + it[1])/2)"
   ],
   "metadata": {
    "collapsed": false,
    "ExecuteTime": {
     "end_time": "2024-03-23T17:19:39.546645Z",
     "start_time": "2024-03-23T17:19:39.350627200Z"
    }
   },
   "id": "e3e3c38eca5d9db2"
  },
  {
   "cell_type": "code",
   "execution_count": 620,
   "outputs": [],
   "source": [
    "def find_mean(data):\n",
    "    summ = 0\n",
    "    for it in range(len(data[0])):\n",
    "        summ += data[2][it]*data[1][it]\n",
    "    return summ/sum(data[1])"
   ],
   "metadata": {
    "collapsed": false,
    "ExecuteTime": {
     "end_time": "2024-03-23T17:19:39.546645Z",
     "start_time": "2024-03-23T17:19:39.370629800Z"
    }
   },
   "id": "47df430396b8751e"
  },
  {
   "cell_type": "code",
   "execution_count": 621,
   "outputs": [],
   "source": [
    "def deviation(data, mean):\n",
    "    summ = 0\n",
    "    for it in range(len(data[0])):\n",
    "        summ += (data[2][it] - mean)**2*data[1][it]\n",
    "    return summ"
   ],
   "metadata": {
    "collapsed": false,
    "ExecuteTime": {
     "end_time": "2024-03-23T17:19:39.546645Z",
     "start_time": "2024-03-23T17:19:39.382631200Z"
    }
   },
   "id": "79568dc0728f6e1b"
  },
  {
   "cell_type": "code",
   "execution_count": 622,
   "outputs": [],
   "source": [
    "def find_standart(data, mean):\n",
    "    return (deviation(data, mean)/(sum(data[1])-1))**0.5"
   ],
   "metadata": {
    "collapsed": false,
    "ExecuteTime": {
     "end_time": "2024-03-23T17:19:39.546645Z",
     "start_time": "2024-03-23T17:19:39.400633Z"
    }
   },
   "id": "ff0e008f6626f824"
  },
  {
   "cell_type": "code",
   "execution_count": 623,
   "outputs": [],
   "source": [
    "def find_probs(data, mean, standart):\n",
    "    probs = []\n",
    "    for i in range(len(data[0])-1):\n",
    "        if i == 0:\n",
    "            probs.append(getnu((data[0][i][1] - mean)/standart)  - getnu(-9999))\n",
    "        else:\n",
    "            probs.append(getnu((data[0][i][1] - mean)/standart)  - getnu((data[0][i][0] - mean)/standart))\n",
    "    probs.append(1 - sum(probs))\n",
    "    return probs"
   ],
   "metadata": {
    "collapsed": false,
    "ExecuteTime": {
     "end_time": "2024-03-23T17:19:39.546645Z",
     "start_time": "2024-03-23T17:19:39.421634800Z"
    }
   },
   "id": "cdc7519ef8dac7d3"
  },
  {
   "cell_type": "code",
   "execution_count": 624,
   "outputs": [],
   "source": [
    "def find_emp(data, mean, standart, probs):\n",
    "    asmp = 0\n",
    "    for i in range(len(data[0])):\n",
    "        asmp += ((data[1][i] - sum(data[1])*probs[i])**2)/(sum(data[1])*probs[i])\n",
    "    return asmp"
   ],
   "metadata": {
    "collapsed": false,
    "ExecuteTime": {
     "end_time": "2024-03-23T17:19:39.546645Z",
     "start_time": "2024-03-23T17:19:39.448637900Z"
    }
   },
   "id": "e70bde2afad26075"
  },
  {
   "cell_type": "code",
   "execution_count": 625,
   "outputs": [],
   "source": [
    "count = 0\n",
    "alpha = input(\"Enter alpha: \")\n",
    "if alpha == '':\n",
    "    alpha = 0.05\n",
    "else:\n",
    "    alpha = float(alpha)\n",
    "mean = input(\"Enter mean: \")\n",
    "if mean == '':\n",
    "    count +=1\n",
    "    mean = find_mean(data)\n",
    "else:\n",
    "    mean = float(mean)\n",
    "standart = input(\"Enter standart: \")\n",
    "if standart == '':\n",
    "    count +=1\n",
    "    standart = find_standart(data, mean)\n",
    "else:\n",
    "    standart = float(standart)"
   ],
   "metadata": {
    "collapsed": false,
    "ExecuteTime": {
     "end_time": "2024-03-23T17:19:41.864624100Z",
     "start_time": "2024-03-23T17:19:39.468637400Z"
    }
   },
   "id": "f2a38f90b0e118c"
  },
  {
   "cell_type": "code",
   "execution_count": 626,
   "outputs": [],
   "source": [
    "def find_crit(data, alpha, count):\n",
    "    return chi2.ppf(1-alpha, len(data[0])-1-count)"
   ],
   "metadata": {
    "collapsed": false,
    "ExecuteTime": {
     "end_time": "2024-03-23T17:19:41.896625900Z",
     "start_time": "2024-03-23T17:19:41.873623Z"
    }
   },
   "id": "9d50a95e8db40652"
  },
  {
   "cell_type": "code",
   "execution_count": 627,
   "outputs": [],
   "source": [
    "def fix_data(data, probbs):\n",
    "    while data[1][0] < 5 or (sum(data[1])*probbs[0] < 8):\n",
    "        data[0][1] = [data[0][0][0], data[0][1][1]]\n",
    "        data[1][1] += data[1][0]\n",
    "        data[2][1] = (data[0][1][0] + data[0][1][1])/2\n",
    "        probbs[1] = probbs[0] + probbs[1]\n",
    "        probbs.pop(0)\n",
    "        data[1].pop(0)\n",
    "        data[0].pop(0)\n",
    "        data[2].pop(0)\n",
    "    \n",
    "    while data[1][-1] < 5 or (sum(data[1])*probbs[-1] < 8):\n",
    "        data[0][-2] = [data[0][-2][0], data[0][-1][1]]\n",
    "        data[1][-2] += data[1][-1]\n",
    "        data[2][-2] = (data[0][-2][0] + data[0][-2][1])/2\n",
    "        probbs[-2] = probbs[-2] + probbs[-1]\n",
    "        probbs.pop(-1)\n",
    "        data[1].pop(-1)\n",
    "        data[0].pop(-1)\n",
    "        data[2].pop(-1)\n",
    "    return data, probbs"
   ],
   "metadata": {
    "collapsed": false,
    "ExecuteTime": {
     "end_time": "2024-03-23T17:19:41.934628500Z",
     "start_time": "2024-03-23T17:19:41.901626600Z"
    }
   },
   "id": "2f4cc5579fa02ef1"
  },
  {
   "cell_type": "code",
   "execution_count": 628,
   "outputs": [],
   "source": [
    "probs = find_probs(data, mean, standart)"
   ],
   "metadata": {
    "collapsed": false,
    "ExecuteTime": {
     "end_time": "2024-03-23T17:19:41.934628500Z",
     "start_time": "2024-03-23T17:19:41.920631600Z"
    }
   },
   "id": "bd919204bb67f9eb"
  },
  {
   "cell_type": "code",
   "execution_count": 629,
   "outputs": [],
   "source": [
    "def print_data(data, probs):\n",
    "    print(\"Xi          \", \"Ni     \", \"Xi*     \", \"P\")\n",
    "    for i in range(len(data[0])):\n",
    "        print(data[0][i], '|', data[1][i], '|', data[2][i], '|', probs[i])"
   ],
   "metadata": {
    "collapsed": false,
    "ExecuteTime": {
     "end_time": "2024-03-23T17:19:41.973630300Z",
     "start_time": "2024-03-23T17:19:41.937630400Z"
    }
   },
   "id": "f7768e18d8dcefc5"
  },
  {
   "cell_type": "code",
   "execution_count": 630,
   "outputs": [],
   "source": [
    "data, probs = fix_data(data, probs)"
   ],
   "metadata": {
    "collapsed": false,
    "ExecuteTime": {
     "end_time": "2024-03-23T17:19:42.007633200Z",
     "start_time": "2024-03-23T17:19:41.954631200Z"
    }
   },
   "id": "c4b49d8e383d4f1f"
  },
  {
   "cell_type": "code",
   "execution_count": 631,
   "outputs": [],
   "source": [
    "emp = find_emp(data, mean, standart, probs)"
   ],
   "metadata": {
    "collapsed": false,
    "ExecuteTime": {
     "end_time": "2024-03-23T17:19:42.010633600Z",
     "start_time": "2024-03-23T17:19:41.969633200Z"
    }
   },
   "id": "559e754255f1611e"
  },
  {
   "cell_type": "code",
   "execution_count": 632,
   "outputs": [],
   "source": [
    "crit = find_crit(data, alpha, count)"
   ],
   "metadata": {
    "collapsed": false,
    "ExecuteTime": {
     "end_time": "2024-03-23T17:19:42.034641300Z",
     "start_time": "2024-03-23T17:19:41.981634500Z"
    }
   },
   "id": "e2917109a4d28437"
  },
  {
   "cell_type": "code",
   "execution_count": 633,
   "outputs": [
    {
     "name": "stdout",
     "output_type": "stream",
     "text": [
      "Xi           Ni      Xi*      P\n",
      "[4.0, 5.5] | 18.0 | 4.75 | 0.06059999999999999\n",
      "[5.5, 6.0] | 66.0 | 5.75 | 0.16000000000000003\n",
      "[6.0, 6.5] | 118.0 | 6.25 | 0.2794\n",
      "[6.5, 7.0] | 116.0 | 6.75 | 0.2764\n",
      "[7.0, 7.5] | 56.0 | 7.25 | 0.1618\n",
      "[7.5, 9.0] | 26.0 | 8.25 | 0.06180000000000013\n"
     ]
    }
   ],
   "source": [
    "print_data(data, probs)"
   ],
   "metadata": {
    "collapsed": false,
    "ExecuteTime": {
     "end_time": "2024-03-23T17:19:42.038635600Z",
     "start_time": "2024-03-23T17:19:42.014635700Z"
    }
   },
   "id": "c76607fed3ef402"
  },
  {
   "cell_type": "code",
   "execution_count": 634,
   "outputs": [
    {
     "name": "stdout",
     "output_type": "stream",
     "text": [
      "Емпіричне 3.526071287568195 < критичне 7.814727903251179 Гіпотеза не суперечить\n"
     ]
    }
   ],
   "source": [
    "if emp < crit:\n",
    "    print(f\"Емпіричне {emp} < критичне {crit} Гіпотеза не суперечить\")\n",
    "else:\n",
    "    print(f\"Емпіричне {emp} > критичне {crit} Гіпотеза суперечить\")"
   ],
   "metadata": {
    "collapsed": false,
    "ExecuteTime": {
     "end_time": "2024-03-23T17:19:42.149646100Z",
     "start_time": "2024-03-23T17:19:42.029636400Z"
    }
   },
   "id": "7ddf6d23dc4424c9"
  },
  {
   "cell_type": "code",
   "execution_count": 635,
   "outputs": [],
   "source": [
    "with open(\"input2.txt\", 'r') as file:\n",
    "    data2 = file.readlines()\n",
    "    \n",
    "data2[0] = data2[0][:-1]\n",
    "xi = data2[0].split('_')\n",
    "for it in range(len(xi)):\n",
    "    temp = xi[it].split('-')\n",
    "    xi[it] = [float(temp[0]), float(temp[1])]\n",
    "ni = data2[1].split('_')\n",
    "for it in range(len(ni)):\n",
    "    ni[it] = float(ni[it])\n",
    "data2 = [xi, ni]\n",
    "data2.append([])\n",
    "for it in data2[0]:\n",
    "    data2[2].append((it[0] + it[1])/2)"
   ],
   "metadata": {
    "collapsed": false,
    "ExecuteTime": {
     "end_time": "2024-03-23T17:19:42.175646800Z",
     "start_time": "2024-03-23T17:19:42.046635600Z"
    }
   },
   "id": "255cd7b53cb46167"
  },
  {
   "cell_type": "code",
   "execution_count": 636,
   "outputs": [
    {
     "data": {
      "text/plain": "<Figure size 640x480 with 1 Axes>",
      "image/png": "[encoded data removed]"
     },
     "metadata": {},
     "output_type": "display_data"
    }
   ],
   "source": [
    "build_histogram(data2)"
   ],
   "metadata": {
    "collapsed": false,
    "ExecuteTime": {
     "end_time": "2024-03-23T17:19:42.341016300Z",
     "start_time": "2024-03-23T17:19:42.075638100Z"
    }
   },
   "id": "9702b43d7f1d5059"
  },
  {
   "cell_type": "code",
   "execution_count": 637,
   "outputs": [],
   "source": [
    "count2 = 0\n",
    "alpha2 = input(\"Enter alpha: \")\n",
    "if alpha2 == '':\n",
    "    alpha2 = 0.05\n",
    "else:\n",
    "    alpha2 = float(alpha2)\n",
    "mean2 = input(\"Enter mean: \")\n",
    "if mean2 == '':\n",
    "    count2 +=1\n",
    "    mean2 = find_mean(data2)\n",
    "else:\n",
    "    mean2 = float(mean2)\n",
    "standart2 = input(\"Enter standart: \")\n",
    "if standart2 == '':\n",
    "    count2 +=1\n",
    "    standart2 = find_standart(data2, mean2)\n",
    "else:\n",
    "    standart2 = float(standart2)"
   ],
   "metadata": {
    "collapsed": false,
    "ExecuteTime": {
     "end_time": "2024-03-23T17:19:43.930530800Z",
     "start_time": "2024-03-23T17:19:42.339021200Z"
    }
   },
   "id": "f13d0240265df16a"
  },
  {
   "cell_type": "code",
   "execution_count": 638,
   "outputs": [],
   "source": [
    "mean2 = find_mean(data2)"
   ],
   "metadata": {
    "collapsed": false,
    "ExecuteTime": {
     "end_time": "2024-03-23T17:19:43.932531200Z",
     "start_time": "2024-03-23T17:19:43.920530400Z"
    }
   },
   "id": "2cb2743a3aec43cf"
  },
  {
   "cell_type": "code",
   "execution_count": 639,
   "outputs": [],
   "source": [
    "standart2 = find_standart(data2, mean2)"
   ],
   "metadata": {
    "collapsed": false,
    "ExecuteTime": {
     "end_time": "2024-03-23T17:19:43.971530900Z",
     "start_time": "2024-03-23T17:19:43.934529Z"
    }
   },
   "id": "fd9a0587cf1f9f28"
  },
  {
   "cell_type": "code",
   "execution_count": 640,
   "outputs": [],
   "source": [
    "def find_a_b(mean, standart):\n",
    "    a = mean - ((3**0.5)*standart)\n",
    "    b = mean + ((3**0.5)*standart)\n",
    "    return a, b"
   ],
   "metadata": {
    "collapsed": false,
    "ExecuteTime": {
     "end_time": "2024-03-23T17:19:44.004533500Z",
     "start_time": "2024-03-23T17:19:43.950535100Z"
    }
   },
   "id": "195791775d30b182"
  },
  {
   "cell_type": "code",
   "execution_count": 641,
   "outputs": [],
   "source": [
    "a, b = find_a_b(mean2, standart2)"
   ],
   "metadata": {
    "collapsed": false,
    "ExecuteTime": {
     "end_time": "2024-03-23T17:19:44.006535900Z",
     "start_time": "2024-03-23T17:19:43.965537400Z"
    }
   },
   "id": "2ece4bab819aa673"
  },
  {
   "cell_type": "code",
   "execution_count": 642,
   "outputs": [],
   "source": [
    "def fix_data2(data, probs):\n",
    "    for i in range(len(data[0])-1):\n",
    "        if data[1][i] < 5 or probs[i]*sum(data[1]) < 8:\n",
    "            data[1][i] = data[1][i] + data[1][i+1]\n",
    "            data[0][i] = [data[0][i][0], data[0][i+1][1]]\n",
    "            data[2][i] = (data[0][i][0] + data[0][i][1])/2\n",
    "            probs[i] = probs[i] + probs[i+1]\n",
    "            probs.pop(i+1)\n",
    "            data[1].pop(i+1)\n",
    "            data[0].pop(i+1)\n",
    "            data[2].pop(i+1)\n",
    "    \n",
    "    for i in range(len(data[0])-1):\n",
    "        nn = len(data[0])-1\n",
    "        if data[1][nn-i] < 5 or probs[nn-i]*sum(data[1]) < 8:\n",
    "            data[1][nn-i] = data[1][nn-i] + data[1][nn-i-1]\n",
    "            data[0][nn-i-1] = [data[0][nn-i-1][0], data[0][nn-i][1]]\n",
    "            data[2][nn-i-1] = (data[0][nn-i-1][0] + data[0][nn-i-1][1])/2\n",
    "            probs[nn-i-1] = probs[nn-i-1] + probs[nn-i]\n",
    "            probs.pop(nn-i)\n",
    "            data[1].pop(nn-i)\n",
    "            data[0].pop(nn-i)\n",
    "            data[2].pop(nn-i)\n",
    "            \n",
    "    return data, probs            "
   ],
   "metadata": {
    "collapsed": false,
    "ExecuteTime": {
     "end_time": "2024-03-23T17:19:44.045538300Z",
     "start_time": "2024-03-23T17:19:43.999535100Z"
    }
   },
   "id": "b04745aef2ee169e"
  },
  {
   "cell_type": "code",
   "execution_count": 643,
   "outputs": [],
   "source": [
    "def find_probs2(data, a, b):\n",
    "    probs = []\n",
    "    for i in range(len(data[0])-1):\n",
    "        if i == 0:\n",
    "            probs.append(((data[0][i][1] - a)/(b - a)) - ((a - a)/(b - a)))\n",
    "        else:\n",
    "            probs.append(((data[0][i][1] - a)/(b - a)) - ((data[0][i][0] - a)/(b - a)))\n",
    "    probs.append(1 - sum(probs))\n",
    "    return probs"
   ],
   "metadata": {
    "collapsed": false,
    "ExecuteTime": {
     "end_time": "2024-03-23T17:19:44.045538300Z",
     "start_time": "2024-03-23T17:19:44.018537500Z"
    }
   },
   "id": "cd46b9d0ff052b2f"
  },
  {
   "cell_type": "code",
   "execution_count": 644,
   "outputs": [],
   "source": [
    "probs2 = find_probs2(data2, a, b)"
   ],
   "metadata": {
    "collapsed": false,
    "ExecuteTime": {
     "end_time": "2024-03-23T17:19:44.096547600Z",
     "start_time": "2024-03-23T17:19:44.032538400Z"
    }
   },
   "id": "a6e9ed9f409f1306"
  },
  {
   "cell_type": "code",
   "execution_count": 645,
   "outputs": [],
   "source": [
    "data2, probs2 = fix_data2(data2, probs2)"
   ],
   "metadata": {
    "collapsed": false,
    "ExecuteTime": {
     "end_time": "2024-03-23T17:19:44.100546600Z",
     "start_time": "2024-03-23T17:19:44.047537400Z"
    }
   },
   "id": "8420e7d540ce65db"
  },
  {
   "cell_type": "code",
   "execution_count": 646,
   "outputs": [],
   "source": [
    "emp2 = find_emp(data2, mean2, standart2, probs2)"
   ],
   "metadata": {
    "collapsed": false,
    "ExecuteTime": {
     "end_time": "2024-03-23T17:19:44.100546600Z",
     "start_time": "2024-03-23T17:19:44.065539800Z"
    }
   },
   "id": "5f0b809e3044da66"
  },
  {
   "cell_type": "code",
   "execution_count": 647,
   "outputs": [],
   "source": [
    "crit2 = find_crit(data2, alpha2, count2)"
   ],
   "metadata": {
    "collapsed": false,
    "ExecuteTime": {
     "end_time": "2024-03-23T17:19:44.100546600Z",
     "start_time": "2024-03-23T17:19:44.080548100Z"
    }
   },
   "id": "f03e2f9793b1b5ec"
  },
  {
   "cell_type": "code",
   "execution_count": 648,
   "outputs": [
    {
     "name": "stdout",
     "output_type": "stream",
     "text": [
      "Xi           Ni      Xi*      P\n",
      "[0.0, 1.5] | 142.0 | 0.75 | 0.09538595572789493\n",
      "[1.5, 3.0] | 141.0 | 2.25 | 0.10058363213243177\n",
      "[3.0, 4.5] | 138.0 | 3.75 | 0.10058363213243171\n",
      "[4.5, 6.0] | 136.0 | 5.25 | 0.10058363213243177\n",
      "[6.0, 7.5] | 137.0 | 6.75 | 0.10058363213243177\n",
      "[7.5, 9.0] | 142.0 | 8.25 | 0.10058363213243171\n",
      "[9.0, 10.5] | 143.0 | 9.75 | 0.10058363213243182\n",
      "[10.5, 12.0] | 154.0 | 11.25 | 0.10058363213243171\n",
      "[12.0, 13.5] | 144.0 | 12.75 | 0.10058363213243171\n",
      "[13.5, 15.0] | 135.0 | 14.25 | 0.0999449872126511\n"
     ]
    }
   ],
   "source": [
    "print_data(data2, probs2)"
   ],
   "metadata": {
    "collapsed": false,
    "ExecuteTime": {
     "end_time": "2024-03-23T17:19:44.158554100Z",
     "start_time": "2024-03-23T17:19:44.094548500Z"
    }
   },
   "id": "d024c3feb3efbfbd"
  },
  {
   "cell_type": "code",
   "execution_count": 649,
   "outputs": [
    {
     "name": "stdout",
     "output_type": "stream",
     "text": [
      "Емпіричне 2.261592589159303 < критичне 14.067140449340167 Гіпотеза не суперечить\n"
     ]
    }
   ],
   "source": [
    "if emp2 < crit2:\n",
    "    print(f\"Емпіричне {emp2} < критичне {crit2} Гіпотеза не суперечить\")\n",
    "else:\n",
    "    print(f\"Емпіричне {emp2} > критичне {crit2} Гіпотеза суперечить\")"
   ],
   "metadata": {
    "collapsed": false,
    "ExecuteTime": {
     "end_time": "2024-03-23T17:19:44.214538100Z",
     "start_time": "2024-03-23T17:19:44.110555100Z"
    }
   },
   "id": "27008d791becd6e4"
  }
 ],
 "metadata": {
  "kernelspec": {
   "display_name": "Python 3",
   "language": "python",
   "name": "python3"
  },
  "language_info": {
   "codemirror_mode": {
    "name": "ipython",
    "version": 2
   },
   "file_extension": ".py",
   "mimetype": "text/x-python",
   "name": "python",
   "nbconvert_exporter": "python",
   "pygments_lexer": "ipython2",
   "version": "2.7.6"
  }
 },
 "nbformat": 4,
 "nbformat_minor": 5
}
