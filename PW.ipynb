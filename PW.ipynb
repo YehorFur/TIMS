{
 "cells": [
  {
   "cell_type": "code",
   "execution_count": 91,
   "id": "initial_id",
   "metadata": {
    "collapsed": true,
    "ExecuteTime": {
     "end_time": "2024-02-23T17:10:49.530621700Z",
     "start_time": "2024-02-23T17:10:47.138487400Z"
    }
   },
   "outputs": [],
   "source": [
    "import random\n",
    "import matplotlib.pyplot as plt\n",
    "import math"
   ]
  },
  {
   "cell_type": "code",
   "execution_count": 92,
   "outputs": [],
   "source": [
    "a = []\n",
    "minn = int(input(\"Enter min number: \"))\n",
    "maxx = int(input(\"Enter max number: \"))\n",
    "length = 1000"
   ],
   "metadata": {
    "collapsed": false,
    "ExecuteTime": {
     "end_time": "2024-02-23T17:10:57.290712900Z",
     "start_time": "2024-02-23T17:10:47.193488400Z"
    }
   },
   "id": "eb7f9b630ca429a6"
  },
  {
   "cell_type": "code",
   "execution_count": 93,
   "outputs": [],
   "source": [
    "for i in range(length):\n",
    "    a.append(random.randint(minn, maxx))"
   ],
   "metadata": {
    "collapsed": false,
    "ExecuteTime": {
     "end_time": "2024-02-23T17:10:57.381717800Z",
     "start_time": "2024-02-23T17:10:57.269715200Z"
    }
   },
   "id": "7bb39ad9c919277"
  },
  {
   "cell_type": "code",
   "execution_count": 94,
   "outputs": [
    {
     "name": "stdout",
     "output_type": "stream",
     "text": [
      "Вибірка\n",
      "[35, 3, 34, 47, 49, 50, 8, 3, 23, 5, 3, 59, 47, 53, 10, 17, 60, 28, 47, 27, 63, 35, 4, 23, 56, 32, 59, 49, 17, 15, 35, 49, 17, 60, 2, 15, 16, 57, 42, 40, 15, 27, 27, 16, 52, 20, 31, 30, 5, 34, 2, 23, 30, 9, 9, 32, 37, 52, 61, 61, 7, 54, 27, 41, 57, 47, 47, 37, 50, 41, 40, 5, 49, 53, 18, 9, 8, 59, 34, 29, 55, 18, 31, 5, 58, 4, 57, 24, 5, 56, 9, 18, 8, 48, 30, 18, 60, 11, 3, 8, 2, 12, 21, 24, 31, 24, 11, 7, 5, 29, 45, 41, 15, 43, 1, 62, 10, 19, 24, 48, 16, 33, 61, 52, 32, 21, 23, 25, 56, 18, 10, 47, 49, 39, 39, 63, 48, 45, 8, 49, 7, 36, 40, 27, 15, 47, 55, 44, 52, 20, 2, 6, 3, 43, 3, 40, 44, 35, 62, 62, 9, 33, 48, 41, 32, 46, 25, 26, 16, 45, 48, 8, 63, 23, 29, 39, 27, 18, 52, 15, 38, 40, 42, 22, 58, 41, 7, 53, 44, 55, 62, 30, 24, 62, 35, 36, 51, 33, 24, 31, 24, 62, 20, 55, 3, 17, 9, 58, 60, 2, 42, 19, 14, 43, 22, 13, 52, 2, 12, 57, 56, 39, 46, 14, 15, 52, 46, 18, 28, 32, 22, 8, 16, 51, 52, 26, 14, 23, 48, 8, 49, 50, 63, 49, 47, 1, 64, 3, 12, 5, 61, 57, 11, 20, 23, 25, 48, 24, 1, 59, 37, 35, 13, 18, 56, 60, 33, 32, 4, 14, 19, 10, 46, 19, 6, 41, 4, 54, 45, 40, 24, 45, 18, 37, 47, 56, 13, 57, 31, 12, 15, 49, 33, 48, 48, 52, 40, 57, 43, 13, 49, 14, 21, 36, 44, 37, 61, 16, 43, 50, 12, 60, 4, 6, 12, 44, 26, 44, 62, 46, 19, 24, 49, 39, 3, 33, 48, 48, 23, 50, 10, 2, 11, 23, 44, 60, 62, 28, 34, 26, 45, 56, 23, 42, 3, 3, 19, 42, 4, 17, 61, 9, 64, 53, 37, 38, 51, 50, 60, 5, 22, 59, 14, 16, 44, 53, 18, 49, 18, 18, 46, 51, 7, 3, 58, 2, 33, 9, 49, 41, 42, 27, 4, 1, 41, 20, 55, 53, 37, 20, 51, 36, 6, 52, 1, 46, 14, 40, 21, 18, 19, 2, 51, 31, 9, 23, 64, 36, 8, 37, 40, 60, 61, 9, 28, 63, 56, 64, 54, 49, 7, 25, 23, 46, 1, 36, 54, 6, 12, 29, 62, 1, 61, 48, 59, 28, 15, 4, 51, 60, 2, 26, 27, 51, 32, 4, 61, 54, 32, 22, 15, 8, 2, 13, 45, 1, 30, 30, 12, 56, 27, 26, 57, 38, 9, 11, 37, 48, 51, 50, 22, 33, 26, 26, 34, 1, 31, 29, 48, 57, 30, 19, 42, 22, 55, 58, 40, 39, 38, 29, 29, 30, 26, 34, 2, 15, 47, 34, 63, 20, 31, 64, 50, 44, 43, 32, 41, 34, 22, 12, 5, 20, 13, 24, 7, 36, 61, 8, 32, 25, 56, 24, 48, 7, 42, 28, 47, 43, 27, 53, 59, 29, 50, 57, 4, 26, 61, 54, 7, 57, 17, 14, 27, 43, 24, 27, 26, 25, 17, 24, 39, 35, 9, 50, 29, 43, 55, 50, 6, 1, 19, 54, 55, 51, 8, 51, 63, 63, 43, 29, 44, 37, 2, 26, 28, 25, 34, 40, 41, 15, 8, 9, 7, 31, 46, 43, 40, 20, 20, 49, 19, 13, 46, 29, 28, 56, 21, 33, 51, 58, 32, 28, 4, 54, 49, 14, 48, 41, 47, 54, 63, 23, 20, 9, 41, 31, 49, 36, 37, 8, 36, 3, 51, 62, 44, 36, 16, 7, 54, 42, 48, 29, 41, 48, 30, 39, 33, 26, 45, 23, 32, 1, 62, 57, 45, 38, 14, 7, 12, 16, 34, 34, 62, 45, 27, 50, 16, 60, 16, 6, 27, 29, 48, 48, 48, 39, 6, 58, 53, 60, 64, 43, 64, 26, 28, 55, 63, 40, 36, 2, 38, 43, 10, 39, 61, 31, 30, 14, 60, 42, 42, 2, 27, 51, 61, 52, 5, 53, 39, 14, 17, 32, 35, 50, 31, 20, 4, 3, 3, 19, 16, 15, 61, 4, 64, 30, 61, 52, 18, 6, 32, 63, 23, 50, 46, 54, 13, 28, 9, 28, 34, 15, 1, 44, 58, 7, 16, 48, 64, 26, 14, 11, 37, 49, 47, 1, 29, 15, 57, 15, 36, 32, 8, 37, 23, 51, 3, 18, 14, 61, 46, 14, 49, 36, 52, 8, 13, 38, 27, 12, 40, 50, 22, 17, 51, 18, 64, 20, 16, 58, 9, 18, 54, 54, 40, 17, 1, 1, 2, 36, 29, 14, 23, 33, 25, 27, 19, 13, 22, 53, 40, 23, 17, 56, 31, 10, 55, 9, 40, 20, 47, 57, 28, 64, 42, 22, 22, 24, 32, 20, 10, 32, 25, 63, 41, 44, 2, 8, 8, 5, 18, 61, 32, 49, 31, 35, 59, 18, 4, 6, 64, 14, 24, 64, 61, 36, 36, 56, 14, 46, 6, 4, 61, 57, 45, 50, 16, 55, 53, 36, 53, 19, 64, 50, 7, 35, 16, 25, 57, 6, 9, 50, 56, 52, 48, 40, 42, 27, 44, 2, 36, 20, 10, 17, 5, 53, 38, 30, 7, 20, 32, 25, 33, 37, 17, 22, 25, 36, 35, 50, 12, 8, 61, 3, 17, 34, 15, 61, 64, 52, 8, 28, 52, 13, 8, 26, 56, 4, 63, 24, 12, 36, 23, 5, 32, 36, 45, 38, 56, 53, 17, 42, 24, 7, 32, 15, 39, 50, 10, 64, 39, 16, 1, 58, 26, 64, 20, 59, 41, 38, 13, 64, 44, 35, 41, 48, 64, 47, 12, 64, 19, 48, 21, 9, 14, 51, 24, 40, 50, 3, 46, 35, 24, 47, 60, 18, 30, 16, 19, 26, 60, 31, 64, 52, 55, 64, 45, 9, 62, 18, 45, 46, 3, 45, 52, 45, 33, 42, 2, 2]\n"
     ]
    }
   ],
   "source": [
    "print(\"Вибірка\")\n",
    "print(a)"
   ],
   "metadata": {
    "collapsed": false,
    "ExecuteTime": {
     "end_time": "2024-02-23T17:10:57.477725800Z",
     "start_time": "2024-02-23T17:10:57.302713900Z"
    }
   },
   "id": "9b4a444ddaf34ffe"
  },
  {
   "cell_type": "code",
   "execution_count": 95,
   "outputs": [],
   "source": [
    "sorted_a = sorted(a)"
   ],
   "metadata": {
    "collapsed": false,
    "ExecuteTime": {
     "end_time": "2024-02-23T17:10:57.527729800Z",
     "start_time": "2024-02-23T17:10:57.330716800Z"
    }
   },
   "id": "3fd67a7f15d68980"
  },
  {
   "cell_type": "code",
   "execution_count": 96,
   "outputs": [
    {
     "name": "stdout",
     "output_type": "stream",
     "text": [
      "Варіаційний ряд\n",
      "[1, 1, 1, 1, 1, 1, 1, 1, 1, 1, 1, 1, 1, 1, 1, 1, 2, 2, 2, 2, 2, 2, 2, 2, 2, 2, 2, 2, 2, 2, 2, 2, 2, 2, 2, 2, 3, 3, 3, 3, 3, 3, 3, 3, 3, 3, 3, 3, 3, 3, 3, 3, 3, 3, 3, 4, 4, 4, 4, 4, 4, 4, 4, 4, 4, 4, 4, 4, 4, 4, 4, 5, 5, 5, 5, 5, 5, 5, 5, 5, 5, 5, 5, 5, 6, 6, 6, 6, 6, 6, 6, 6, 6, 6, 6, 6, 7, 7, 7, 7, 7, 7, 7, 7, 7, 7, 7, 7, 7, 7, 7, 7, 8, 8, 8, 8, 8, 8, 8, 8, 8, 8, 8, 8, 8, 8, 8, 8, 8, 8, 8, 8, 8, 9, 9, 9, 9, 9, 9, 9, 9, 9, 9, 9, 9, 9, 9, 9, 9, 9, 9, 9, 9, 10, 10, 10, 10, 10, 10, 10, 10, 10, 10, 11, 11, 11, 11, 11, 11, 12, 12, 12, 12, 12, 12, 12, 12, 12, 12, 12, 12, 12, 12, 13, 13, 13, 13, 13, 13, 13, 13, 13, 13, 13, 13, 14, 14, 14, 14, 14, 14, 14, 14, 14, 14, 14, 14, 14, 14, 14, 14, 14, 14, 14, 15, 15, 15, 15, 15, 15, 15, 15, 15, 15, 15, 15, 15, 15, 15, 15, 15, 15, 16, 16, 16, 16, 16, 16, 16, 16, 16, 16, 16, 16, 16, 16, 16, 16, 16, 16, 17, 17, 17, 17, 17, 17, 17, 17, 17, 17, 17, 17, 17, 17, 17, 18, 18, 18, 18, 18, 18, 18, 18, 18, 18, 18, 18, 18, 18, 18, 18, 18, 18, 18, 18, 18, 19, 19, 19, 19, 19, 19, 19, 19, 19, 19, 19, 19, 19, 19, 19, 20, 20, 20, 20, 20, 20, 20, 20, 20, 20, 20, 20, 20, 20, 20, 20, 20, 20, 21, 21, 21, 21, 21, 21, 22, 22, 22, 22, 22, 22, 22, 22, 22, 22, 22, 22, 22, 23, 23, 23, 23, 23, 23, 23, 23, 23, 23, 23, 23, 23, 23, 23, 23, 23, 23, 23, 24, 24, 24, 24, 24, 24, 24, 24, 24, 24, 24, 24, 24, 24, 24, 24, 24, 24, 24, 24, 25, 25, 25, 25, 25, 25, 25, 25, 25, 25, 25, 25, 26, 26, 26, 26, 26, 26, 26, 26, 26, 26, 26, 26, 26, 26, 26, 26, 26, 26, 27, 27, 27, 27, 27, 27, 27, 27, 27, 27, 27, 27, 27, 27, 27, 27, 27, 27, 28, 28, 28, 28, 28, 28, 28, 28, 28, 28, 28, 28, 28, 28, 29, 29, 29, 29, 29, 29, 29, 29, 29, 29, 29, 29, 29, 29, 29, 30, 30, 30, 30, 30, 30, 30, 30, 30, 30, 30, 30, 30, 31, 31, 31, 31, 31, 31, 31, 31, 31, 31, 31, 31, 31, 31, 31, 32, 32, 32, 32, 32, 32, 32, 32, 32, 32, 32, 32, 32, 32, 32, 32, 32, 32, 32, 32, 32, 33, 33, 33, 33, 33, 33, 33, 33, 33, 33, 33, 33, 33, 34, 34, 34, 34, 34, 34, 34, 34, 34, 34, 34, 34, 34, 35, 35, 35, 35, 35, 35, 35, 35, 35, 35, 35, 35, 35, 36, 36, 36, 36, 36, 36, 36, 36, 36, 36, 36, 36, 36, 36, 36, 36, 36, 36, 36, 36, 36, 37, 37, 37, 37, 37, 37, 37, 37, 37, 37, 37, 37, 37, 37, 38, 38, 38, 38, 38, 38, 38, 38, 38, 38, 39, 39, 39, 39, 39, 39, 39, 39, 39, 39, 39, 39, 39, 40, 40, 40, 40, 40, 40, 40, 40, 40, 40, 40, 40, 40, 40, 40, 40, 40, 40, 40, 41, 41, 41, 41, 41, 41, 41, 41, 41, 41, 41, 41, 41, 41, 41, 41, 42, 42, 42, 42, 42, 42, 42, 42, 42, 42, 42, 42, 42, 42, 42, 43, 43, 43, 43, 43, 43, 43, 43, 43, 43, 43, 43, 43, 44, 44, 44, 44, 44, 44, 44, 44, 44, 44, 44, 44, 44, 44, 44, 45, 45, 45, 45, 45, 45, 45, 45, 45, 45, 45, 45, 45, 45, 45, 45, 46, 46, 46, 46, 46, 46, 46, 46, 46, 46, 46, 46, 46, 46, 46, 47, 47, 47, 47, 47, 47, 47, 47, 47, 47, 47, 47, 47, 47, 47, 47, 48, 48, 48, 48, 48, 48, 48, 48, 48, 48, 48, 48, 48, 48, 48, 48, 48, 48, 48, 48, 48, 48, 48, 48, 48, 49, 49, 49, 49, 49, 49, 49, 49, 49, 49, 49, 49, 49, 49, 49, 49, 49, 49, 49, 49, 50, 50, 50, 50, 50, 50, 50, 50, 50, 50, 50, 50, 50, 50, 50, 50, 50, 50, 50, 50, 50, 51, 51, 51, 51, 51, 51, 51, 51, 51, 51, 51, 51, 51, 51, 51, 51, 51, 52, 52, 52, 52, 52, 52, 52, 52, 52, 52, 52, 52, 52, 52, 52, 52, 52, 52, 53, 53, 53, 53, 53, 53, 53, 53, 53, 53, 53, 53, 53, 53, 54, 54, 54, 54, 54, 54, 54, 54, 54, 54, 54, 54, 54, 55, 55, 55, 55, 55, 55, 55, 55, 55, 55, 55, 55, 56, 56, 56, 56, 56, 56, 56, 56, 56, 56, 56, 56, 56, 56, 56, 56, 57, 57, 57, 57, 57, 57, 57, 57, 57, 57, 57, 57, 57, 57, 57, 57, 58, 58, 58, 58, 58, 58, 58, 58, 58, 58, 59, 59, 59, 59, 59, 59, 59, 59, 59, 60, 60, 60, 60, 60, 60, 60, 60, 60, 60, 60, 60, 60, 60, 60, 61, 61, 61, 61, 61, 61, 61, 61, 61, 61, 61, 61, 61, 61, 61, 61, 61, 61, 61, 61, 61, 62, 62, 62, 62, 62, 62, 62, 62, 62, 62, 62, 62, 62, 63, 63, 63, 63, 63, 63, 63, 63, 63, 63, 63, 63, 63, 64, 64, 64, 64, 64, 64, 64, 64, 64, 64, 64, 64, 64, 64, 64, 64, 64, 64, 64, 64, 64, 64]\n"
     ]
    }
   ],
   "source": [
    "print(\"Варіаційний ряд\")\n",
    "print(sorted_a)"
   ],
   "metadata": {
    "collapsed": false,
    "ExecuteTime": {
     "end_time": "2024-02-23T17:10:57.532731Z",
     "start_time": "2024-02-23T17:10:57.342718500Z"
    }
   },
   "id": "e2ba1a2aae8c9dd6"
  },
  {
   "cell_type": "code",
   "execution_count": 97,
   "outputs": [],
   "source": [
    "def frequency_table(a):\n",
    "    res = {}\n",
    "    for i in a:\n",
    "        if i in res:\n",
    "            res[i] += 1\n",
    "        else:\n",
    "            res[i] = 1\n",
    "    return res"
   ],
   "metadata": {
    "collapsed": false,
    "ExecuteTime": {
     "end_time": "2024-02-23T17:10:57.658739100Z",
     "start_time": "2024-02-23T17:10:57.373720400Z"
    }
   },
   "id": "38199fe79a919457"
  },
  {
   "cell_type": "code",
   "execution_count": 98,
   "outputs": [
    {
     "name": "stdout",
     "output_type": "stream",
     "text": [
      "Таблиця частот\n",
      "Xi   Ni\n"
     ]
    },
    {
     "data": {
      "text/plain": "{1: 16,\n 2: 20,\n 3: 19,\n 4: 16,\n 5: 13,\n 6: 12,\n 7: 16,\n 8: 21,\n 9: 20,\n 10: 10,\n 11: 6,\n 12: 14,\n 13: 12,\n 14: 19,\n 15: 18,\n 16: 18,\n 17: 15,\n 18: 21,\n 19: 15,\n 20: 18,\n 21: 6,\n 22: 13,\n 23: 19,\n 24: 20,\n 25: 12,\n 26: 18,\n 27: 18,\n 28: 14,\n 29: 15,\n 30: 13,\n 31: 15,\n 32: 21,\n 33: 13,\n 34: 13,\n 35: 13,\n 36: 21,\n 37: 14,\n 38: 10,\n 39: 13,\n 40: 19,\n 41: 16,\n 42: 15,\n 43: 13,\n 44: 15,\n 45: 16,\n 46: 15,\n 47: 16,\n 48: 25,\n 49: 20,\n 50: 21,\n 51: 17,\n 52: 18,\n 53: 14,\n 54: 13,\n 55: 12,\n 56: 16,\n 57: 16,\n 58: 10,\n 59: 9,\n 60: 15,\n 61: 21,\n 62: 13,\n 63: 13,\n 64: 22}"
     },
     "execution_count": 98,
     "metadata": {},
     "output_type": "execute_result"
    }
   ],
   "source": [
    "print(\"Таблиця частот\")\n",
    "print(\"Xi   Ni\")\n",
    "frequency_table(sorted_a)"
   ],
   "metadata": {
    "collapsed": false,
    "ExecuteTime": {
     "end_time": "2024-02-23T17:10:57.661741Z",
     "start_time": "2024-02-23T17:10:57.391720300Z"
    }
   },
   "id": "6b2771f1cd3bc568"
  },
  {
   "cell_type": "code",
   "execution_count": 99,
   "outputs": [],
   "source": [
    "def frequency_diagram(a):\n",
    "    res = frequency_table(a)\n",
    "    plt.bar(res.keys(), res.values())\n",
    "    plt.show()"
   ],
   "metadata": {
    "collapsed": false,
    "ExecuteTime": {
     "end_time": "2024-02-23T17:10:57.662742700Z",
     "start_time": "2024-02-23T17:10:57.429723900Z"
    }
   },
   "id": "8066be9e2d70647a"
  },
  {
   "cell_type": "code",
   "execution_count": 100,
   "outputs": [
    {
     "data": {
      "text/plain": "<Figure size 640x480 with 1 Axes>",
      "image/png": "[encoded data removed]"
     },
     "metadata": {},
     "output_type": "display_data"
    }
   ],
   "source": [
    "frequency_diagram(sorted_a)"
   ],
   "metadata": {
    "collapsed": false,
    "ExecuteTime": {
     "end_time": "2024-02-23T17:10:58.208781200Z",
     "start_time": "2024-02-23T17:10:57.467725800Z"
    }
   },
   "id": "ac2c33965f655eaa"
  },
  {
   "cell_type": "code",
   "execution_count": 101,
   "outputs": [],
   "source": [
    "def frequency_polygon(a):\n",
    "    res = frequency_table(a)\n",
    "    plt.plot(res.keys(), res.values())\n",
    "    plt.show()"
   ],
   "metadata": {
    "collapsed": false,
    "ExecuteTime": {
     "end_time": "2024-02-23T17:10:58.209782300Z",
     "start_time": "2024-02-23T17:10:58.050767100Z"
    }
   },
   "id": "81bb3ade5a3bf535"
  },
  {
   "cell_type": "code",
   "execution_count": 102,
   "outputs": [
    {
     "data": {
      "text/plain": "<Figure size 640x480 with 1 Axes>",
      "image/png": "[encoded data removed]"
     },
     "metadata": {},
     "output_type": "display_data"
    }
   ],
   "source": [
    "frequency_polygon(sorted_a)"
   ],
   "metadata": {
    "collapsed": false,
    "ExecuteTime": {
     "end_time": "2024-02-23T17:10:59.119336400Z",
     "start_time": "2024-02-23T17:10:58.059769900Z"
    }
   },
   "id": "994b1d30c2eec52f"
  },
  {
   "cell_type": "code",
   "execution_count": 103,
   "outputs": [],
   "source": [
    "def probabilitys(a):\n",
    "    res = frequency_table(a)\n",
    "    for i in res:\n",
    "        res[i] /= len(a)\n",
    "    return res"
   ],
   "metadata": {
    "collapsed": false,
    "ExecuteTime": {
     "end_time": "2024-02-23T17:10:59.119336400Z",
     "start_time": "2024-02-23T17:10:58.654487100Z"
    }
   },
   "id": "36471bd096b4347f"
  },
  {
   "cell_type": "code",
   "execution_count": 104,
   "outputs": [
    {
     "data": {
      "text/plain": "{1: 0.016,\n 2: 0.02,\n 3: 0.019,\n 4: 0.016,\n 5: 0.013,\n 6: 0.012,\n 7: 0.016,\n 8: 0.021,\n 9: 0.02,\n 10: 0.01,\n 11: 0.006,\n 12: 0.014,\n 13: 0.012,\n 14: 0.019,\n 15: 0.018,\n 16: 0.018,\n 17: 0.015,\n 18: 0.021,\n 19: 0.015,\n 20: 0.018,\n 21: 0.006,\n 22: 0.013,\n 23: 0.019,\n 24: 0.02,\n 25: 0.012,\n 26: 0.018,\n 27: 0.018,\n 28: 0.014,\n 29: 0.015,\n 30: 0.013,\n 31: 0.015,\n 32: 0.021,\n 33: 0.013,\n 34: 0.013,\n 35: 0.013,\n 36: 0.021,\n 37: 0.014,\n 38: 0.01,\n 39: 0.013,\n 40: 0.019,\n 41: 0.016,\n 42: 0.015,\n 43: 0.013,\n 44: 0.015,\n 45: 0.016,\n 46: 0.015,\n 47: 0.016,\n 48: 0.025,\n 49: 0.02,\n 50: 0.021,\n 51: 0.017,\n 52: 0.018,\n 53: 0.014,\n 54: 0.013,\n 55: 0.012,\n 56: 0.016,\n 57: 0.016,\n 58: 0.01,\n 59: 0.009,\n 60: 0.015,\n 61: 0.021,\n 62: 0.013,\n 63: 0.013,\n 64: 0.022}"
     },
     "execution_count": 104,
     "metadata": {},
     "output_type": "execute_result"
    }
   ],
   "source": [
    "probabilitys(sorted_a)"
   ],
   "metadata": {
    "collapsed": false,
    "ExecuteTime": {
     "end_time": "2024-02-23T17:10:59.520282700Z",
     "start_time": "2024-02-23T17:10:58.853801100Z"
    }
   },
   "id": "ed975e780e956435"
  },
  {
   "cell_type": "code",
   "execution_count": 105,
   "outputs": [],
   "source": [
    "def empirical_distribution_function(a):\n",
    "    res = probabilitys(a)\n",
    "    x = list(res.keys())\n",
    "    y = list(res.values())\n",
    "    for i in range(1, len(y)):\n",
    "        y[i] += y[i-1]\n",
    "        y[i] = round(y[i], 2)\n",
    "    return dict(zip(x, y))"
   ],
   "metadata": {
    "collapsed": false,
    "ExecuteTime": {
     "end_time": "2024-02-23T17:10:59.640286900Z",
     "start_time": "2024-02-23T17:10:59.307364400Z"
    }
   },
   "id": "51ca802d7c0bbe22"
  },
  {
   "cell_type": "code",
   "execution_count": 106,
   "outputs": [
    {
     "data": {
      "text/plain": "{1: 0.016,\n 2: 0.04,\n 3: 0.06,\n 4: 0.08,\n 5: 0.09,\n 6: 0.1,\n 7: 0.12,\n 8: 0.14,\n 9: 0.16,\n 10: 0.17,\n 11: 0.18,\n 12: 0.19,\n 13: 0.2,\n 14: 0.22,\n 15: 0.24,\n 16: 0.26,\n 17: 0.28,\n 18: 0.3,\n 19: 0.32,\n 20: 0.34,\n 21: 0.35,\n 22: 0.36,\n 23: 0.38,\n 24: 0.4,\n 25: 0.41,\n 26: 0.43,\n 27: 0.45,\n 28: 0.46,\n 29: 0.48,\n 30: 0.49,\n 31: 0.51,\n 32: 0.53,\n 33: 0.54,\n 34: 0.55,\n 35: 0.56,\n 36: 0.58,\n 37: 0.59,\n 38: 0.6,\n 39: 0.61,\n 40: 0.63,\n 41: 0.65,\n 42: 0.67,\n 43: 0.68,\n 44: 0.7,\n 45: 0.72,\n 46: 0.73,\n 47: 0.75,\n 48: 0.78,\n 49: 0.8,\n 50: 0.82,\n 51: 0.84,\n 52: 0.86,\n 53: 0.87,\n 54: 0.88,\n 55: 0.89,\n 56: 0.91,\n 57: 0.93,\n 58: 0.94,\n 59: 0.95,\n 60: 0.96,\n 61: 0.98,\n 62: 0.99,\n 63: 1.0,\n 64: 1.02}"
     },
     "execution_count": 106,
     "metadata": {},
     "output_type": "execute_result"
    }
   ],
   "source": [
    "empirical_distribution_function(sorted_a)"
   ],
   "metadata": {
    "collapsed": false,
    "ExecuteTime": {
     "end_time": "2024-02-23T17:10:59.891326400Z",
     "start_time": "2024-02-23T17:10:59.638292Z"
    }
   },
   "id": "b05f97e00b46f1ff"
  },
  {
   "cell_type": "code",
   "execution_count": 107,
   "outputs": [],
   "source": [
    "def print_empirical_distribution_function(a):\n",
    "    res = empirical_distribution_function(a)\n",
    "    keys = list(res.keys())\n",
    "    vals = list(res.values())\n",
    "    print(f\"{0}, якщо x < {keys[0]}\")\n",
    "    for i in range(1, len(keys)):\n",
    "        print(f\"{vals[i-1]}, якщо {keys[i-1]} <= x < {keys[i]}\")\n",
    "    print(f\"{vals[-1]}, якщо x >= {keys[-1]}\")"
   ],
   "metadata": {
    "collapsed": false,
    "ExecuteTime": {
     "end_time": "2024-02-23T17:10:59.986333100Z",
     "start_time": "2024-02-23T17:10:59.886326400Z"
    }
   },
   "id": "92e5f3ca8e2bbcc"
  },
  {
   "cell_type": "code",
   "execution_count": 108,
   "outputs": [
    {
     "name": "stdout",
     "output_type": "stream",
     "text": [
      "0, якщо x < 1\n",
      "0.016, якщо 1 <= x < 2\n",
      "0.04, якщо 2 <= x < 3\n",
      "0.06, якщо 3 <= x < 4\n",
      "0.08, якщо 4 <= x < 5\n",
      "0.09, якщо 5 <= x < 6\n",
      "0.1, якщо 6 <= x < 7\n",
      "0.12, якщо 7 <= x < 8\n",
      "0.14, якщо 8 <= x < 9\n",
      "0.16, якщо 9 <= x < 10\n",
      "0.17, якщо 10 <= x < 11\n",
      "0.18, якщо 11 <= x < 12\n",
      "0.19, якщо 12 <= x < 13\n",
      "0.2, якщо 13 <= x < 14\n",
      "0.22, якщо 14 <= x < 15\n",
      "0.24, якщо 15 <= x < 16\n",
      "0.26, якщо 16 <= x < 17\n",
      "0.28, якщо 17 <= x < 18\n",
      "0.3, якщо 18 <= x < 19\n",
      "0.32, якщо 19 <= x < 20\n",
      "0.34, якщо 20 <= x < 21\n",
      "0.35, якщо 21 <= x < 22\n",
      "0.36, якщо 22 <= x < 23\n",
      "0.38, якщо 23 <= x < 24\n",
      "0.4, якщо 24 <= x < 25\n",
      "0.41, якщо 25 <= x < 26\n",
      "0.43, якщо 26 <= x < 27\n",
      "0.45, якщо 27 <= x < 28\n",
      "0.46, якщо 28 <= x < 29\n",
      "0.48, якщо 29 <= x < 30\n",
      "0.49, якщо 30 <= x < 31\n",
      "0.51, якщо 31 <= x < 32\n",
      "0.53, якщо 32 <= x < 33\n",
      "0.54, якщо 33 <= x < 34\n",
      "0.55, якщо 34 <= x < 35\n",
      "0.56, якщо 35 <= x < 36\n",
      "0.58, якщо 36 <= x < 37\n",
      "0.59, якщо 37 <= x < 38\n",
      "0.6, якщо 38 <= x < 39\n",
      "0.61, якщо 39 <= x < 40\n",
      "0.63, якщо 40 <= x < 41\n",
      "0.65, якщо 41 <= x < 42\n",
      "0.67, якщо 42 <= x < 43\n",
      "0.68, якщо 43 <= x < 44\n",
      "0.7, якщо 44 <= x < 45\n",
      "0.72, якщо 45 <= x < 46\n",
      "0.73, якщо 46 <= x < 47\n",
      "0.75, якщо 47 <= x < 48\n",
      "0.78, якщо 48 <= x < 49\n",
      "0.8, якщо 49 <= x < 50\n",
      "0.82, якщо 50 <= x < 51\n",
      "0.84, якщо 51 <= x < 52\n",
      "0.86, якщо 52 <= x < 53\n",
      "0.87, якщо 53 <= x < 54\n",
      "0.88, якщо 54 <= x < 55\n",
      "0.89, якщо 55 <= x < 56\n",
      "0.91, якщо 56 <= x < 57\n",
      "0.93, якщо 57 <= x < 58\n",
      "0.94, якщо 58 <= x < 59\n",
      "0.95, якщо 59 <= x < 60\n",
      "0.96, якщо 60 <= x < 61\n",
      "0.98, якщо 61 <= x < 62\n",
      "0.99, якщо 62 <= x < 63\n",
      "1.0, якщо 63 <= x < 64\n",
      "1.02, якщо x >= 64\n"
     ]
    }
   ],
   "source": [
    "print_empirical_distribution_function(sorted_a)"
   ],
   "metadata": {
    "collapsed": false,
    "ExecuteTime": {
     "end_time": "2024-02-23T17:11:00.196349500Z",
     "start_time": "2024-02-23T17:10:59.978334Z"
    }
   },
   "id": "e13f3e182251a069"
  },
  {
   "cell_type": "code",
   "execution_count": 109,
   "outputs": [],
   "source": [
    "def show_plot(a):\n",
    "    distinct_v = list(a.keys())\n",
    "    probs = list(a.values())\n",
    "\n",
    "    for i in range(len(distinct_v)-1):\n",
    "        plt.plot([distinct_v[i], distinct_v[i]], [probs[i], 0], linestyle='dashed')\n",
    "        plt.plot([distinct_v[i], distinct_v[i+1]], [probs[i],probs[i]], linestyle='solid')\n",
    "        \n",
    "    plt.plot([distinct_v[-1], distinct_v[-1]], [probs[-1], 0], linestyle='dashed')\n",
    "    plt.plot([distinct_v[-1], distinct_v[-1]+5], [probs[-1], probs[-1]], linestyle='solid')\n",
    "    plt.plot([distinct_v[0]-5, distinct_v[-1]+5], [0, 0], linestyle='solid')\n",
    "\n",
    "    plt.show()"
   ],
   "metadata": {
    "collapsed": false,
    "ExecuteTime": {
     "end_time": "2024-02-23T17:11:00.333357900Z",
     "start_time": "2024-02-23T17:11:00.183347900Z"
    }
   },
   "id": "97d6fdbf5ed61660"
  },
  {
   "cell_type": "code",
   "execution_count": 110,
   "outputs": [
    {
     "data": {
      "text/plain": "<Figure size 640x480 with 1 Axes>",
      "image/png": "[encoded data removed]"
     },
     "metadata": {},
     "output_type": "display_data"
    }
   ],
   "source": [
    "show_plot(empirical_distribution_function(sorted_a))"
   ],
   "metadata": {
    "collapsed": false,
    "ExecuteTime": {
     "end_time": "2024-02-23T17:11:00.824394800Z",
     "start_time": "2024-02-23T17:11:00.229353100Z"
    }
   },
   "id": "2087549d163e3511"
  },
  {
   "cell_type": "code",
   "execution_count": 111,
   "outputs": [],
   "source": [
    "#медіана\n",
    "def median(a):\n",
    "    n = len(a)\n",
    "    if n % 2 == 0:\n",
    "        return (a[n//2-1] + a[n//2])/2\n",
    "    else:\n",
    "        return a[n//2]"
   ],
   "metadata": {
    "collapsed": false,
    "ExecuteTime": {
     "end_time": "2024-02-23T17:11:00.895401100Z",
     "start_time": "2024-02-23T17:11:00.822400400Z"
    }
   },
   "id": "a9f80c34c1430a35"
  },
  {
   "cell_type": "code",
   "execution_count": 112,
   "outputs": [
    {
     "data": {
      "text/plain": "32.0"
     },
     "execution_count": 112,
     "metadata": {},
     "output_type": "execute_result"
    }
   ],
   "source": [
    "median(sorted_a)"
   ],
   "metadata": {
    "collapsed": false,
    "ExecuteTime": {
     "end_time": "2024-02-23T17:11:01.094596200Z",
     "start_time": "2024-02-23T17:11:00.843396200Z"
    }
   },
   "id": "a70c41b110c6a16"
  },
  {
   "cell_type": "code",
   "execution_count": 113,
   "outputs": [],
   "source": [
    "#мода\n",
    "def mode(a):\n",
    "    res = frequency_table(a)\n",
    "    max_freq = max(res.values())\n",
    "    return [i for i in res if res[i] == max_freq]"
   ],
   "metadata": {
    "collapsed": false,
    "ExecuteTime": {
     "end_time": "2024-02-23T17:11:01.136594700Z",
     "start_time": "2024-02-23T17:11:00.873399800Z"
    }
   },
   "id": "6ba4bcf7f014294b"
  },
  {
   "cell_type": "code",
   "execution_count": 114,
   "outputs": [
    {
     "data": {
      "text/plain": "[48]"
     },
     "execution_count": 114,
     "metadata": {},
     "output_type": "execute_result"
    }
   ],
   "source": [
    "mode(sorted_a)"
   ],
   "metadata": {
    "collapsed": false,
    "ExecuteTime": {
     "end_time": "2024-02-23T17:11:01.139594500Z",
     "start_time": "2024-02-23T17:11:00.903400600Z"
    }
   },
   "id": "ee33aaf624b26bbe"
  },
  {
   "cell_type": "code",
   "execution_count": 115,
   "outputs": [],
   "source": [
    "#вибіркове середнє значення\n",
    "def sample_mean(a):\n",
    "    res = frequency_table(a)\n",
    "    summ = 0\n",
    "    for i in res:\n",
    "        summ+=i*res[i]\n",
    "    return summ/len(a)"
   ],
   "metadata": {
    "collapsed": false,
    "ExecuteTime": {
     "end_time": "2024-02-23T17:11:01.139594500Z",
     "start_time": "2024-02-23T17:11:00.931580400Z"
    }
   },
   "id": "2737acb3286b1bd4"
  },
  {
   "cell_type": "code",
   "execution_count": 116,
   "outputs": [
    {
     "data": {
      "text/plain": "32.487"
     },
     "execution_count": 116,
     "metadata": {},
     "output_type": "execute_result"
    }
   ],
   "source": [
    "sample_mean(sorted_a)"
   ],
   "metadata": {
    "collapsed": false,
    "ExecuteTime": {
     "end_time": "2024-02-23T17:11:01.140594600Z",
     "start_time": "2024-02-23T17:11:00.948581Z"
    }
   },
   "id": "a9e3ef27bbb5204f"
  },
  {
   "cell_type": "code",
   "execution_count": 117,
   "outputs": [],
   "source": [
    "#девіація\n",
    "def deviation(a):\n",
    "    res = frequency_table(a)\n",
    "    mean = sample_mean(a)\n",
    "    return sum([((i - mean)**2) * res[i] for i in res])"
   ],
   "metadata": {
    "collapsed": false,
    "ExecuteTime": {
     "end_time": "2024-02-23T17:11:01.149597600Z",
     "start_time": "2024-02-23T17:11:00.966582800Z"
    }
   },
   "id": "52b3540bf9fa14f2"
  },
  {
   "cell_type": "code",
   "execution_count": 118,
   "outputs": [
    {
     "data": {
      "text/plain": "343553.83099999983"
     },
     "execution_count": 118,
     "metadata": {},
     "output_type": "execute_result"
    }
   ],
   "source": [
    "deviation(sorted_a)"
   ],
   "metadata": {
    "collapsed": false,
    "ExecuteTime": {
     "end_time": "2024-02-23T17:11:01.151597100Z",
     "start_time": "2024-02-23T17:11:00.992587500Z"
    }
   },
   "id": "62a754c9a97ddba7"
  },
  {
   "cell_type": "code",
   "execution_count": 119,
   "outputs": [],
   "source": [
    "#варіанса\n",
    "def variance(a):\n",
    "    return deviation(a)/(len(a)-1)"
   ],
   "metadata": {
    "collapsed": false,
    "ExecuteTime": {
     "end_time": "2024-02-23T17:11:01.179599400Z",
     "start_time": "2024-02-23T17:11:01.014585800Z"
    }
   },
   "id": "7a0bcafb9a23af1b"
  },
  {
   "cell_type": "code",
   "execution_count": 120,
   "outputs": [
    {
     "data": {
      "text/plain": "343.89772872872857"
     },
     "execution_count": 120,
     "metadata": {},
     "output_type": "execute_result"
    }
   ],
   "source": [
    "variance(sorted_a)"
   ],
   "metadata": {
    "collapsed": false,
    "ExecuteTime": {
     "end_time": "2024-02-23T17:11:01.180599Z",
     "start_time": "2024-02-23T17:11:01.029588400Z"
    }
   },
   "id": "be21bf80b71cd936"
  },
  {
   "cell_type": "code",
   "execution_count": 121,
   "outputs": [],
   "source": [
    "#стандарт\n",
    "def standard(a):\n",
    "    return math.sqrt(variance(a))"
   ],
   "metadata": {
    "collapsed": false,
    "ExecuteTime": {
     "end_time": "2024-02-23T17:11:01.181599100Z",
     "start_time": "2024-02-23T17:11:01.043588Z"
    }
   },
   "id": "c162186a88510961"
  },
  {
   "cell_type": "code",
   "execution_count": 122,
   "outputs": [
    {
     "data": {
      "text/plain": "18.544479737343092"
     },
     "execution_count": 122,
     "metadata": {},
     "output_type": "execute_result"
    }
   ],
   "source": [
    "standard(sorted_a)"
   ],
   "metadata": {
    "collapsed": false,
    "ExecuteTime": {
     "end_time": "2024-02-23T17:11:01.221601400Z",
     "start_time": "2024-02-23T17:11:01.079591Z"
    }
   },
   "id": "162a25806ddc0328"
  },
  {
   "cell_type": "code",
   "execution_count": 123,
   "outputs": [],
   "source": [
    "#варіація\n",
    "def variation(a):\n",
    "    return standard(a)/sample_mean(a)"
   ],
   "metadata": {
    "collapsed": false,
    "ExecuteTime": {
     "end_time": "2024-02-23T17:11:01.501622300Z",
     "start_time": "2024-02-23T17:11:01.096593900Z"
    }
   },
   "id": "98acc20db9a1bed4"
  },
  {
   "cell_type": "code",
   "execution_count": 124,
   "outputs": [
    {
     "data": {
      "text/plain": "0.5708277076166802"
     },
     "execution_count": 124,
     "metadata": {},
     "output_type": "execute_result"
    }
   ],
   "source": [
    "variation(sorted_a)"
   ],
   "metadata": {
    "collapsed": false,
    "ExecuteTime": {
     "end_time": "2024-02-23T17:11:01.828646300Z",
     "start_time": "2024-02-23T17:11:01.126594100Z"
    }
   },
   "id": "d16063a60ac0d83b"
  },
  {
   "cell_type": "code",
   "execution_count": 125,
   "outputs": [],
   "source": [
    "#вибіркова дисперсія\n",
    "def dispersion(a):\n",
    "    return deviation(a)/len(a)"
   ],
   "metadata": {
    "collapsed": false,
    "ExecuteTime": {
     "end_time": "2024-02-23T17:11:02.030660900Z",
     "start_time": "2024-02-23T17:11:01.162597800Z"
    }
   },
   "id": "79160d49cdfa313d"
  },
  {
   "cell_type": "code",
   "execution_count": 126,
   "outputs": [
    {
     "data": {
      "text/plain": "343.55383099999983"
     },
     "execution_count": 126,
     "metadata": {},
     "output_type": "execute_result"
    }
   ],
   "source": [
    "dispersion(sorted_a)"
   ],
   "metadata": {
    "collapsed": false,
    "ExecuteTime": {
     "end_time": "2024-02-23T17:11:02.080664100Z",
     "start_time": "2024-02-23T17:11:01.185598900Z"
    }
   },
   "id": "49e7653d9da02e4e"
  },
  {
   "cell_type": "code",
   "execution_count": 127,
   "outputs": [],
   "source": [
    "#вибіркове середнє квадратичне відхилення\n",
    "def mean_square_deviation(a):\n",
    "    return math.sqrt(dispersion(a))"
   ],
   "metadata": {
    "collapsed": false,
    "ExecuteTime": {
     "end_time": "2024-02-23T17:11:02.081663700Z",
     "start_time": "2024-02-23T17:11:01.238604600Z"
    }
   },
   "id": "8caf3e16d7adc956"
  },
  {
   "cell_type": "code",
   "execution_count": 128,
   "outputs": [
    {
     "data": {
      "text/plain": "18.5352051782547"
     },
     "execution_count": 128,
     "metadata": {},
     "output_type": "execute_result"
    }
   ],
   "source": [
    "mean_square_deviation(sorted_a)"
   ],
   "metadata": {
    "collapsed": false,
    "ExecuteTime": {
     "end_time": "2024-02-23T17:11:02.084664100Z",
     "start_time": "2024-02-23T17:11:01.248604100Z"
    }
   },
   "id": "5c5a43c97754c023"
  },
  {
   "cell_type": "code",
   "execution_count": 129,
   "outputs": [],
   "source": [
    "#центральний момент k-го порядку\n",
    "def central_moment(a, k):\n",
    "    res = frequency_table(a)\n",
    "    mean = sample_mean(a)\n",
    "    return sum([((i - mean)**k)*res[i] for i in res])/len(a)"
   ],
   "metadata": {
    "collapsed": false,
    "ExecuteTime": {
     "end_time": "2024-02-23T17:11:02.089664500Z",
     "start_time": "2024-02-23T17:11:01.280606200Z"
    }
   },
   "id": "a7f7ba312d6eba5d"
  },
  {
   "cell_type": "code",
   "execution_count": 130,
   "outputs": [
    {
     "data": {
      "text/plain": "343.55383099999983"
     },
     "execution_count": 130,
     "metadata": {},
     "output_type": "execute_result"
    }
   ],
   "source": [
    "central_moment(sorted_a, 2)"
   ],
   "metadata": {
    "collapsed": false,
    "ExecuteTime": {
     "end_time": "2024-02-23T17:11:02.097666Z",
     "start_time": "2024-02-23T17:11:01.317608300Z"
    }
   },
   "id": "ec993fb1085f874f"
  },
  {
   "cell_type": "code",
   "execution_count": 131,
   "outputs": [],
   "source": [
    "#асиметрія\n",
    "def skewness(a):\n",
    "    return central_moment(a, 3)/((central_moment(a, 2)**(3/2)))\n"
   ],
   "metadata": {
    "collapsed": false,
    "ExecuteTime": {
     "end_time": "2024-02-23T17:11:02.098667600Z",
     "start_time": "2024-02-23T17:11:01.348611100Z"
    }
   },
   "id": "871791bd8e41607b"
  },
  {
   "cell_type": "code",
   "execution_count": 132,
   "outputs": [
    {
     "data": {
      "text/plain": "-0.01562549258714527"
     },
     "execution_count": 132,
     "metadata": {},
     "output_type": "execute_result"
    }
   ],
   "source": [
    "skewness(sorted_a)"
   ],
   "metadata": {
    "collapsed": false,
    "ExecuteTime": {
     "end_time": "2024-02-23T17:11:02.103666800Z",
     "start_time": "2024-02-23T17:11:01.364612100Z"
    }
   },
   "id": "ebf30c222c746455"
  },
  {
   "cell_type": "code",
   "execution_count": 133,
   "outputs": [],
   "source": [
    "#ексцес\n",
    "def kurtosis(a):\n",
    "    return (central_moment(a, 4)/((central_moment(a, 2)**2))) - 3"
   ],
   "metadata": {
    "collapsed": false,
    "ExecuteTime": {
     "end_time": "2024-02-23T17:11:02.104666200Z",
     "start_time": "2024-02-23T17:11:01.395614600Z"
    }
   },
   "id": "9bfc74afe727bd16"
  },
  {
   "cell_type": "code",
   "execution_count": 134,
   "outputs": [
    {
     "data": {
      "text/plain": "-1.1947496273008105"
     },
     "execution_count": 134,
     "metadata": {},
     "output_type": "execute_result"
    }
   ],
   "source": [
    "kurtosis(sorted_a)"
   ],
   "metadata": {
    "collapsed": false,
    "ExecuteTime": {
     "end_time": "2024-02-23T17:11:02.107667100Z",
     "start_time": "2024-02-23T17:11:01.408615700Z"
    }
   },
   "id": "3eea032c6d1e4634"
  },
  {
   "cell_type": "code",
   "execution_count": 135,
   "outputs": [],
   "source": [
    "#розмах\n",
    "def rrange(a):\n",
    "    return max(a) - min(a)"
   ],
   "metadata": {
    "collapsed": false,
    "ExecuteTime": {
     "end_time": "2024-02-23T17:11:02.108667800Z",
     "start_time": "2024-02-23T17:11:01.440618700Z"
    }
   },
   "id": "b2b268583ab32591"
  },
  {
   "cell_type": "code",
   "execution_count": 136,
   "outputs": [
    {
     "data": {
      "text/plain": "63"
     },
     "execution_count": 136,
     "metadata": {},
     "output_type": "execute_result"
    }
   ],
   "source": [
    "rrange(sorted_a)"
   ],
   "metadata": {
    "collapsed": false,
    "ExecuteTime": {
     "end_time": "2024-02-23T17:11:02.149669Z",
     "start_time": "2024-02-23T17:11:01.452618100Z"
    }
   },
   "id": "a2db7c0b49810a47"
  },
  {
   "cell_type": "code",
   "execution_count": 137,
   "outputs": [],
   "source": [
    "def get_quantiles(a):\n",
    "    data = {(4, \"Квартил\"): [], (8, \"Октил\"): [], (10, \"Децил\"): [],\n",
    "            (100, \"Центил\"): [], (1000, \"Міліл\"): []}\n",
    "\n",
    "    for k in data.keys():\n",
    "        if len(a) % k[0] == 0:\n",
    "            data[k] = [a[int(len(a) / k[0] * (i + 1))] for i in range(k[0] - 1)]\n",
    "\n",
    "    for k, v in data.items():\n",
    "        if v:\n",
    "            print(f\"{k[1]}і: {v}\")\n",
    "            print(f\"Інтер{k[1].lower()}ьна широта: {v[len(v) - 1] - v[0]}\\n\")"
   ],
   "metadata": {
    "collapsed": false,
    "ExecuteTime": {
     "end_time": "2024-02-23T17:11:02.149669Z",
     "start_time": "2024-02-23T17:11:01.484621200Z"
    }
   },
   "id": "b64952f2b82eda27"
  },
  {
   "cell_type": "code",
   "execution_count": 138,
   "outputs": [
    {
     "name": "stdout",
     "output_type": "stream",
     "text": [
      "Квартилі: [17, 32, 49]\n",
      "Інтерквартильна широта: 32\n",
      "\n",
      "Октилі: [8, 17, 24, 32, 41, 49, 56]\n",
      "Інтероктильна широта: 48\n",
      "\n",
      "Децилі: [7, 14, 19, 26, 32, 40, 46, 51, 58]\n",
      "Інтердецильна широта: 51\n",
      "\n",
      "Центилі: [1, 2, 2, 3, 3, 4, 4, 5, 6, 7, 7, 8, 8, 9, 9, 10, 12, 12, 13, 14, 14, 15, 15, 16, 17, 17, 18, 18, 19, 19, 20, 21, 22, 23, 23, 24, 24, 25, 26, 26, 27, 27, 28, 29, 29, 30, 31, 31, 32, 32, 33, 34, 35, 35, 36, 36, 37, 38, 39, 40, 40, 41, 41, 42, 43, 43, 44, 45, 45, 46, 47, 47, 48, 48, 49, 49, 50, 50, 50, 51, 52, 52, 53, 54, 54, 55, 56, 56, 57, 58, 59, 60, 60, 61, 61, 62, 63, 64, 64]\n",
      "Інтерцентильна широта: 63\n",
      "\n",
      "Мілілі: [1, 1, 1, 1, 1, 1, 1, 1, 1, 1, 1, 1, 1, 1, 1, 2, 2, 2, 2, 2, 2, 2, 2, 2, 2, 2, 2, 2, 2, 2, 2, 2, 2, 2, 2, 3, 3, 3, 3, 3, 3, 3, 3, 3, 3, 3, 3, 3, 3, 3, 3, 3, 3, 3, 4, 4, 4, 4, 4, 4, 4, 4, 4, 4, 4, 4, 4, 4, 4, 4, 5, 5, 5, 5, 5, 5, 5, 5, 5, 5, 5, 5, 5, 6, 6, 6, 6, 6, 6, 6, 6, 6, 6, 6, 6, 7, 7, 7, 7, 7, 7, 7, 7, 7, 7, 7, 7, 7, 7, 7, 7, 8, 8, 8, 8, 8, 8, 8, 8, 8, 8, 8, 8, 8, 8, 8, 8, 8, 8, 8, 8, 8, 9, 9, 9, 9, 9, 9, 9, 9, 9, 9, 9, 9, 9, 9, 9, 9, 9, 9, 9, 9, 10, 10, 10, 10, 10, 10, 10, 10, 10, 10, 11, 11, 11, 11, 11, 11, 12, 12, 12, 12, 12, 12, 12, 12, 12, 12, 12, 12, 12, 12, 13, 13, 13, 13, 13, 13, 13, 13, 13, 13, 13, 13, 14, 14, 14, 14, 14, 14, 14, 14, 14, 14, 14, 14, 14, 14, 14, 14, 14, 14, 14, 15, 15, 15, 15, 15, 15, 15, 15, 15, 15, 15, 15, 15, 15, 15, 15, 15, 15, 16, 16, 16, 16, 16, 16, 16, 16, 16, 16, 16, 16, 16, 16, 16, 16, 16, 16, 17, 17, 17, 17, 17, 17, 17, 17, 17, 17, 17, 17, 17, 17, 17, 18, 18, 18, 18, 18, 18, 18, 18, 18, 18, 18, 18, 18, 18, 18, 18, 18, 18, 18, 18, 18, 19, 19, 19, 19, 19, 19, 19, 19, 19, 19, 19, 19, 19, 19, 19, 20, 20, 20, 20, 20, 20, 20, 20, 20, 20, 20, 20, 20, 20, 20, 20, 20, 20, 21, 21, 21, 21, 21, 21, 22, 22, 22, 22, 22, 22, 22, 22, 22, 22, 22, 22, 22, 23, 23, 23, 23, 23, 23, 23, 23, 23, 23, 23, 23, 23, 23, 23, 23, 23, 23, 23, 24, 24, 24, 24, 24, 24, 24, 24, 24, 24, 24, 24, 24, 24, 24, 24, 24, 24, 24, 24, 25, 25, 25, 25, 25, 25, 25, 25, 25, 25, 25, 25, 26, 26, 26, 26, 26, 26, 26, 26, 26, 26, 26, 26, 26, 26, 26, 26, 26, 26, 27, 27, 27, 27, 27, 27, 27, 27, 27, 27, 27, 27, 27, 27, 27, 27, 27, 27, 28, 28, 28, 28, 28, 28, 28, 28, 28, 28, 28, 28, 28, 28, 29, 29, 29, 29, 29, 29, 29, 29, 29, 29, 29, 29, 29, 29, 29, 30, 30, 30, 30, 30, 30, 30, 30, 30, 30, 30, 30, 30, 31, 31, 31, 31, 31, 31, 31, 31, 31, 31, 31, 31, 31, 31, 31, 32, 32, 32, 32, 32, 32, 32, 32, 32, 32, 32, 32, 32, 32, 32, 32, 32, 32, 32, 32, 32, 33, 33, 33, 33, 33, 33, 33, 33, 33, 33, 33, 33, 33, 34, 34, 34, 34, 34, 34, 34, 34, 34, 34, 34, 34, 34, 35, 35, 35, 35, 35, 35, 35, 35, 35, 35, 35, 35, 35, 36, 36, 36, 36, 36, 36, 36, 36, 36, 36, 36, 36, 36, 36, 36, 36, 36, 36, 36, 36, 36, 37, 37, 37, 37, 37, 37, 37, 37, 37, 37, 37, 37, 37, 37, 38, 38, 38, 38, 38, 38, 38, 38, 38, 38, 39, 39, 39, 39, 39, 39, 39, 39, 39, 39, 39, 39, 39, 40, 40, 40, 40, 40, 40, 40, 40, 40, 40, 40, 40, 40, 40, 40, 40, 40, 40, 40, 41, 41, 41, 41, 41, 41, 41, 41, 41, 41, 41, 41, 41, 41, 41, 41, 42, 42, 42, 42, 42, 42, 42, 42, 42, 42, 42, 42, 42, 42, 42, 43, 43, 43, 43, 43, 43, 43, 43, 43, 43, 43, 43, 43, 44, 44, 44, 44, 44, 44, 44, 44, 44, 44, 44, 44, 44, 44, 44, 45, 45, 45, 45, 45, 45, 45, 45, 45, 45, 45, 45, 45, 45, 45, 45, 46, 46, 46, 46, 46, 46, 46, 46, 46, 46, 46, 46, 46, 46, 46, 47, 47, 47, 47, 47, 47, 47, 47, 47, 47, 47, 47, 47, 47, 47, 47, 48, 48, 48, 48, 48, 48, 48, 48, 48, 48, 48, 48, 48, 48, 48, 48, 48, 48, 48, 48, 48, 48, 48, 48, 48, 49, 49, 49, 49, 49, 49, 49, 49, 49, 49, 49, 49, 49, 49, 49, 49, 49, 49, 49, 49, 50, 50, 50, 50, 50, 50, 50, 50, 50, 50, 50, 50, 50, 50, 50, 50, 50, 50, 50, 50, 50, 51, 51, 51, 51, 51, 51, 51, 51, 51, 51, 51, 51, 51, 51, 51, 51, 51, 52, 52, 52, 52, 52, 52, 52, 52, 52, 52, 52, 52, 52, 52, 52, 52, 52, 52, 53, 53, 53, 53, 53, 53, 53, 53, 53, 53, 53, 53, 53, 53, 54, 54, 54, 54, 54, 54, 54, 54, 54, 54, 54, 54, 54, 55, 55, 55, 55, 55, 55, 55, 55, 55, 55, 55, 55, 56, 56, 56, 56, 56, 56, 56, 56, 56, 56, 56, 56, 56, 56, 56, 56, 57, 57, 57, 57, 57, 57, 57, 57, 57, 57, 57, 57, 57, 57, 57, 57, 58, 58, 58, 58, 58, 58, 58, 58, 58, 58, 59, 59, 59, 59, 59, 59, 59, 59, 59, 60, 60, 60, 60, 60, 60, 60, 60, 60, 60, 60, 60, 60, 60, 60, 61, 61, 61, 61, 61, 61, 61, 61, 61, 61, 61, 61, 61, 61, 61, 61, 61, 61, 61, 61, 61, 62, 62, 62, 62, 62, 62, 62, 62, 62, 62, 62, 62, 62, 63, 63, 63, 63, 63, 63, 63, 63, 63, 63, 63, 63, 63, 64, 64, 64, 64, 64, 64, 64, 64, 64, 64, 64, 64, 64, 64, 64, 64, 64, 64, 64, 64, 64, 64]\n",
      "Інтермілільна широта: 63\n"
     ]
    }
   ],
   "source": [
    "get_quantiles(sorted_a)"
   ],
   "metadata": {
    "collapsed": false,
    "ExecuteTime": {
     "end_time": "2024-02-23T17:11:02.621709200Z",
     "start_time": "2024-02-23T17:11:01.500625600Z"
    }
   },
   "id": "8ddc5999c0eaeffc"
  },
  {
   "cell_type": "code",
   "execution_count": 139,
   "outputs": [],
   "source": [
    "#інтервальний розподіл\n",
    "def interval_distribution(a):\n",
    "    n = len(a)\n",
    "    k = math.ceil(math.log2(n))\n",
    "    h = (max(a) - min(a)) / k\n",
    "    intervals = [min(a) + h * i for i in range(k + 1)]\n",
    "    freq = [0] * k\n",
    "    res = frequency_table(a)\n",
    "    for i in res:\n",
    "        for j in range(k):\n",
    "            if intervals[j] <= i < intervals[j + 1]:\n",
    "                freq[j] += res[i]\n",
    "                break\n",
    "    freq[-1] += res[max(a)]\n",
    "    return intervals, freq"
   ],
   "metadata": {
    "collapsed": false,
    "ExecuteTime": {
     "end_time": "2024-02-23T17:11:02.622704600Z",
     "start_time": "2024-02-23T17:11:01.574627200Z"
    }
   },
   "id": "c1dd49fe25af49d0"
  },
  {
   "cell_type": "code",
   "execution_count": 140,
   "outputs": [
    {
     "data": {
      "text/plain": "([1.0,\n  7.3,\n  13.6,\n  19.9,\n  26.2,\n  32.5,\n  38.8,\n  45.1,\n  51.4,\n  57.699999999999996,\n  64.0],\n [112, 83, 106, 106, 96, 84, 107, 114, 89, 103])"
     },
     "execution_count": 140,
     "metadata": {},
     "output_type": "execute_result"
    }
   ],
   "source": [
    "interval_distribution(sorted_a)"
   ],
   "metadata": {
    "collapsed": false,
    "ExecuteTime": {
     "end_time": "2024-02-23T17:11:02.776715100Z",
     "start_time": "2024-02-23T17:11:01.598627900Z"
    }
   },
   "id": "8507a18ea614cc3b"
  },
  {
   "cell_type": "code",
   "execution_count": 141,
   "outputs": [],
   "source": [
    "def print_interval_distribution(a):\n",
    "    intervals, freq = interval_distribution(a)\n",
    "    for i in range(len(intervals) - 1):\n",
    "        print(f\"{intervals[i]} - {intervals[i + 1]}: {freq[i]}\")"
   ],
   "metadata": {
    "collapsed": false,
    "ExecuteTime": {
     "end_time": "2024-02-23T17:11:02.777716300Z",
     "start_time": "2024-02-23T17:11:01.632633200Z"
    }
   },
   "id": "94b023a4ec1ce8f1"
  },
  {
   "cell_type": "code",
   "execution_count": 142,
   "outputs": [
    {
     "name": "stdout",
     "output_type": "stream",
     "text": [
      "1.0 - 7.3: 112\n",
      "7.3 - 13.6: 83\n",
      "13.6 - 19.9: 106\n",
      "19.9 - 26.2: 106\n",
      "26.2 - 32.5: 96\n",
      "32.5 - 38.8: 84\n",
      "38.8 - 45.1: 107\n",
      "45.1 - 51.4: 114\n",
      "51.4 - 57.699999999999996: 89\n",
      "57.699999999999996 - 64.0: 103\n"
     ]
    }
   ],
   "source": [
    "print_interval_distribution(sorted_a)"
   ],
   "metadata": {
    "collapsed": false,
    "ExecuteTime": {
     "end_time": "2024-02-23T17:11:02.779716400Z",
     "start_time": "2024-02-23T17:11:01.658633200Z"
    }
   },
   "id": "1e624e9f3fe32210"
  },
  {
   "cell_type": "code",
   "execution_count": 143,
   "outputs": [],
   "source": [
    "#гістограма інтервального розподілу\n",
    "def histogram(a):\n",
    "    intervals, freq = interval_distribution(a)\n",
    "    plt.bar(intervals[:-1], freq, width=intervals[1] - intervals[0], align='edge')\n",
    "    plt.xticks(intervals)\n",
    "    plt.yticks(freq)\n",
    "    plt.show()"
   ],
   "metadata": {
    "collapsed": false,
    "ExecuteTime": {
     "end_time": "2024-02-23T17:11:02.780716100Z",
     "start_time": "2024-02-23T17:11:01.674635600Z"
    }
   },
   "id": "2451d85f4e9099fe"
  },
  {
   "cell_type": "code",
   "execution_count": 144,
   "outputs": [
    {
     "data": {
      "text/plain": "<Figure size 640x480 with 1 Axes>",
      "image/png": "[encoded data removed]"
     },
     "metadata": {},
     "output_type": "display_data"
    }
   ],
   "source": [
    "histogram(sorted_a)"
   ],
   "metadata": {
    "collapsed": false,
    "ExecuteTime": {
     "end_time": "2024-02-23T17:11:03.682785600Z",
     "start_time": "2024-02-23T17:11:01.709639700Z"
    }
   },
   "id": "40579fff6060cd27"
  },
  {
   "cell_type": "code",
   "execution_count": 145,
   "outputs": [],
   "source": [
    "#графік емпіричної функція розподілу\n",
    "def empirical_distribution_function_plot(a):\n",
    "    x,freq = interval_distribution(a)\n",
    "    freqq = []\n",
    "    freqq.append(0)\n",
    "    for i in range(len(freq)):\n",
    "        freqq.append(freqq[-1]+freq[i])\n",
    "    freq = freqq\n",
    "    freq = [i/len(a) for i in freq]\n",
    "    plt.plot(x, freq)\n",
    "    plt.show()"
   ],
   "metadata": {
    "collapsed": false,
    "ExecuteTime": {
     "end_time": "2024-02-23T17:11:03.684783400Z",
     "start_time": "2024-02-23T17:11:02.184672400Z"
    }
   },
   "id": "fd7b2d8e5c8f93f4"
  },
  {
   "cell_type": "code",
   "execution_count": 146,
   "outputs": [
    {
     "data": {
      "text/plain": "<Figure size 640x480 with 1 Axes>",
      "image/png": "[encoded data removed]"
     },
     "metadata": {},
     "output_type": "display_data"
    }
   ],
   "source": [
    "empirical_distribution_function_plot(sorted_a)"
   ],
   "metadata": {
    "collapsed": false,
    "ExecuteTime": {
     "end_time": "2024-02-23T17:11:04.680855700Z",
     "start_time": "2024-02-23T17:11:02.216674300Z"
    }
   },
   "id": "b187357c7f61a985"
  },
  {
   "cell_type": "code",
   "execution_count": 147,
   "outputs": [],
   "source": [
    "#інтервальний розподіл зведений до дискретного\n",
    "def interval_distribution_discrete(a):\n",
    "    intervals, freq = interval_distribution(a)\n",
    "    x = [(intervals[i] + intervals[i + 1]) / 2 for i in range(len(intervals) - 1)]\n",
    "    return x, freq"
   ],
   "metadata": {
    "collapsed": false,
    "ExecuteTime": {
     "end_time": "2024-02-23T17:11:04.681856300Z",
     "start_time": "2024-02-23T17:11:03.154743100Z"
    }
   },
   "id": "c4511f006f1240a8"
  },
  {
   "cell_type": "code",
   "execution_count": 148,
   "outputs": [
    {
     "data": {
      "text/plain": "([4.15,\n  10.45,\n  16.75,\n  23.049999999999997,\n  29.35,\n  35.65,\n  41.95,\n  48.25,\n  54.55,\n  60.849999999999994],\n [112, 83, 106, 106, 96, 84, 107, 114, 89, 103])"
     },
     "execution_count": 148,
     "metadata": {},
     "output_type": "execute_result"
    }
   ],
   "source": [
    "interval_distribution_discrete(sorted_a)"
   ],
   "metadata": {
    "collapsed": false,
    "ExecuteTime": {
     "end_time": "2024-02-23T17:11:04.682859700Z",
     "start_time": "2024-02-23T17:11:03.214748700Z"
    }
   },
   "id": "cce369b2b3fa51c5"
  },
  {
   "cell_type": "code",
   "execution_count": 149,
   "outputs": [],
   "source": [
    "def find_interval(a):\n",
    "    x, freq = interval_distribution(a)\n",
    "    n = len(a)\n",
    "    for i in range(2,len(freq)):\n",
    "        if sum(freq[:i-1]) < n /2 and sum(freq[i:]) < n / 2:\n",
    "            return x[i-1], x[i], freq[i-1], sum(freq[:i-1])    \n",
    "            break"
   ],
   "metadata": {
    "collapsed": false,
    "ExecuteTime": {
     "end_time": "2024-02-23T17:11:04.683856500Z",
     "start_time": "2024-02-23T17:11:03.280755700Z"
    }
   },
   "id": "d3ec5ce35d9f181b"
  },
  {
   "cell_type": "code",
   "execution_count": 150,
   "outputs": [],
   "source": [
    "def median_interval(a):\n",
    "    n = len(a)\n",
    "    x1, x2, x3, x4 = find_interval(a)\n",
    "    return x1 + (n/2 - x4) * (x2 - x1) / x3"
   ],
   "metadata": {
    "collapsed": false,
    "ExecuteTime": {
     "end_time": "2024-02-23T17:11:04.684855800Z",
     "start_time": "2024-02-23T17:11:03.331757800Z"
    }
   },
   "id": "7b35a4fe910f3db8"
  },
  {
   "cell_type": "code",
   "execution_count": 151,
   "outputs": [
    {
     "data": {
      "text/plain": "32.303125"
     },
     "execution_count": 151,
     "metadata": {},
     "output_type": "execute_result"
    }
   ],
   "source": [
    "median_interval(sorted_a)"
   ],
   "metadata": {
    "collapsed": false,
    "ExecuteTime": {
     "end_time": "2024-02-23T17:11:04.685861600Z",
     "start_time": "2024-02-23T17:11:03.362759300Z"
    }
   },
   "id": "d809ab341894ad0a"
  },
  {
   "cell_type": "code",
   "execution_count": 152,
   "outputs": [],
   "source": [
    "def find_mode_interval(a):\n",
    "    x, freq = interval_distribution(a)\n",
    "    res = {}\n",
    "    max_freq = max(freq)\n",
    "    for i in range(len(freq)):\n",
    "        if freq[i] == max_freq:\n",
    "            if i == 0:\n",
    "                res[(x[i], x[i+1])] = [0, freq[i], freq[i+1]]\n",
    "            elif i == len(freq) - 1:\n",
    "                res[(x[i], x[i+1])] = [freq[i-1], freq[i], 0]\n",
    "            else:\n",
    "                res[(x[i], x[i+1])] = [freq[i-1], freq[i], freq[i+1]]\n",
    "    return res"
   ],
   "metadata": {
    "collapsed": false,
    "ExecuteTime": {
     "end_time": "2024-02-23T17:11:04.694858900Z",
     "start_time": "2024-02-23T17:11:03.395767500Z"
    }
   },
   "id": "d198e06285707fc"
  },
  {
   "cell_type": "code",
   "execution_count": 153,
   "outputs": [
    {
     "data": {
      "text/plain": "{(45.1, 51.4): [107, 114, 89]}"
     },
     "execution_count": 153,
     "metadata": {},
     "output_type": "execute_result"
    }
   ],
   "source": [
    "find_mode_interval(sorted_a)"
   ],
   "metadata": {
    "collapsed": false,
    "ExecuteTime": {
     "end_time": "2024-02-23T17:11:04.695857500Z",
     "start_time": "2024-02-23T17:11:03.419765600Z"
    }
   },
   "id": "244d89f21d0628b0"
  },
  {
   "cell_type": "code",
   "execution_count": 154,
   "outputs": [],
   "source": [
    "def mode_interval(a):\n",
    "    res = find_mode_interval(a)\n",
    "    ans = []\n",
    "    for i in res:\n",
    "        ans.append(i[0]+((res[i][1]-res[i][0])/(2*res[i][1]-res[i][0]-res[i][2]))*(i[1]-i[0]))\n",
    "    return ans"
   ],
   "metadata": {
    "collapsed": false,
    "ExecuteTime": {
     "end_time": "2024-02-23T17:11:04.696856Z",
     "start_time": "2024-02-23T17:11:03.454766700Z"
    }
   },
   "id": "c0fe2de60639f242"
  },
  {
   "cell_type": "code",
   "execution_count": 155,
   "outputs": [
    {
     "data": {
      "text/plain": "[46.478125]"
     },
     "execution_count": 155,
     "metadata": {},
     "output_type": "execute_result"
    }
   ],
   "source": [
    "mode_interval(sorted_a)"
   ],
   "metadata": {
    "collapsed": false,
    "ExecuteTime": {
     "end_time": "2024-02-23T17:11:04.697857900Z",
     "start_time": "2024-02-23T17:11:03.488768300Z"
    }
   },
   "id": "547f13137d60b69b"
  },
  {
   "cell_type": "code",
   "execution_count": 156,
   "outputs": [],
   "source": [
    "#вибіркове середнє значення з інтервального розподілу\n",
    "def sample_mean_interval(a):\n",
    "    x, freq = interval_distribution_discrete(a)\n",
    "    summ = 0\n",
    "    for i in range(len(x)):\n",
    "        summ+=x[i]*freq[i]\n",
    "    return summ/sum(freq)"
   ],
   "metadata": {
    "collapsed": false,
    "ExecuteTime": {
     "end_time": "2024-02-23T17:11:04.698857500Z",
     "start_time": "2024-02-23T17:11:03.516771Z"
    }
   },
   "id": "553468212de54ba8"
  },
  {
   "cell_type": "code",
   "execution_count": 157,
   "outputs": [
    {
     "data": {
      "text/plain": "32.4748"
     },
     "execution_count": 157,
     "metadata": {},
     "output_type": "execute_result"
    }
   ],
   "source": [
    "sample_mean_interval(sorted_a)"
   ],
   "metadata": {
    "collapsed": false,
    "ExecuteTime": {
     "end_time": "2024-02-23T17:11:04.699857600Z",
     "start_time": "2024-02-23T17:11:03.548772Z"
    }
   },
   "id": "94e4fdd8de977b3c"
  },
  {
   "cell_type": "code",
   "execution_count": 158,
   "outputs": [],
   "source": [
    "#розмах з інтервального розподілу\n",
    "def rrange_interval(a):\n",
    "    x, freq = interval_distribution_discrete(a)\n",
    "    return x[-1] - x[0]"
   ],
   "metadata": {
    "collapsed": false,
    "ExecuteTime": {
     "end_time": "2024-02-23T17:11:04.705857100Z",
     "start_time": "2024-02-23T17:11:03.582775Z"
    }
   },
   "id": "c9a97d6d58608bc"
  },
  {
   "cell_type": "code",
   "execution_count": 159,
   "outputs": [
    {
     "data": {
      "text/plain": "56.699999999999996"
     },
     "execution_count": 159,
     "metadata": {},
     "output_type": "execute_result"
    }
   ],
   "source": [
    "rrange_interval(sorted_a)"
   ],
   "metadata": {
    "collapsed": false,
    "ExecuteTime": {
     "end_time": "2024-02-23T17:11:04.706856900Z",
     "start_time": "2024-02-23T17:11:03.612779100Z"
    }
   },
   "id": "accfbdb0ef669dc5"
  },
  {
   "cell_type": "code",
   "execution_count": 160,
   "outputs": [],
   "source": [
    "#девіація з інтервального розподілу\n",
    "def deviation_interval(a):\n",
    "    x, freq = interval_distribution_discrete(a)\n",
    "    mean = sample_mean_interval(a)\n",
    "    return sum([((x[i] - mean)**2) * freq[i] for i in range(len(x))])"
   ],
   "metadata": {
    "collapsed": false,
    "ExecuteTime": {
     "end_time": "2024-02-23T17:11:04.707857500Z",
     "start_time": "2024-02-23T17:11:03.649781700Z"
    }
   },
   "id": "1dc05a634dbb75e6"
  },
  {
   "cell_type": "code",
   "execution_count": 161,
   "outputs": [
    {
     "data": {
      "text/plain": "331807.76496"
     },
     "execution_count": 161,
     "metadata": {},
     "output_type": "execute_result"
    }
   ],
   "source": [
    "deviation_interval(sorted_a)"
   ],
   "metadata": {
    "collapsed": false,
    "ExecuteTime": {
     "end_time": "2024-02-23T17:11:04.784863100Z",
     "start_time": "2024-02-23T17:11:03.673781600Z"
    }
   },
   "id": "bd9ae90ca7bf455"
  },
  {
   "cell_type": "code",
   "execution_count": 162,
   "outputs": [],
   "source": [
    "#варіанса з інтервального розподілу\n",
    "def variance_interval(a):\n",
    "    return deviation_interval(a)/(sum(interval_distribution_discrete(a)[1])-1)"
   ],
   "metadata": {
    "collapsed": false,
    "ExecuteTime": {
     "end_time": "2024-02-23T17:11:04.785866400Z",
     "start_time": "2024-02-23T17:11:03.708784300Z"
    }
   },
   "id": "7e125d09eb7789d3"
  },
  {
   "cell_type": "code",
   "execution_count": 163,
   "outputs": [
    {
     "data": {
      "text/plain": "332.1399048648649"
     },
     "execution_count": 163,
     "metadata": {},
     "output_type": "execute_result"
    }
   ],
   "source": [
    "variance_interval(sorted_a)"
   ],
   "metadata": {
    "collapsed": false,
    "ExecuteTime": {
     "end_time": "2024-02-23T17:11:04.786866300Z",
     "start_time": "2024-02-23T17:11:03.718784400Z"
    }
   },
   "id": "2ea681ca87fd4bc6"
  },
  {
   "cell_type": "code",
   "execution_count": 164,
   "outputs": [],
   "source": [
    "#стандарт з інтервального розподілу\n",
    "def standard_interval(a):\n",
    "    return math.sqrt(variance_interval(a))"
   ],
   "metadata": {
    "collapsed": false,
    "ExecuteTime": {
     "end_time": "2024-02-23T17:11:04.787866800Z",
     "start_time": "2024-02-23T17:11:03.752788500Z"
    }
   },
   "id": "dd8e402ca03b0b29"
  },
  {
   "cell_type": "code",
   "execution_count": 165,
   "outputs": [
    {
     "data": {
      "text/plain": "18.22470589241058"
     },
     "execution_count": 165,
     "metadata": {},
     "output_type": "execute_result"
    }
   ],
   "source": [
    "standard_interval(sorted_a)"
   ],
   "metadata": {
    "collapsed": false,
    "ExecuteTime": {
     "end_time": "2024-02-23T17:11:04.789863300Z",
     "start_time": "2024-02-23T17:11:03.790792800Z"
    }
   },
   "id": "c12de357d891a68"
  },
  {
   "cell_type": "code",
   "execution_count": 166,
   "outputs": [],
   "source": [
    "#варіація з інтервального розподілу\n",
    "def variation_interval(a):\n",
    "    return standard_interval(a)/sample_mean_interval(a)"
   ],
   "metadata": {
    "collapsed": false,
    "ExecuteTime": {
     "end_time": "2024-02-23T17:11:04.789863300Z",
     "start_time": "2024-02-23T17:11:03.835794100Z"
    }
   },
   "id": "cc3893cd5a2f4b9e"
  },
  {
   "cell_type": "code",
   "execution_count": 167,
   "outputs": [
    {
     "data": {
      "text/plain": "0.561195323525028"
     },
     "execution_count": 167,
     "metadata": {},
     "output_type": "execute_result"
    }
   ],
   "source": [
    "variation_interval(sorted_a)"
   ],
   "metadata": {
    "collapsed": false,
    "ExecuteTime": {
     "end_time": "2024-02-23T17:11:04.829865900Z",
     "start_time": "2024-02-23T17:11:03.864798700Z"
    }
   },
   "id": "9fcf15981ceabef0"
  },
  {
   "cell_type": "code",
   "execution_count": 168,
   "outputs": [],
   "source": [
    "#вибіркова дисперсія з інтервального розподілу\n",
    "def sample_dispersion_interval(a):\n",
    "    return deviation_interval(a)/sum(interval_distribution_discrete(a)[1])"
   ],
   "metadata": {
    "collapsed": false,
    "ExecuteTime": {
     "end_time": "2024-02-23T17:11:04.831867600Z",
     "start_time": "2024-02-23T17:11:03.896798900Z"
    }
   },
   "id": "cf77dab831162f21"
  },
  {
   "cell_type": "code",
   "execution_count": 169,
   "outputs": [
    {
     "data": {
      "text/plain": "331.80776496"
     },
     "execution_count": 169,
     "metadata": {},
     "output_type": "execute_result"
    }
   ],
   "source": [
    "sample_dispersion_interval(sorted_a)"
   ],
   "metadata": {
    "collapsed": false,
    "ExecuteTime": {
     "end_time": "2024-02-23T17:11:04.833868600Z",
     "start_time": "2024-02-23T17:11:03.929802200Z"
    }
   },
   "id": "3d014f9270c72da2"
  },
  {
   "cell_type": "code",
   "execution_count": 170,
   "outputs": [],
   "source": [
    "#вибіркове середнє квадратичне відхилення з інтервального розподілу\n",
    "def mean_square_deviation_interval(a):\n",
    "    return math.sqrt(sample_dispersion_interval(a))"
   ],
   "metadata": {
    "collapsed": false,
    "ExecuteTime": {
     "end_time": "2024-02-23T17:11:04.866868600Z",
     "start_time": "2024-02-23T17:11:03.957805Z"
    }
   },
   "id": "e20df2166488fb1d"
  },
  {
   "cell_type": "code",
   "execution_count": 171,
   "outputs": [
    {
     "data": {
      "text/plain": "18.21559126023638"
     },
     "execution_count": 171,
     "metadata": {},
     "output_type": "execute_result"
    }
   ],
   "source": [
    "mean_square_deviation_interval(sorted_a)"
   ],
   "metadata": {
    "collapsed": false,
    "ExecuteTime": {
     "end_time": "2024-02-23T17:11:04.923873600Z",
     "start_time": "2024-02-23T17:11:03.991806400Z"
    }
   },
   "id": "e16e2d6a3509b814"
  },
  {
   "cell_type": "code",
   "execution_count": 172,
   "outputs": [],
   "source": [
    "#центральний момент k-го порядку з інтервального розподілу\n",
    "def central_moment_interval(a, k):\n",
    "    x, freq = interval_distribution_discrete(a)\n",
    "    mean = sample_mean_interval(a)\n",
    "    return sum([((x[i] - mean)**k)*freq[i] for i in range(len(x))])/sum(freq)"
   ],
   "metadata": {
    "collapsed": false,
    "ExecuteTime": {
     "end_time": "2024-02-23T17:11:04.925873600Z",
     "start_time": "2024-02-23T17:11:04.091812100Z"
    }
   },
   "id": "7e71905b4295f196"
  },
  {
   "cell_type": "code",
   "execution_count": 173,
   "outputs": [
    {
     "data": {
      "text/plain": "331.80776496"
     },
     "execution_count": 173,
     "metadata": {},
     "output_type": "execute_result"
    }
   ],
   "source": [
    "central_moment_interval(sorted_a, 2)"
   ],
   "metadata": {
    "collapsed": false,
    "ExecuteTime": {
     "end_time": "2024-02-23T17:11:04.926874200Z",
     "start_time": "2024-02-23T17:11:04.118814800Z"
    }
   },
   "id": "bd7a49a3b4dcb9e1"
  },
  {
   "cell_type": "code",
   "execution_count": 174,
   "outputs": [],
   "source": [
    "#асиметрія з інтервального розподілу\n",
    "def skewness_interval(a):\n",
    "    return central_moment_interval(a, 3)/((central_moment_interval(a, 2)**(3/2)))"
   ],
   "metadata": {
    "collapsed": false,
    "ExecuteTime": {
     "end_time": "2024-02-23T17:11:04.927875100Z",
     "start_time": "2024-02-23T17:11:04.154817600Z"
    }
   },
   "id": "de1e6bfaae0678c3"
  },
  {
   "cell_type": "code",
   "execution_count": 175,
   "outputs": [
    {
     "data": {
      "text/plain": "-0.013887288657868622"
     },
     "execution_count": 175,
     "metadata": {},
     "output_type": "execute_result"
    }
   ],
   "source": [
    "skewness_interval(sorted_a)"
   ],
   "metadata": {
    "collapsed": false,
    "ExecuteTime": {
     "end_time": "2024-02-23T17:11:04.962876400Z",
     "start_time": "2024-02-23T17:11:04.185819100Z"
    }
   },
   "id": "491d391e2482fee7"
  },
  {
   "cell_type": "code",
   "execution_count": 176,
   "outputs": [],
   "source": [
    "#ексцес з інтервального розподілу\n",
    "def kurtosis_interval(a):\n",
    "    return (central_moment_interval(a, 4)/((central_moment_interval(a, 2)**2))) - 3"
   ],
   "metadata": {
    "collapsed": false,
    "ExecuteTime": {
     "end_time": "2024-02-23T17:11:04.964876200Z",
     "start_time": "2024-02-23T17:11:04.211822400Z"
    }
   },
   "id": "1ded6850705b196b"
  },
  {
   "cell_type": "code",
   "execution_count": 177,
   "outputs": [
    {
     "data": {
      "text/plain": "-1.2307553646450413"
     },
     "execution_count": 177,
     "metadata": {},
     "output_type": "execute_result"
    }
   ],
   "source": [
    "kurtosis_interval(sorted_a)"
   ],
   "metadata": {
    "collapsed": false,
    "ExecuteTime": {
     "end_time": "2024-02-23T17:11:04.966877600Z",
     "start_time": "2024-02-23T17:11:04.227823600Z"
    }
   },
   "id": "63f31cff11cbf654"
  },
  {
   "cell_type": "code",
   "execution_count": 178,
   "outputs": [],
   "source": [
    "#вивід всіх характеристик дискретного розподілу в вигляді назва: значення\n",
    "def print_all(a):\n",
    "    print(\"Дискретний розподіл:\")\n",
    "    print(f\"Медіана: {median(a)}\")\n",
    "    print(f\"Мода: {mode(a)}\")\n",
    "    print(f\"Вибіркове середнє значення: {sample_mean(a)}\")\n",
    "    print(f\"Девіація: {deviation(a)}\")\n",
    "    print(f\"Варіанса: {variance(a)}\")\n",
    "    print(f\"Стандарт: {standard(a)}\")\n",
    "    print(f\"Варіація: {variation(a)}\")\n",
    "    print(f\"Вибіркова дисперсія: {variance(a)}\")\n",
    "    print(f\"Вибіркове середнє квадратичне відхилення: {mean_square_deviation(a)}\")\n",
    "    print(f\"Центральний момент 2-го порядку: {central_moment(a, 2)}\")\n",
    "    print(f\"Центральний момент 3-го порядку: {central_moment(a, 3)}\")\n",
    "    print(f\"Центральний момент 4-го порядку: {central_moment(a, 4)}\")\n",
    "    print(f\"Асиметрія: {skewness(a)}\")\n",
    "    print(f\"Ексцес: {kurtosis(a)}\")\n",
    "    print(f\"Розмах: {rrange(a)}\")\n",
    "    print(\"Квантилі:\")\n",
    "    get_quantiles(a)\n",
    "    print(\"Інтервальний розподіл:\")\n",
    "    print_interval_distribution(a)\n",
    "    print(f\"Медіана з інтервального розподілу: {median_interval(a)}\")\n",
    "    print(f\"Мода з інтервального розподілу: {mode_interval(a)}\")\n",
    "    print(f\"Вибіркове середнє значення з інтервального розподілу: {sample_mean_interval(a)}\")\n",
    "    print(f\"Розмах з інтервального розподілу: {rrange_interval(a)}\")\n",
    "    print(f\"Девіація з інтервального розподілу: {deviation_interval(a)}\")\n",
    "    print(f\"Варіанса з інтервального розподілу: {variance_interval(a)}\")\n",
    "    print(f\"Стандарт з інтервального розподілу: {standard_interval(a)}\")\n",
    "    print(f\"Варіація з інтервального розподілу: {variation_interval(a)}\")\n",
    "    print(f\"Вибіркова дисперсія з інтервального розподілу: {sample_dispersion_interval(a)}\")\n",
    "    print(f\"Вибіркове середнє квадратичне відхилення з інтервального розподілу: {mean_square_deviation_interval(a)}\")\n",
    "    print(f\"Центральний момент 2-го порядку з інтервального розподілу: {central_moment_interval(a, 2)}\")\n",
    "    print(f\"Центральний момент 3-го порядку з інтервального розподілу: {central_moment_interval(a, 3)}\")\n",
    "    print(f\"Центральний момент 4-го порядку з інтервального розподілу: {central_moment_interval(a, 4)}\")\n",
    "    print(f\"Асиметрія з інтервального розподілу: {skewness_interval(a)}\")\n",
    "    print(f\"Ексцес з інтервального розподілу: {kurtosis_interval(a)}\")"
   ],
   "metadata": {
    "collapsed": false,
    "ExecuteTime": {
     "end_time": "2024-02-23T17:11:04.974877Z",
     "start_time": "2024-02-23T17:11:04.260824400Z"
    }
   },
   "id": "9e8fc2d62815d737"
  },
  {
   "cell_type": "code",
   "execution_count": 179,
   "outputs": [
    {
     "name": "stdout",
     "output_type": "stream",
     "text": [
      "Дискретний розподіл:\n",
      "Медіана: 32.0\n",
      "Мода: [48]\n",
      "Вибіркове середнє значення: 32.487\n",
      "Девіація: 343553.83099999983\n",
      "Варіанса: 343.89772872872857\n",
      "Стандарт: 18.544479737343092\n",
      "Варіація: 0.5708277076166802\n",
      "Вибіркова дисперсія: 343.89772872872857\n",
      "Вибіркове середнє квадратичне відхилення: 18.5352051782547\n",
      "Центральний момент 2-го порядку: 343.55383099999983\n",
      "Центральний момент 3-го порядку: -99.50064839400211\n",
      "Центральний момент 4-го порядку: 213072.32010267035\n",
      "Асиметрія: -0.01562549258714527\n",
      "Ексцес: -1.1947496273008105\n",
      "Розмах: 63\n",
      "Квантилі:\n",
      "Квартилі: [17, 32, 49]\n",
      "Інтерквартильна широта: 32\n",
      "\n",
      "Октилі: [8, 17, 24, 32, 41, 49, 56]\n",
      "Інтероктильна широта: 48\n",
      "\n",
      "Децилі: [7, 14, 19, 26, 32, 40, 46, 51, 58]\n",
      "Інтердецильна широта: 51\n",
      "\n",
      "Центилі: [1, 2, 2, 3, 3, 4, 4, 5, 6, 7, 7, 8, 8, 9, 9, 10, 12, 12, 13, 14, 14, 15, 15, 16, 17, 17, 18, 18, 19, 19, 20, 21, 22, 23, 23, 24, 24, 25, 26, 26, 27, 27, 28, 29, 29, 30, 31, 31, 32, 32, 33, 34, 35, 35, 36, 36, 37, 38, 39, 40, 40, 41, 41, 42, 43, 43, 44, 45, 45, 46, 47, 47, 48, 48, 49, 49, 50, 50, 50, 51, 52, 52, 53, 54, 54, 55, 56, 56, 57, 58, 59, 60, 60, 61, 61, 62, 63, 64, 64]\n",
      "Інтерцентильна широта: 63\n",
      "\n",
      "Мілілі: [1, 1, 1, 1, 1, 1, 1, 1, 1, 1, 1, 1, 1, 1, 1, 2, 2, 2, 2, 2, 2, 2, 2, 2, 2, 2, 2, 2, 2, 2, 2, 2, 2, 2, 2, 3, 3, 3, 3, 3, 3, 3, 3, 3, 3, 3, 3, 3, 3, 3, 3, 3, 3, 3, 4, 4, 4, 4, 4, 4, 4, 4, 4, 4, 4, 4, 4, 4, 4, 4, 5, 5, 5, 5, 5, 5, 5, 5, 5, 5, 5, 5, 5, 6, 6, 6, 6, 6, 6, 6, 6, 6, 6, 6, 6, 7, 7, 7, 7, 7, 7, 7, 7, 7, 7, 7, 7, 7, 7, 7, 7, 8, 8, 8, 8, 8, 8, 8, 8, 8, 8, 8, 8, 8, 8, 8, 8, 8, 8, 8, 8, 8, 9, 9, 9, 9, 9, 9, 9, 9, 9, 9, 9, 9, 9, 9, 9, 9, 9, 9, 9, 9, 10, 10, 10, 10, 10, 10, 10, 10, 10, 10, 11, 11, 11, 11, 11, 11, 12, 12, 12, 12, 12, 12, 12, 12, 12, 12, 12, 12, 12, 12, 13, 13, 13, 13, 13, 13, 13, 13, 13, 13, 13, 13, 14, 14, 14, 14, 14, 14, 14, 14, 14, 14, 14, 14, 14, 14, 14, 14, 14, 14, 14, 15, 15, 15, 15, 15, 15, 15, 15, 15, 15, 15, 15, 15, 15, 15, 15, 15, 15, 16, 16, 16, 16, 16, 16, 16, 16, 16, 16, 16, 16, 16, 16, 16, 16, 16, 16, 17, 17, 17, 17, 17, 17, 17, 17, 17, 17, 17, 17, 17, 17, 17, 18, 18, 18, 18, 18, 18, 18, 18, 18, 18, 18, 18, 18, 18, 18, 18, 18, 18, 18, 18, 18, 19, 19, 19, 19, 19, 19, 19, 19, 19, 19, 19, 19, 19, 19, 19, 20, 20, 20, 20, 20, 20, 20, 20, 20, 20, 20, 20, 20, 20, 20, 20, 20, 20, 21, 21, 21, 21, 21, 21, 22, 22, 22, 22, 22, 22, 22, 22, 22, 22, 22, 22, 22, 23, 23, 23, 23, 23, 23, 23, 23, 23, 23, 23, 23, 23, 23, 23, 23, 23, 23, 23, 24, 24, 24, 24, 24, 24, 24, 24, 24, 24, 24, 24, 24, 24, 24, 24, 24, 24, 24, 24, 25, 25, 25, 25, 25, 25, 25, 25, 25, 25, 25, 25, 26, 26, 26, 26, 26, 26, 26, 26, 26, 26, 26, 26, 26, 26, 26, 26, 26, 26, 27, 27, 27, 27, 27, 27, 27, 27, 27, 27, 27, 27, 27, 27, 27, 27, 27, 27, 28, 28, 28, 28, 28, 28, 28, 28, 28, 28, 28, 28, 28, 28, 29, 29, 29, 29, 29, 29, 29, 29, 29, 29, 29, 29, 29, 29, 29, 30, 30, 30, 30, 30, 30, 30, 30, 30, 30, 30, 30, 30, 31, 31, 31, 31, 31, 31, 31, 31, 31, 31, 31, 31, 31, 31, 31, 32, 32, 32, 32, 32, 32, 32, 32, 32, 32, 32, 32, 32, 32, 32, 32, 32, 32, 32, 32, 32, 33, 33, 33, 33, 33, 33, 33, 33, 33, 33, 33, 33, 33, 34, 34, 34, 34, 34, 34, 34, 34, 34, 34, 34, 34, 34, 35, 35, 35, 35, 35, 35, 35, 35, 35, 35, 35, 35, 35, 36, 36, 36, 36, 36, 36, 36, 36, 36, 36, 36, 36, 36, 36, 36, 36, 36, 36, 36, 36, 36, 37, 37, 37, 37, 37, 37, 37, 37, 37, 37, 37, 37, 37, 37, 38, 38, 38, 38, 38, 38, 38, 38, 38, 38, 39, 39, 39, 39, 39, 39, 39, 39, 39, 39, 39, 39, 39, 40, 40, 40, 40, 40, 40, 40, 40, 40, 40, 40, 40, 40, 40, 40, 40, 40, 40, 40, 41, 41, 41, 41, 41, 41, 41, 41, 41, 41, 41, 41, 41, 41, 41, 41, 42, 42, 42, 42, 42, 42, 42, 42, 42, 42, 42, 42, 42, 42, 42, 43, 43, 43, 43, 43, 43, 43, 43, 43, 43, 43, 43, 43, 44, 44, 44, 44, 44, 44, 44, 44, 44, 44, 44, 44, 44, 44, 44, 45, 45, 45, 45, 45, 45, 45, 45, 45, 45, 45, 45, 45, 45, 45, 45, 46, 46, 46, 46, 46, 46, 46, 46, 46, 46, 46, 46, 46, 46, 46, 47, 47, 47, 47, 47, 47, 47, 47, 47, 47, 47, 47, 47, 47, 47, 47, 48, 48, 48, 48, 48, 48, 48, 48, 48, 48, 48, 48, 48, 48, 48, 48, 48, 48, 48, 48, 48, 48, 48, 48, 48, 49, 49, 49, 49, 49, 49, 49, 49, 49, 49, 49, 49, 49, 49, 49, 49, 49, 49, 49, 49, 50, 50, 50, 50, 50, 50, 50, 50, 50, 50, 50, 50, 50, 50, 50, 50, 50, 50, 50, 50, 50, 51, 51, 51, 51, 51, 51, 51, 51, 51, 51, 51, 51, 51, 51, 51, 51, 51, 52, 52, 52, 52, 52, 52, 52, 52, 52, 52, 52, 52, 52, 52, 52, 52, 52, 52, 53, 53, 53, 53, 53, 53, 53, 53, 53, 53, 53, 53, 53, 53, 54, 54, 54, 54, 54, 54, 54, 54, 54, 54, 54, 54, 54, 55, 55, 55, 55, 55, 55, 55, 55, 55, 55, 55, 55, 56, 56, 56, 56, 56, 56, 56, 56, 56, 56, 56, 56, 56, 56, 56, 56, 57, 57, 57, 57, 57, 57, 57, 57, 57, 57, 57, 57, 57, 57, 57, 57, 58, 58, 58, 58, 58, 58, 58, 58, 58, 58, 59, 59, 59, 59, 59, 59, 59, 59, 59, 60, 60, 60, 60, 60, 60, 60, 60, 60, 60, 60, 60, 60, 60, 60, 61, 61, 61, 61, 61, 61, 61, 61, 61, 61, 61, 61, 61, 61, 61, 61, 61, 61, 61, 61, 61, 62, 62, 62, 62, 62, 62, 62, 62, 62, 62, 62, 62, 62, 63, 63, 63, 63, 63, 63, 63, 63, 63, 63, 63, 63, 63, 64, 64, 64, 64, 64, 64, 64, 64, 64, 64, 64, 64, 64, 64, 64, 64, 64, 64, 64, 64, 64, 64]\n",
      "Інтермілільна широта: 63\n",
      "\n",
      "Інтервальний розподіл:\n",
      "1.0 - 7.3: 112\n",
      "7.3 - 13.6: 83\n",
      "13.6 - 19.9: 106\n",
      "19.9 - 26.2: 106\n",
      "26.2 - 32.5: 96\n",
      "32.5 - 38.8: 84\n",
      "38.8 - 45.1: 107\n",
      "45.1 - 51.4: 114\n",
      "51.4 - 57.699999999999996: 89\n",
      "57.699999999999996 - 64.0: 103\n",
      "Медіана з інтервального розподілу: 32.303125\n",
      "Мода з інтервального розподілу: [46.478125]\n",
      "Вибіркове середнє значення з інтервального розподілу: 32.4748\n",
      "Розмах з інтервального розподілу: 56.699999999999996\n",
      "Девіація з інтервального розподілу: 331807.76496\n",
      "Варіанса з інтервального розподілу: 332.1399048648649\n",
      "Стандарт з інтервального розподілу: 18.22470589241058\n",
      "Варіація з інтервального розподілу: 0.561195323525028\n",
      "Вибіркова дисперсія з інтервального розподілу: 331.80776496\n",
      "Вибіркове середнє квадратичне відхилення з інтервального розподілу: 18.21559126023638\n",
      "Центральний момент 2-го порядку з інтервального розподілу: 331.80776496\n",
      "Центральний момент 3-го порядку з інтервального розподілу: -83.93580896602012\n",
      "Центральний момент 4-го порядку з інтервального розподілу: 194787.45248858456\n",
      "Асиметрія з інтервального розподілу: -0.013887288657868622\n",
      "Ексцес з інтервального розподілу: -1.2307553646450413\n"
     ]
    }
   ],
   "source": [
    "print_all(sorted_a)"
   ],
   "metadata": {
    "collapsed": false,
    "ExecuteTime": {
     "end_time": "2024-02-23T17:11:04.978878400Z",
     "start_time": "2024-02-23T17:11:04.309829300Z"
    }
   },
   "id": "727b4b48690ad840"
  },
  {
   "cell_type": "code",
   "execution_count": 179,
   "outputs": [],
   "source": [],
   "metadata": {
    "collapsed": false,
    "ExecuteTime": {
     "end_time": "2024-02-23T17:11:04.978878400Z",
     "start_time": "2024-02-23T17:11:04.443841100Z"
    }
   },
   "id": "f5f8686a2d0c7a4c"
  }
 ],
 "metadata": {
  "kernelspec": {
   "display_name": "Python 3",
   "language": "python",
   "name": "python3"
  },
  "language_info": {
   "codemirror_mode": {
    "name": "ipython",
    "version": 2
   },
   "file_extension": ".py",
   "mimetype": "text/x-python",
   "name": "python",
   "nbconvert_exporter": "python",
   "pygments_lexer": "ipython2",
   "version": "2.7.6"
  }
 },
 "nbformat": 4,
 "nbformat_minor": 5
}
