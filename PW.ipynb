{
 "cells": [
  {
   "cell_type": "code",
   "execution_count": 358,
   "id": "initial_id",
   "metadata": {
    "collapsed": true,
    "ExecuteTime": {
     "end_time": "2024-02-23T20:46:34.760253Z",
     "start_time": "2024-02-23T20:46:23.151100300Z"
    }
   },
   "outputs": [],
   "source": [
    "import random\n",
    "import matplotlib.pyplot as plt\n",
    "import math"
   ]
  },
  {
   "cell_type": "code",
   "execution_count": 359,
   "outputs": [],
   "source": [
    "a = []\n",
    "minn = int(input(\"Enter min number: \"))\n",
    "maxx = int(input(\"Enter max number: \"))\n",
    "length = 1000"
   ],
   "metadata": {
    "collapsed": false,
    "ExecuteTime": {
     "end_time": "2024-02-23T20:46:41.461328700Z",
     "start_time": "2024-02-23T20:46:23.314113Z"
    }
   },
   "id": "eb7f9b630ca429a6"
  },
  {
   "cell_type": "code",
   "execution_count": 360,
   "outputs": [],
   "source": [
    "for i in range(length):\n",
    "    a.append(random.randint(minn, maxx))"
   ],
   "metadata": {
    "collapsed": false,
    "ExecuteTime": {
     "end_time": "2024-02-23T20:46:41.726347200Z",
     "start_time": "2024-02-23T20:46:41.428323900Z"
    }
   },
   "id": "7bb39ad9c919277"
  },
  {
   "cell_type": "code",
   "execution_count": 361,
   "outputs": [
    {
     "name": "stdout",
     "output_type": "stream",
     "text": [
      "Вибірка\n",
      "[15, 41, 63, 23, 1, 52, 57, 47, 40, 62, 35, 50, 36, 26, 33, 32, 62, 42, 26, 64, 55, 18, 43, 18, 46, 4, 22, 61, 42, 1, 59, 40, 57, 49, 64, 42, 63, 21, 52, 20, 48, 7, 48, 46, 48, 5, 1, 57, 16, 54, 61, 20, 30, 17, 49, 34, 28, 20, 61, 2, 43, 27, 14, 26, 17, 52, 56, 52, 64, 30, 57, 60, 59, 12, 26, 5, 53, 61, 41, 50, 7, 16, 41, 50, 27, 29, 8, 22, 58, 30, 14, 29, 57, 17, 44, 36, 64, 23, 5, 38, 25, 26, 29, 21, 23, 30, 11, 36, 2, 39, 51, 7, 32, 25, 36, 44, 25, 45, 39, 3, 19, 54, 2, 18, 57, 36, 28, 46, 34, 14, 50, 10, 7, 9, 37, 49, 24, 38, 55, 2, 44, 49, 44, 60, 41, 17, 4, 3, 29, 21, 26, 34, 50, 12, 13, 46, 2, 57, 40, 15, 25, 27, 41, 52, 45, 53, 46, 25, 42, 49, 14, 38, 59, 41, 64, 18, 61, 44, 23, 51, 14, 19, 14, 39, 3, 56, 59, 50, 57, 13, 10, 53, 23, 56, 7, 11, 37, 46, 21, 34, 51, 60, 43, 45, 40, 45, 34, 24, 28, 47, 15, 3, 28, 49, 41, 4, 28, 60, 54, 4, 6, 6, 45, 40, 37, 15, 50, 40, 36, 17, 55, 5, 55, 60, 52, 61, 58, 4, 19, 8, 9, 56, 58, 60, 32, 25, 6, 44, 38, 2, 46, 6, 25, 53, 9, 3, 11, 6, 1, 24, 27, 40, 4, 60, 9, 2, 57, 3, 61, 33, 27, 24, 58, 27, 50, 18, 42, 58, 63, 21, 25, 53, 37, 31, 16, 5, 46, 6, 19, 23, 27, 56, 54, 58, 37, 12, 39, 49, 50, 44, 59, 40, 32, 50, 11, 1, 48, 16, 62, 17, 29, 44, 17, 63, 37, 57, 58, 4, 26, 62, 7, 51, 12, 61, 39, 51, 56, 60, 46, 7, 3, 57, 30, 43, 64, 51, 27, 51, 51, 17, 18, 36, 19, 19, 5, 29, 40, 31, 42, 2, 57, 9, 30, 3, 29, 43, 57, 34, 10, 31, 64, 46, 5, 45, 31, 19, 60, 11, 4, 19, 36, 23, 63, 24, 23, 11, 5, 52, 6, 58, 17, 6, 20, 40, 7, 13, 46, 18, 6, 24, 12, 53, 52, 61, 18, 24, 37, 24, 5, 38, 49, 64, 43, 44, 61, 45, 60, 35, 60, 36, 42, 3, 37, 37, 24, 10, 51, 36, 37, 51, 14, 2, 54, 7, 63, 23, 53, 27, 40, 9, 54, 36, 30, 49, 20, 49, 7, 56, 2, 25, 11, 13, 8, 58, 32, 29, 63, 39, 7, 46, 23, 23, 9, 12, 38, 37, 51, 3, 36, 20, 19, 47, 4, 59, 40, 17, 26, 27, 5, 49, 6, 20, 3, 18, 16, 48, 14, 4, 36, 39, 22, 30, 5, 48, 15, 21, 24, 28, 48, 5, 4, 29, 11, 11, 51, 52, 64, 45, 9, 50, 26, 50, 46, 8, 20, 43, 33, 48, 55, 42, 61, 48, 27, 51, 11, 14, 15, 27, 12, 13, 37, 37, 37, 47, 60, 27, 42, 10, 1, 42, 45, 26, 28, 25, 10, 39, 36, 61, 56, 46, 40, 32, 62, 16, 27, 10, 7, 49, 13, 17, 60, 59, 20, 8, 40, 20, 22, 29, 42, 7, 29, 1, 47, 24, 13, 47, 22, 22, 5, 4, 35, 19, 1, 44, 4, 21, 26, 28, 47, 64, 51, 24, 42, 42, 59, 29, 12, 34, 58, 1, 12, 35, 31, 22, 59, 16, 14, 47, 54, 29, 6, 45, 30, 37, 61, 53, 25, 20, 44, 56, 50, 29, 60, 36, 51, 18, 14, 13, 48, 59, 43, 51, 27, 28, 50, 16, 15, 25, 53, 27, 28, 19, 22, 64, 2, 53, 39, 38, 18, 47, 40, 20, 33, 47, 51, 33, 33, 48, 56, 20, 2, 63, 35, 47, 40, 20, 35, 15, 27, 16, 3, 55, 36, 34, 8, 37, 28, 46, 12, 55, 33, 42, 6, 64, 57, 29, 34, 35, 56, 30, 54, 22, 52, 19, 16, 17, 28, 10, 49, 3, 47, 57, 43, 1, 23, 12, 26, 33, 14, 8, 21, 30, 52, 45, 33, 29, 52, 51, 61, 14, 38, 52, 8, 56, 37, 38, 26, 55, 18, 18, 41, 55, 23, 20, 14, 39, 48, 64, 32, 4, 27, 63, 56, 9, 59, 39, 22, 14, 25, 4, 15, 29, 41, 61, 55, 34, 60, 42, 30, 15, 26, 13, 53, 39, 30, 28, 48, 22, 54, 21, 39, 63, 54, 14, 9, 27, 37, 9, 16, 42, 31, 64, 42, 25, 49, 25, 19, 38, 8, 24, 22, 39, 39, 45, 4, 5, 45, 29, 32, 32, 16, 40, 42, 49, 63, 24, 62, 34, 38, 15, 57, 46, 42, 26, 36, 11, 29, 8, 22, 56, 40, 33, 64, 59, 48, 56, 5, 34, 63, 9, 12, 4, 47, 9, 25, 61, 18, 16, 64, 50, 10, 3, 30, 7, 48, 41, 37, 4, 45, 6, 36, 55, 3, 48, 54, 12, 37, 17, 38, 19, 45, 32, 36, 1, 35, 50, 40, 46, 36, 34, 16, 56, 16, 34, 8, 10, 7, 31, 56, 15, 47, 6, 57, 53, 34, 38, 36, 35, 57, 22, 51, 43, 28, 62, 44, 33, 14, 17, 17, 13, 34, 39, 28, 9, 40, 21, 19, 36, 38, 29, 63, 55, 19, 46, 9, 16, 20, 9, 17, 45, 61, 36, 58, 45, 37, 52, 18, 15, 36, 9, 3, 53, 34, 41, 16, 20, 45, 41, 7, 42, 28, 38, 36, 9, 9, 38, 27, 43, 61, 31, 36, 55, 8, 21, 45, 64, 35, 11, 30, 53, 25, 11, 39, 15, 13, 44, 51, 40, 55, 20, 38, 54, 15, 3, 45, 7, 26, 37, 64, 41, 27, 23, 60, 22, 30, 56, 48, 19, 39, 25, 12, 34, 6, 13, 60, 5, 55, 57, 40, 10, 49, 36, 52, 22, 46, 23, 6, 64, 59, 37]\n"
     ]
    }
   ],
   "source": [
    "print(\"Вибірка\")\n",
    "print(a)"
   ],
   "metadata": {
    "collapsed": false,
    "ExecuteTime": {
     "end_time": "2024-02-23T20:46:41.765348800Z",
     "start_time": "2024-02-23T20:46:41.538334600Z"
    }
   },
   "id": "9b4a444ddaf34ffe"
  },
  {
   "cell_type": "code",
   "execution_count": 362,
   "outputs": [],
   "source": [
    "sorted_a = sorted(a)"
   ],
   "metadata": {
    "collapsed": false,
    "ExecuteTime": {
     "end_time": "2024-02-23T20:46:41.862358500Z",
     "start_time": "2024-02-23T20:46:41.677348100Z"
    }
   },
   "id": "3fd67a7f15d68980"
  },
  {
   "cell_type": "code",
   "execution_count": 363,
   "outputs": [
    {
     "name": "stdout",
     "output_type": "stream",
     "text": [
      "Варіаційний ряд\n",
      "[1, 1, 1, 1, 1, 1, 1, 1, 1, 1, 1, 2, 2, 2, 2, 2, 2, 2, 2, 2, 2, 2, 2, 3, 3, 3, 3, 3, 3, 3, 3, 3, 3, 3, 3, 3, 3, 3, 3, 3, 4, 4, 4, 4, 4, 4, 4, 4, 4, 4, 4, 4, 4, 4, 4, 4, 4, 4, 5, 5, 5, 5, 5, 5, 5, 5, 5, 5, 5, 5, 5, 5, 5, 5, 6, 6, 6, 6, 6, 6, 6, 6, 6, 6, 6, 6, 6, 6, 6, 6, 7, 7, 7, 7, 7, 7, 7, 7, 7, 7, 7, 7, 7, 7, 7, 7, 7, 8, 8, 8, 8, 8, 8, 8, 8, 8, 8, 8, 8, 9, 9, 9, 9, 9, 9, 9, 9, 9, 9, 9, 9, 9, 9, 9, 9, 9, 9, 9, 10, 10, 10, 10, 10, 10, 10, 10, 10, 10, 10, 11, 11, 11, 11, 11, 11, 11, 11, 11, 11, 11, 11, 11, 12, 12, 12, 12, 12, 12, 12, 12, 12, 12, 12, 12, 12, 12, 13, 13, 13, 13, 13, 13, 13, 13, 13, 13, 13, 13, 14, 14, 14, 14, 14, 14, 14, 14, 14, 14, 14, 14, 14, 14, 14, 14, 14, 15, 15, 15, 15, 15, 15, 15, 15, 15, 15, 15, 15, 15, 15, 15, 16, 16, 16, 16, 16, 16, 16, 16, 16, 16, 16, 16, 16, 16, 16, 16, 16, 17, 17, 17, 17, 17, 17, 17, 17, 17, 17, 17, 17, 17, 17, 17, 17, 18, 18, 18, 18, 18, 18, 18, 18, 18, 18, 18, 18, 18, 18, 18, 19, 19, 19, 19, 19, 19, 19, 19, 19, 19, 19, 19, 19, 19, 19, 19, 19, 20, 20, 20, 20, 20, 20, 20, 20, 20, 20, 20, 20, 20, 20, 20, 20, 20, 20, 21, 21, 21, 21, 21, 21, 21, 21, 21, 21, 21, 22, 22, 22, 22, 22, 22, 22, 22, 22, 22, 22, 22, 22, 22, 22, 22, 23, 23, 23, 23, 23, 23, 23, 23, 23, 23, 23, 23, 23, 23, 23, 24, 24, 24, 24, 24, 24, 24, 24, 24, 24, 24, 24, 24, 24, 25, 25, 25, 25, 25, 25, 25, 25, 25, 25, 25, 25, 25, 25, 25, 25, 25, 25, 26, 26, 26, 26, 26, 26, 26, 26, 26, 26, 26, 26, 26, 26, 26, 26, 27, 27, 27, 27, 27, 27, 27, 27, 27, 27, 27, 27, 27, 27, 27, 27, 27, 27, 27, 27, 27, 28, 28, 28, 28, 28, 28, 28, 28, 28, 28, 28, 28, 28, 28, 28, 28, 29, 29, 29, 29, 29, 29, 29, 29, 29, 29, 29, 29, 29, 29, 29, 29, 29, 29, 29, 29, 30, 30, 30, 30, 30, 30, 30, 30, 30, 30, 30, 30, 30, 30, 30, 30, 31, 31, 31, 31, 31, 31, 31, 31, 32, 32, 32, 32, 32, 32, 32, 32, 32, 32, 33, 33, 33, 33, 33, 33, 33, 33, 33, 33, 33, 34, 34, 34, 34, 34, 34, 34, 34, 34, 34, 34, 34, 34, 34, 34, 34, 34, 34, 35, 35, 35, 35, 35, 35, 35, 35, 35, 35, 36, 36, 36, 36, 36, 36, 36, 36, 36, 36, 36, 36, 36, 36, 36, 36, 36, 36, 36, 36, 36, 36, 36, 36, 36, 36, 36, 37, 37, 37, 37, 37, 37, 37, 37, 37, 37, 37, 37, 37, 37, 37, 37, 37, 37, 37, 37, 37, 37, 37, 38, 38, 38, 38, 38, 38, 38, 38, 38, 38, 38, 38, 38, 38, 38, 38, 38, 39, 39, 39, 39, 39, 39, 39, 39, 39, 39, 39, 39, 39, 39, 39, 39, 39, 39, 40, 40, 40, 40, 40, 40, 40, 40, 40, 40, 40, 40, 40, 40, 40, 40, 40, 40, 40, 40, 40, 40, 41, 41, 41, 41, 41, 41, 41, 41, 41, 41, 41, 41, 41, 42, 42, 42, 42, 42, 42, 42, 42, 42, 42, 42, 42, 42, 42, 42, 42, 42, 42, 42, 42, 43, 43, 43, 43, 43, 43, 43, 43, 43, 43, 43, 44, 44, 44, 44, 44, 44, 44, 44, 44, 44, 44, 44, 44, 45, 45, 45, 45, 45, 45, 45, 45, 45, 45, 45, 45, 45, 45, 45, 45, 45, 45, 45, 45, 46, 46, 46, 46, 46, 46, 46, 46, 46, 46, 46, 46, 46, 46, 46, 46, 46, 46, 46, 47, 47, 47, 47, 47, 47, 47, 47, 47, 47, 47, 47, 47, 47, 48, 48, 48, 48, 48, 48, 48, 48, 48, 48, 48, 48, 48, 48, 48, 48, 48, 49, 49, 49, 49, 49, 49, 49, 49, 49, 49, 49, 49, 49, 49, 49, 49, 50, 50, 50, 50, 50, 50, 50, 50, 50, 50, 50, 50, 50, 50, 50, 50, 51, 51, 51, 51, 51, 51, 51, 51, 51, 51, 51, 51, 51, 51, 51, 51, 51, 51, 51, 51, 52, 52, 52, 52, 52, 52, 52, 52, 52, 52, 52, 52, 52, 52, 52, 53, 53, 53, 53, 53, 53, 53, 53, 53, 53, 53, 53, 53, 53, 54, 54, 54, 54, 54, 54, 54, 54, 54, 54, 54, 54, 55, 55, 55, 55, 55, 55, 55, 55, 55, 55, 55, 55, 55, 55, 55, 56, 56, 56, 56, 56, 56, 56, 56, 56, 56, 56, 56, 56, 56, 56, 56, 56, 56, 57, 57, 57, 57, 57, 57, 57, 57, 57, 57, 57, 57, 57, 57, 57, 57, 57, 57, 57, 58, 58, 58, 58, 58, 58, 58, 58, 58, 58, 58, 59, 59, 59, 59, 59, 59, 59, 59, 59, 59, 59, 59, 59, 60, 60, 60, 60, 60, 60, 60, 60, 60, 60, 60, 60, 60, 60, 60, 60, 60, 61, 61, 61, 61, 61, 61, 61, 61, 61, 61, 61, 61, 61, 61, 61, 61, 61, 61, 62, 62, 62, 62, 62, 62, 62, 63, 63, 63, 63, 63, 63, 63, 63, 63, 63, 63, 63, 63, 64, 64, 64, 64, 64, 64, 64, 64, 64, 64, 64, 64, 64, 64, 64, 64, 64, 64, 64]\n"
     ]
    }
   ],
   "source": [
    "print(\"Варіаційний ряд\")\n",
    "print(sorted_a)"
   ],
   "metadata": {
    "collapsed": false,
    "ExecuteTime": {
     "end_time": "2024-02-23T20:46:42.054370100Z",
     "start_time": "2024-02-23T20:46:41.763350500Z"
    }
   },
   "id": "e2ba1a2aae8c9dd6"
  },
  {
   "cell_type": "code",
   "execution_count": 364,
   "outputs": [],
   "source": [
    "def frequency_table(a):\n",
    "    res = {}\n",
    "    for i in a:\n",
    "        if i in res:\n",
    "            res[i] += 1\n",
    "        else:\n",
    "            res[i] = 1\n",
    "    return res"
   ],
   "metadata": {
    "collapsed": false,
    "ExecuteTime": {
     "end_time": "2024-02-23T20:46:42.285787700Z",
     "start_time": "2024-02-23T20:46:41.831354600Z"
    }
   },
   "id": "38199fe79a919457"
  },
  {
   "cell_type": "code",
   "execution_count": 365,
   "outputs": [
    {
     "name": "stdout",
     "output_type": "stream",
     "text": [
      "Таблиця частот\n",
      "Xi   Ni\n"
     ]
    },
    {
     "data": {
      "text/plain": "{1: 11,\n 2: 12,\n 3: 17,\n 4: 18,\n 5: 16,\n 6: 16,\n 7: 17,\n 8: 12,\n 9: 19,\n 10: 11,\n 11: 13,\n 12: 14,\n 13: 12,\n 14: 17,\n 15: 15,\n 16: 17,\n 17: 16,\n 18: 15,\n 19: 17,\n 20: 18,\n 21: 11,\n 22: 16,\n 23: 15,\n 24: 14,\n 25: 18,\n 26: 16,\n 27: 21,\n 28: 16,\n 29: 20,\n 30: 16,\n 31: 8,\n 32: 10,\n 33: 11,\n 34: 18,\n 35: 10,\n 36: 27,\n 37: 23,\n 38: 17,\n 39: 18,\n 40: 22,\n 41: 13,\n 42: 20,\n 43: 11,\n 44: 13,\n 45: 20,\n 46: 19,\n 47: 14,\n 48: 17,\n 49: 16,\n 50: 16,\n 51: 20,\n 52: 15,\n 53: 14,\n 54: 12,\n 55: 15,\n 56: 18,\n 57: 19,\n 58: 11,\n 59: 13,\n 60: 17,\n 61: 18,\n 62: 7,\n 63: 13,\n 64: 19}"
     },
     "execution_count": 365,
     "metadata": {},
     "output_type": "execute_result"
    }
   ],
   "source": [
    "print(\"Таблиця частот\")\n",
    "print(\"Xi   Ni\")\n",
    "frequency_table(sorted_a)"
   ],
   "metadata": {
    "collapsed": false,
    "ExecuteTime": {
     "end_time": "2024-02-23T20:46:42.980106500Z",
     "start_time": "2024-02-23T20:46:42.291787900Z"
    }
   },
   "id": "6b2771f1cd3bc568"
  },
  {
   "cell_type": "code",
   "execution_count": 366,
   "outputs": [],
   "source": [
    "def frequency_diagram(a):\n",
    "    res = frequency_table(a)\n",
    "    plt.bar(res.keys(), res.values())\n",
    "    plt.show()"
   ],
   "metadata": {
    "collapsed": false,
    "ExecuteTime": {
     "end_time": "2024-02-23T20:46:43.040114900Z",
     "start_time": "2024-02-23T20:46:42.837041800Z"
    }
   },
   "id": "8066be9e2d70647a"
  },
  {
   "cell_type": "code",
   "execution_count": 367,
   "outputs": [
    {
     "data": {
      "text/plain": "<Figure size 640x480 with 1 Axes>",
      "image/png": "[encoded data removed]"
     },
     "metadata": {},
     "output_type": "display_data"
    }
   ],
   "source": [
    "frequency_diagram(sorted_a)"
   ],
   "metadata": {
    "collapsed": false,
    "ExecuteTime": {
     "end_time": "2024-02-23T20:46:46.589836700Z",
     "start_time": "2024-02-23T20:46:42.916101700Z"
    }
   },
   "id": "ac2c33965f655eaa"
  },
  {
   "cell_type": "code",
   "execution_count": 368,
   "outputs": [],
   "source": [
    "def frequency_polygon(a):\n",
    "    res = frequency_table(a)\n",
    "    plt.plot(res.keys(), res.values())\n",
    "    plt.show()"
   ],
   "metadata": {
    "collapsed": false,
    "ExecuteTime": {
     "end_time": "2024-02-23T20:46:46.591834800Z",
     "start_time": "2024-02-23T20:46:46.263812200Z"
    }
   },
   "id": "81bb3ade5a3bf535"
  },
  {
   "cell_type": "code",
   "execution_count": 369,
   "outputs": [
    {
     "data": {
      "text/plain": "<Figure size 640x480 with 1 Axes>",
      "image/png": "[encoded data removed]"
     },
     "metadata": {},
     "output_type": "display_data"
    }
   ],
   "source": [
    "frequency_polygon(sorted_a)"
   ],
   "metadata": {
    "collapsed": false,
    "ExecuteTime": {
     "end_time": "2024-02-23T20:46:48.436970500Z",
     "start_time": "2024-02-23T20:46:46.397820100Z"
    }
   },
   "id": "994b1d30c2eec52f"
  },
  {
   "cell_type": "code",
   "execution_count": 370,
   "outputs": [],
   "source": [
    "def probabilitys(a):\n",
    "    res = frequency_table(a)\n",
    "    for i in res:\n",
    "        res[i] /= len(a)\n",
    "    return res"
   ],
   "metadata": {
    "collapsed": false,
    "ExecuteTime": {
     "end_time": "2024-02-23T20:46:48.800001300Z",
     "start_time": "2024-02-23T20:46:48.373965900Z"
    }
   },
   "id": "36471bd096b4347f"
  },
  {
   "cell_type": "code",
   "execution_count": 371,
   "outputs": [
    {
     "data": {
      "text/plain": "{1: 0.011,\n 2: 0.012,\n 3: 0.017,\n 4: 0.018,\n 5: 0.016,\n 6: 0.016,\n 7: 0.017,\n 8: 0.012,\n 9: 0.019,\n 10: 0.011,\n 11: 0.013,\n 12: 0.014,\n 13: 0.012,\n 14: 0.017,\n 15: 0.015,\n 16: 0.017,\n 17: 0.016,\n 18: 0.015,\n 19: 0.017,\n 20: 0.018,\n 21: 0.011,\n 22: 0.016,\n 23: 0.015,\n 24: 0.014,\n 25: 0.018,\n 26: 0.016,\n 27: 0.021,\n 28: 0.016,\n 29: 0.02,\n 30: 0.016,\n 31: 0.008,\n 32: 0.01,\n 33: 0.011,\n 34: 0.018,\n 35: 0.01,\n 36: 0.027,\n 37: 0.023,\n 38: 0.017,\n 39: 0.018,\n 40: 0.022,\n 41: 0.013,\n 42: 0.02,\n 43: 0.011,\n 44: 0.013,\n 45: 0.02,\n 46: 0.019,\n 47: 0.014,\n 48: 0.017,\n 49: 0.016,\n 50: 0.016,\n 51: 0.02,\n 52: 0.015,\n 53: 0.014,\n 54: 0.012,\n 55: 0.015,\n 56: 0.018,\n 57: 0.019,\n 58: 0.011,\n 59: 0.013,\n 60: 0.017,\n 61: 0.018,\n 62: 0.007,\n 63: 0.013,\n 64: 0.019}"
     },
     "execution_count": 371,
     "metadata": {},
     "output_type": "execute_result"
    }
   ],
   "source": [
    "probabilitys(sorted_a)"
   ],
   "metadata": {
    "collapsed": false,
    "ExecuteTime": {
     "end_time": "2024-02-23T20:46:48.852005100Z",
     "start_time": "2024-02-23T20:46:48.450972900Z"
    }
   },
   "id": "ed975e780e956435"
  },
  {
   "cell_type": "code",
   "execution_count": 372,
   "outputs": [],
   "source": [
    "def empirical_distribution_function(a):\n",
    "    res = probabilitys(a)\n",
    "    x = list(res.keys())\n",
    "    y = list(res.values())\n",
    "    for i in range(1, len(y)):\n",
    "        y[i] += y[i-1]\n",
    "        y[i] = round(y[i],6)\n",
    "    return dict(zip(x, y))"
   ],
   "metadata": {
    "collapsed": false,
    "ExecuteTime": {
     "end_time": "2024-02-23T20:46:48.853002500Z",
     "start_time": "2024-02-23T20:46:48.524977700Z"
    }
   },
   "id": "51ca802d7c0bbe22"
  },
  {
   "cell_type": "code",
   "execution_count": 373,
   "outputs": [
    {
     "data": {
      "text/plain": "{1: 0.011,\n 2: 0.023,\n 3: 0.04,\n 4: 0.058,\n 5: 0.074,\n 6: 0.09,\n 7: 0.107,\n 8: 0.119,\n 9: 0.138,\n 10: 0.149,\n 11: 0.162,\n 12: 0.176,\n 13: 0.188,\n 14: 0.205,\n 15: 0.22,\n 16: 0.237,\n 17: 0.253,\n 18: 0.268,\n 19: 0.285,\n 20: 0.303,\n 21: 0.314,\n 22: 0.33,\n 23: 0.345,\n 24: 0.359,\n 25: 0.377,\n 26: 0.393,\n 27: 0.414,\n 28: 0.43,\n 29: 0.45,\n 30: 0.466,\n 31: 0.474,\n 32: 0.484,\n 33: 0.495,\n 34: 0.513,\n 35: 0.523,\n 36: 0.55,\n 37: 0.573,\n 38: 0.59,\n 39: 0.608,\n 40: 0.63,\n 41: 0.643,\n 42: 0.663,\n 43: 0.674,\n 44: 0.687,\n 45: 0.707,\n 46: 0.726,\n 47: 0.74,\n 48: 0.757,\n 49: 0.773,\n 50: 0.789,\n 51: 0.809,\n 52: 0.824,\n 53: 0.838,\n 54: 0.85,\n 55: 0.865,\n 56: 0.883,\n 57: 0.902,\n 58: 0.913,\n 59: 0.926,\n 60: 0.943,\n 61: 0.961,\n 62: 0.968,\n 63: 0.981,\n 64: 1.0}"
     },
     "execution_count": 373,
     "metadata": {},
     "output_type": "execute_result"
    }
   ],
   "source": [
    "empirical_distribution_function(sorted_a)"
   ],
   "metadata": {
    "collapsed": false,
    "ExecuteTime": {
     "end_time": "2024-02-23T20:46:48.854000400Z",
     "start_time": "2024-02-23T20:46:48.586986100Z"
    }
   },
   "id": "b05f97e00b46f1ff"
  },
  {
   "cell_type": "code",
   "execution_count": 374,
   "outputs": [],
   "source": [
    "def print_empirical_distribution_function(a):\n",
    "    res = empirical_distribution_function(a)\n",
    "    keys = list(res.keys())\n",
    "    vals = list(res.values())\n",
    "    print(f\"{0}, якщо x < {keys[0]}\")\n",
    "    for i in range(1, len(keys)):\n",
    "        print(f\"{vals[i-1]}, якщо {keys[i-1]} <= x < {keys[i]}\")\n",
    "    print(f\"{vals[-1]}, якщо x >= {keys[-1]}\")"
   ],
   "metadata": {
    "collapsed": false,
    "ExecuteTime": {
     "end_time": "2024-02-23T20:46:48.854000400Z",
     "start_time": "2024-02-23T20:46:48.642985800Z"
    }
   },
   "id": "92e5f3ca8e2bbcc"
  },
  {
   "cell_type": "code",
   "execution_count": 375,
   "outputs": [
    {
     "name": "stdout",
     "output_type": "stream",
     "text": [
      "0, якщо x < 1\n",
      "0.011, якщо 1 <= x < 2\n",
      "0.023, якщо 2 <= x < 3\n",
      "0.04, якщо 3 <= x < 4\n",
      "0.058, якщо 4 <= x < 5\n",
      "0.074, якщо 5 <= x < 6\n",
      "0.09, якщо 6 <= x < 7\n",
      "0.107, якщо 7 <= x < 8\n",
      "0.119, якщо 8 <= x < 9\n",
      "0.138, якщо 9 <= x < 10\n",
      "0.149, якщо 10 <= x < 11\n",
      "0.162, якщо 11 <= x < 12\n",
      "0.176, якщо 12 <= x < 13\n",
      "0.188, якщо 13 <= x < 14\n",
      "0.205, якщо 14 <= x < 15\n",
      "0.22, якщо 15 <= x < 16\n",
      "0.237, якщо 16 <= x < 17\n",
      "0.253, якщо 17 <= x < 18\n",
      "0.268, якщо 18 <= x < 19\n",
      "0.285, якщо 19 <= x < 20\n",
      "0.303, якщо 20 <= x < 21\n",
      "0.314, якщо 21 <= x < 22\n",
      "0.33, якщо 22 <= x < 23\n",
      "0.345, якщо 23 <= x < 24\n",
      "0.359, якщо 24 <= x < 25\n",
      "0.377, якщо 25 <= x < 26\n",
      "0.393, якщо 26 <= x < 27\n",
      "0.414, якщо 27 <= x < 28\n",
      "0.43, якщо 28 <= x < 29\n",
      "0.45, якщо 29 <= x < 30\n",
      "0.466, якщо 30 <= x < 31\n",
      "0.474, якщо 31 <= x < 32\n",
      "0.484, якщо 32 <= x < 33\n",
      "0.495, якщо 33 <= x < 34\n",
      "0.513, якщо 34 <= x < 35\n",
      "0.523, якщо 35 <= x < 36\n",
      "0.55, якщо 36 <= x < 37\n",
      "0.573, якщо 37 <= x < 38\n",
      "0.59, якщо 38 <= x < 39\n",
      "0.608, якщо 39 <= x < 40\n",
      "0.63, якщо 40 <= x < 41\n",
      "0.643, якщо 41 <= x < 42\n",
      "0.663, якщо 42 <= x < 43\n",
      "0.674, якщо 43 <= x < 44\n",
      "0.687, якщо 44 <= x < 45\n",
      "0.707, якщо 45 <= x < 46\n",
      "0.726, якщо 46 <= x < 47\n",
      "0.74, якщо 47 <= x < 48\n",
      "0.757, якщо 48 <= x < 49\n",
      "0.773, якщо 49 <= x < 50\n",
      "0.789, якщо 50 <= x < 51\n",
      "0.809, якщо 51 <= x < 52\n",
      "0.824, якщо 52 <= x < 53\n",
      "0.838, якщо 53 <= x < 54\n",
      "0.85, якщо 54 <= x < 55\n",
      "0.865, якщо 55 <= x < 56\n",
      "0.883, якщо 56 <= x < 57\n",
      "0.902, якщо 57 <= x < 58\n",
      "0.913, якщо 58 <= x < 59\n",
      "0.926, якщо 59 <= x < 60\n",
      "0.943, якщо 60 <= x < 61\n",
      "0.961, якщо 61 <= x < 62\n",
      "0.968, якщо 62 <= x < 63\n",
      "0.981, якщо 63 <= x < 64\n",
      "1.0, якщо x >= 64\n"
     ]
    }
   ],
   "source": [
    "print_empirical_distribution_function(sorted_a)"
   ],
   "metadata": {
    "collapsed": false,
    "ExecuteTime": {
     "end_time": "2024-02-23T20:46:48.894001100Z",
     "start_time": "2024-02-23T20:46:48.697989Z"
    }
   },
   "id": "e13f3e182251a069"
  },
  {
   "cell_type": "code",
   "execution_count": 376,
   "outputs": [],
   "source": [
    "def show_plot(a):\n",
    "    distinct_v = list(a.keys())\n",
    "    probs = list(a.values())\n",
    "\n",
    "    for i in range(len(distinct_v)-1):\n",
    "        plt.plot([distinct_v[i], distinct_v[i]], [probs[i], 0], linestyle='dashed')\n",
    "        plt.plot([distinct_v[i], distinct_v[i+1]], [probs[i],probs[i]], linestyle='solid')\n",
    "        \n",
    "    plt.plot([distinct_v[-1], distinct_v[-1]], [probs[-1], 0], linestyle='dashed')\n",
    "    plt.plot([distinct_v[-1], distinct_v[-1]+5], [probs[-1], probs[-1]], linestyle='solid')\n",
    "    plt.plot([distinct_v[0]-5, distinct_v[-1]+5], [0, 0], linestyle='solid')\n",
    "\n",
    "    plt.show()"
   ],
   "metadata": {
    "collapsed": false,
    "ExecuteTime": {
     "end_time": "2024-02-23T20:46:49.619968Z",
     "start_time": "2024-02-23T20:46:49.277941600Z"
    }
   },
   "id": "97d6fdbf5ed61660"
  },
  {
   "cell_type": "code",
   "execution_count": 377,
   "outputs": [
    {
     "data": {
      "text/plain": "<Figure size 640x480 with 1 Axes>",
      "image/png": "[encoded data removed]"
     },
     "metadata": {},
     "output_type": "display_data"
    }
   ],
   "source": [
    "show_plot(empirical_distribution_function(sorted_a))"
   ],
   "metadata": {
    "collapsed": false,
    "ExecuteTime": {
     "end_time": "2024-02-23T20:47:01.131361200Z",
     "start_time": "2024-02-23T20:46:49.323948900Z"
    }
   },
   "id": "2087549d163e3511"
  },
  {
   "cell_type": "code",
   "execution_count": 378,
   "outputs": [],
   "source": [
    "#медіана\n",
    "def median(a):\n",
    "    n = len(a)\n",
    "    if n % 2 == 0:\n",
    "        return (a[n//2-1] + a[n//2])/2\n",
    "    else:\n",
    "        return a[n//2]"
   ],
   "metadata": {
    "collapsed": false,
    "ExecuteTime": {
     "end_time": "2024-02-23T20:47:01.453389700Z",
     "start_time": "2024-02-23T20:47:01.101361300Z"
    }
   },
   "id": "a9f80c34c1430a35"
  },
  {
   "cell_type": "code",
   "execution_count": 379,
   "outputs": [
    {
     "data": {
      "text/plain": "34.0"
     },
     "execution_count": 379,
     "metadata": {},
     "output_type": "execute_result"
    }
   ],
   "source": [
    "median(sorted_a)"
   ],
   "metadata": {
    "collapsed": false,
    "ExecuteTime": {
     "end_time": "2024-02-23T20:47:01.454384900Z",
     "start_time": "2024-02-23T20:47:01.188365800Z"
    }
   },
   "id": "a70c41b110c6a16"
  },
  {
   "cell_type": "code",
   "execution_count": 380,
   "outputs": [],
   "source": [
    "#мода\n",
    "def mode(a):\n",
    "    res = frequency_table(a)\n",
    "    max_freq = max(res.values())\n",
    "    return [i for i in res if res[i] == max_freq]"
   ],
   "metadata": {
    "collapsed": false,
    "ExecuteTime": {
     "end_time": "2024-02-23T20:47:01.455385800Z",
     "start_time": "2024-02-23T20:47:01.238370700Z"
    }
   },
   "id": "6ba4bcf7f014294b"
  },
  {
   "cell_type": "code",
   "execution_count": 381,
   "outputs": [
    {
     "data": {
      "text/plain": "[36]"
     },
     "execution_count": 381,
     "metadata": {},
     "output_type": "execute_result"
    }
   ],
   "source": [
    "mode(sorted_a)"
   ],
   "metadata": {
    "collapsed": false,
    "ExecuteTime": {
     "end_time": "2024-02-23T20:47:01.538391600Z",
     "start_time": "2024-02-23T20:47:01.266372900Z"
    }
   },
   "id": "ee33aaf624b26bbe"
  },
  {
   "cell_type": "code",
   "execution_count": 382,
   "outputs": [],
   "source": [
    "#вибіркове середнє значення\n",
    "def sample_mean(a):\n",
    "    res = frequency_table(a)\n",
    "    summ = 0\n",
    "    for i in res:\n",
    "        summ+=i*res[i]\n",
    "    return summ/len(a)"
   ],
   "metadata": {
    "collapsed": false,
    "ExecuteTime": {
     "end_time": "2024-02-23T20:47:01.540391600Z",
     "start_time": "2024-02-23T20:47:01.319375200Z"
    }
   },
   "id": "2737acb3286b1bd4"
  },
  {
   "cell_type": "code",
   "execution_count": 383,
   "outputs": [
    {
     "data": {
      "text/plain": "32.754"
     },
     "execution_count": 383,
     "metadata": {},
     "output_type": "execute_result"
    }
   ],
   "source": [
    "sample_mean(sorted_a)"
   ],
   "metadata": {
    "collapsed": false,
    "ExecuteTime": {
     "end_time": "2024-02-23T20:47:01.971424700Z",
     "start_time": "2024-02-23T20:47:01.373381400Z"
    }
   },
   "id": "a9e3ef27bbb5204f"
  },
  {
   "cell_type": "code",
   "execution_count": 384,
   "outputs": [],
   "source": [
    "#девіація\n",
    "def deviation(a):\n",
    "    res = frequency_table(a)\n",
    "    mean = sample_mean(a)\n",
    "    return sum([((i - mean)**2) * res[i] for i in res])"
   ],
   "metadata": {
    "collapsed": false,
    "ExecuteTime": {
     "end_time": "2024-02-23T20:47:02.666090300Z",
     "start_time": "2024-02-23T20:47:01.498388200Z"
    }
   },
   "id": "52b3540bf9fa14f2"
  },
  {
   "cell_type": "code",
   "execution_count": 385,
   "outputs": [
    {
     "data": {
      "text/plain": "327761.48400000005"
     },
     "execution_count": 385,
     "metadata": {},
     "output_type": "execute_result"
    }
   ],
   "source": [
    "deviation(sorted_a)"
   ],
   "metadata": {
    "collapsed": false,
    "ExecuteTime": {
     "end_time": "2024-02-23T20:47:02.746329900Z",
     "start_time": "2024-02-23T20:47:01.568394400Z"
    }
   },
   "id": "62a754c9a97ddba7"
  },
  {
   "cell_type": "code",
   "execution_count": 386,
   "outputs": [],
   "source": [
    "#варіанса\n",
    "def variance(a):\n",
    "    return deviation(a)/(len(a)-1)"
   ],
   "metadata": {
    "collapsed": false,
    "ExecuteTime": {
     "end_time": "2024-02-23T20:47:02.747329500Z",
     "start_time": "2024-02-23T20:47:01.643407Z"
    }
   },
   "id": "7a0bcafb9a23af1b"
  },
  {
   "cell_type": "code",
   "execution_count": 387,
   "outputs": [
    {
     "data": {
      "text/plain": "328.0895735735736"
     },
     "execution_count": 387,
     "metadata": {},
     "output_type": "execute_result"
    }
   ],
   "source": [
    "variance(sorted_a)"
   ],
   "metadata": {
    "collapsed": false,
    "ExecuteTime": {
     "end_time": "2024-02-23T20:47:02.757328700Z",
     "start_time": "2024-02-23T20:47:01.701402600Z"
    }
   },
   "id": "be21bf80b71cd936"
  },
  {
   "cell_type": "code",
   "execution_count": 388,
   "outputs": [],
   "source": [
    "#стандарт\n",
    "def standard(a):\n",
    "    return math.sqrt(variance(a))"
   ],
   "metadata": {
    "collapsed": false,
    "ExecuteTime": {
     "end_time": "2024-02-23T20:47:02.757328700Z",
     "start_time": "2024-02-23T20:47:01.841414200Z"
    }
   },
   "id": "c162186a88510961"
  },
  {
   "cell_type": "code",
   "execution_count": 389,
   "outputs": [
    {
     "data": {
      "text/plain": "18.113243044070646"
     },
     "execution_count": 389,
     "metadata": {},
     "output_type": "execute_result"
    }
   ],
   "source": [
    "standard(sorted_a)"
   ],
   "metadata": {
    "collapsed": false,
    "ExecuteTime": {
     "end_time": "2024-02-23T20:47:02.758331200Z",
     "start_time": "2024-02-23T20:47:01.895417100Z"
    }
   },
   "id": "162a25806ddc0328"
  },
  {
   "cell_type": "code",
   "execution_count": 390,
   "outputs": [],
   "source": [
    "#варіація\n",
    "def variation(a):\n",
    "    return standard(a)/sample_mean(a)"
   ],
   "metadata": {
    "collapsed": false,
    "ExecuteTime": {
     "end_time": "2024-02-23T20:47:02.829335600Z",
     "start_time": "2024-02-23T20:47:01.968422800Z"
    }
   },
   "id": "98acc20db9a1bed4"
  },
  {
   "cell_type": "code",
   "execution_count": 391,
   "outputs": [
    {
     "data": {
      "text/plain": "0.5530085804503464"
     },
     "execution_count": 391,
     "metadata": {},
     "output_type": "execute_result"
    }
   ],
   "source": [
    "variation(sorted_a)"
   ],
   "metadata": {
    "collapsed": false,
    "ExecuteTime": {
     "end_time": "2024-02-23T20:47:02.893344800Z",
     "start_time": "2024-02-23T20:47:02.000425400Z"
    }
   },
   "id": "d16063a60ac0d83b"
  },
  {
   "cell_type": "code",
   "execution_count": 392,
   "outputs": [],
   "source": [
    "#вибіркова дисперсія\n",
    "def dispersion(a):\n",
    "    return deviation(a)/len(a)"
   ],
   "metadata": {
    "collapsed": false,
    "ExecuteTime": {
     "end_time": "2024-02-23T20:47:02.895340900Z",
     "start_time": "2024-02-23T20:47:02.125434600Z"
    }
   },
   "id": "79160d49cdfa313d"
  },
  {
   "cell_type": "code",
   "execution_count": 393,
   "outputs": [
    {
     "data": {
      "text/plain": "327.76148400000005"
     },
     "execution_count": 393,
     "metadata": {},
     "output_type": "execute_result"
    }
   ],
   "source": [
    "dispersion(sorted_a)"
   ],
   "metadata": {
    "collapsed": false,
    "ExecuteTime": {
     "end_time": "2024-02-23T20:47:02.896340200Z",
     "start_time": "2024-02-23T20:47:02.207847500Z"
    }
   },
   "id": "49e7653d9da02e4e"
  },
  {
   "cell_type": "code",
   "execution_count": 394,
   "outputs": [],
   "source": [
    "#вибіркове середнє квадратичне відхилення\n",
    "def mean_square_deviation(a):\n",
    "    return math.sqrt(dispersion(a))"
   ],
   "metadata": {
    "collapsed": false,
    "ExecuteTime": {
     "end_time": "2024-02-23T20:47:02.905339800Z",
     "start_time": "2024-02-23T20:47:02.348026200Z"
    }
   },
   "id": "8caf3e16d7adc956"
  },
  {
   "cell_type": "code",
   "execution_count": 395,
   "outputs": [
    {
     "data": {
      "text/plain": "18.104184157260445"
     },
     "execution_count": 395,
     "metadata": {},
     "output_type": "execute_result"
    }
   ],
   "source": [
    "mean_square_deviation(sorted_a)"
   ],
   "metadata": {
    "collapsed": false,
    "ExecuteTime": {
     "end_time": "2024-02-23T20:47:02.906341300Z",
     "start_time": "2024-02-23T20:47:02.490036500Z"
    }
   },
   "id": "5c5a43c97754c023"
  },
  {
   "cell_type": "code",
   "execution_count": 396,
   "outputs": [],
   "source": [
    "#центральний момент k-го порядку\n",
    "def central_moment(a, k):\n",
    "    res = frequency_table(a)\n",
    "    mean = sample_mean(a)\n",
    "    return sum([((i - mean)**k)*res[i] for i in res])/len(a)"
   ],
   "metadata": {
    "collapsed": false,
    "ExecuteTime": {
     "end_time": "2024-02-23T20:47:02.976346400Z",
     "start_time": "2024-02-23T20:47:02.612087300Z"
    }
   },
   "id": "a7f7ba312d6eba5d"
  },
  {
   "cell_type": "code",
   "execution_count": 397,
   "outputs": [
    {
     "data": {
      "text/plain": "327.76148400000005"
     },
     "execution_count": 397,
     "metadata": {},
     "output_type": "execute_result"
    }
   ],
   "source": [
    "central_moment(sorted_a, 2)"
   ],
   "metadata": {
    "collapsed": false,
    "ExecuteTime": {
     "end_time": "2024-02-23T20:47:04.007532800Z",
     "start_time": "2024-02-23T20:47:02.696093Z"
    }
   },
   "id": "ec993fb1085f874f"
  },
  {
   "cell_type": "code",
   "execution_count": 398,
   "outputs": [],
   "source": [
    "#асиметрія\n",
    "def skewness(a):\n",
    "    return central_moment(a, 3)/((central_moment(a, 2)**(3/2)))\n"
   ],
   "metadata": {
    "collapsed": false,
    "ExecuteTime": {
     "end_time": "2024-02-23T20:47:04.259989200Z",
     "start_time": "2024-02-23T20:47:03.302372500Z"
    }
   },
   "id": "871791bd8e41607b"
  },
  {
   "cell_type": "code",
   "execution_count": 399,
   "outputs": [
    {
     "data": {
      "text/plain": "-0.030675026671140842"
     },
     "execution_count": 399,
     "metadata": {},
     "output_type": "execute_result"
    }
   ],
   "source": [
    "skewness(sorted_a)"
   ],
   "metadata": {
    "collapsed": false,
    "ExecuteTime": {
     "end_time": "2024-02-23T20:47:04.304989100Z",
     "start_time": "2024-02-23T20:47:03.406379200Z"
    }
   },
   "id": "ebf30c222c746455"
  },
  {
   "cell_type": "code",
   "execution_count": 400,
   "outputs": [],
   "source": [
    "#ексцес\n",
    "def kurtosis(a):\n",
    "    return (central_moment(a, 4)/((central_moment(a, 2)**2))) - 3"
   ],
   "metadata": {
    "collapsed": false,
    "ExecuteTime": {
     "end_time": "2024-02-23T20:47:04.304989100Z",
     "start_time": "2024-02-23T20:47:03.471381900Z"
    }
   },
   "id": "9bfc74afe727bd16"
  },
  {
   "cell_type": "code",
   "execution_count": 401,
   "outputs": [
    {
     "data": {
      "text/plain": "-1.1578703205687573"
     },
     "execution_count": 401,
     "metadata": {},
     "output_type": "execute_result"
    }
   ],
   "source": [
    "kurtosis(sorted_a)"
   ],
   "metadata": {
    "collapsed": false,
    "ExecuteTime": {
     "end_time": "2024-02-23T20:47:04.321993200Z",
     "start_time": "2024-02-23T20:47:03.521385600Z"
    }
   },
   "id": "3eea032c6d1e4634"
  },
  {
   "cell_type": "code",
   "execution_count": 402,
   "outputs": [],
   "source": [
    "#розмах\n",
    "def rrange(a):\n",
    "    return max(a) - min(a)"
   ],
   "metadata": {
    "collapsed": false,
    "ExecuteTime": {
     "end_time": "2024-02-23T20:47:04.628013700Z",
     "start_time": "2024-02-23T20:47:03.924529600Z"
    }
   },
   "id": "b2b268583ab32591"
  },
  {
   "cell_type": "code",
   "execution_count": 403,
   "outputs": [
    {
     "data": {
      "text/plain": "63"
     },
     "execution_count": 403,
     "metadata": {},
     "output_type": "execute_result"
    }
   ],
   "source": [
    "rrange(sorted_a)"
   ],
   "metadata": {
    "collapsed": false,
    "ExecuteTime": {
     "end_time": "2024-02-23T20:47:04.771022700Z",
     "start_time": "2024-02-23T20:47:04.293989600Z"
    }
   },
   "id": "a2db7c0b49810a47"
  },
  {
   "cell_type": "code",
   "execution_count": 404,
   "outputs": [],
   "source": [
    "def get_quantiles(a):\n",
    "    data = {(4, \"Квартил\"): [], (8, \"Октил\"): [], (10, \"Децил\"): [],\n",
    "            (100, \"Центил\"): [], (1000, \"Міліл\"): []}\n",
    "\n",
    "    for k in data.keys():\n",
    "        if len(a) % k[0] == 0:\n",
    "            data[k] = [a[int(len(a) / k[0] * (i + 1))] for i in range(k[0] - 1)]\n",
    "\n",
    "    for k, v in data.items():\n",
    "        if v:\n",
    "            print(f\"{k[1]}і: {v}\")\n",
    "            print(f\"Інтер{k[1].lower()}ьна широта: {v[len(v) - 1] - v[0]}\\n\")"
   ],
   "metadata": {
    "collapsed": false,
    "ExecuteTime": {
     "end_time": "2024-02-23T20:47:04.799144500Z",
     "start_time": "2024-02-23T20:47:04.402001400Z"
    }
   },
   "id": "b64952f2b82eda27"
  },
  {
   "cell_type": "code",
   "execution_count": 405,
   "outputs": [
    {
     "name": "stdout",
     "output_type": "stream",
     "text": [
      "Квартилі: [17, 34, 48]\n",
      "Інтерквартильна широта: 31\n",
      "\n",
      "Октилі: [9, 17, 25, 34, 40, 48, 56]\n",
      "Інтероктильна широта: 47\n",
      "\n",
      "Децилі: [7, 14, 20, 27, 34, 39, 45, 51, 57]\n",
      "Інтердецильна широта: 50\n",
      "\n",
      "Центилі: [1, 2, 3, 4, 4, 5, 5, 6, 7, 7, 8, 9, 9, 10, 11, 11, 12, 13, 14, 14, 15, 16, 16, 17, 17, 18, 19, 19, 20, 20, 21, 22, 23, 23, 24, 25, 25, 26, 26, 27, 27, 28, 29, 29, 30, 30, 31, 32, 33, 34, 34, 35, 36, 36, 37, 37, 37, 38, 39, 39, 40, 40, 41, 41, 42, 42, 43, 44, 45, 45, 46, 46, 47, 48, 48, 49, 49, 50, 51, 51, 52, 52, 53, 54, 55, 55, 56, 56, 57, 57, 58, 59, 60, 60, 61, 61, 63, 63, 64]\n",
      "Інтерцентильна широта: 63\n",
      "\n",
      "Мілілі: [1, 1, 1, 1, 1, 1, 1, 1, 1, 1, 2, 2, 2, 2, 2, 2, 2, 2, 2, 2, 2, 2, 3, 3, 3, 3, 3, 3, 3, 3, 3, 3, 3, 3, 3, 3, 3, 3, 3, 4, 4, 4, 4, 4, 4, 4, 4, 4, 4, 4, 4, 4, 4, 4, 4, 4, 4, 5, 5, 5, 5, 5, 5, 5, 5, 5, 5, 5, 5, 5, 5, 5, 5, 6, 6, 6, 6, 6, 6, 6, 6, 6, 6, 6, 6, 6, 6, 6, 6, 7, 7, 7, 7, 7, 7, 7, 7, 7, 7, 7, 7, 7, 7, 7, 7, 7, 8, 8, 8, 8, 8, 8, 8, 8, 8, 8, 8, 8, 9, 9, 9, 9, 9, 9, 9, 9, 9, 9, 9, 9, 9, 9, 9, 9, 9, 9, 9, 10, 10, 10, 10, 10, 10, 10, 10, 10, 10, 10, 11, 11, 11, 11, 11, 11, 11, 11, 11, 11, 11, 11, 11, 12, 12, 12, 12, 12, 12, 12, 12, 12, 12, 12, 12, 12, 12, 13, 13, 13, 13, 13, 13, 13, 13, 13, 13, 13, 13, 14, 14, 14, 14, 14, 14, 14, 14, 14, 14, 14, 14, 14, 14, 14, 14, 14, 15, 15, 15, 15, 15, 15, 15, 15, 15, 15, 15, 15, 15, 15, 15, 16, 16, 16, 16, 16, 16, 16, 16, 16, 16, 16, 16, 16, 16, 16, 16, 16, 17, 17, 17, 17, 17, 17, 17, 17, 17, 17, 17, 17, 17, 17, 17, 17, 18, 18, 18, 18, 18, 18, 18, 18, 18, 18, 18, 18, 18, 18, 18, 19, 19, 19, 19, 19, 19, 19, 19, 19, 19, 19, 19, 19, 19, 19, 19, 19, 20, 20, 20, 20, 20, 20, 20, 20, 20, 20, 20, 20, 20, 20, 20, 20, 20, 20, 21, 21, 21, 21, 21, 21, 21, 21, 21, 21, 21, 22, 22, 22, 22, 22, 22, 22, 22, 22, 22, 22, 22, 22, 22, 22, 22, 23, 23, 23, 23, 23, 23, 23, 23, 23, 23, 23, 23, 23, 23, 23, 24, 24, 24, 24, 24, 24, 24, 24, 24, 24, 24, 24, 24, 24, 25, 25, 25, 25, 25, 25, 25, 25, 25, 25, 25, 25, 25, 25, 25, 25, 25, 25, 26, 26, 26, 26, 26, 26, 26, 26, 26, 26, 26, 26, 26, 26, 26, 26, 27, 27, 27, 27, 27, 27, 27, 27, 27, 27, 27, 27, 27, 27, 27, 27, 27, 27, 27, 27, 27, 28, 28, 28, 28, 28, 28, 28, 28, 28, 28, 28, 28, 28, 28, 28, 28, 29, 29, 29, 29, 29, 29, 29, 29, 29, 29, 29, 29, 29, 29, 29, 29, 29, 29, 29, 29, 30, 30, 30, 30, 30, 30, 30, 30, 30, 30, 30, 30, 30, 30, 30, 30, 31, 31, 31, 31, 31, 31, 31, 31, 32, 32, 32, 32, 32, 32, 32, 32, 32, 32, 33, 33, 33, 33, 33, 33, 33, 33, 33, 33, 33, 34, 34, 34, 34, 34, 34, 34, 34, 34, 34, 34, 34, 34, 34, 34, 34, 34, 34, 35, 35, 35, 35, 35, 35, 35, 35, 35, 35, 36, 36, 36, 36, 36, 36, 36, 36, 36, 36, 36, 36, 36, 36, 36, 36, 36, 36, 36, 36, 36, 36, 36, 36, 36, 36, 36, 37, 37, 37, 37, 37, 37, 37, 37, 37, 37, 37, 37, 37, 37, 37, 37, 37, 37, 37, 37, 37, 37, 37, 38, 38, 38, 38, 38, 38, 38, 38, 38, 38, 38, 38, 38, 38, 38, 38, 38, 39, 39, 39, 39, 39, 39, 39, 39, 39, 39, 39, 39, 39, 39, 39, 39, 39, 39, 40, 40, 40, 40, 40, 40, 40, 40, 40, 40, 40, 40, 40, 40, 40, 40, 40, 40, 40, 40, 40, 40, 41, 41, 41, 41, 41, 41, 41, 41, 41, 41, 41, 41, 41, 42, 42, 42, 42, 42, 42, 42, 42, 42, 42, 42, 42, 42, 42, 42, 42, 42, 42, 42, 42, 43, 43, 43, 43, 43, 43, 43, 43, 43, 43, 43, 44, 44, 44, 44, 44, 44, 44, 44, 44, 44, 44, 44, 44, 45, 45, 45, 45, 45, 45, 45, 45, 45, 45, 45, 45, 45, 45, 45, 45, 45, 45, 45, 45, 46, 46, 46, 46, 46, 46, 46, 46, 46, 46, 46, 46, 46, 46, 46, 46, 46, 46, 46, 47, 47, 47, 47, 47, 47, 47, 47, 47, 47, 47, 47, 47, 47, 48, 48, 48, 48, 48, 48, 48, 48, 48, 48, 48, 48, 48, 48, 48, 48, 48, 49, 49, 49, 49, 49, 49, 49, 49, 49, 49, 49, 49, 49, 49, 49, 49, 50, 50, 50, 50, 50, 50, 50, 50, 50, 50, 50, 50, 50, 50, 50, 50, 51, 51, 51, 51, 51, 51, 51, 51, 51, 51, 51, 51, 51, 51, 51, 51, 51, 51, 51, 51, 52, 52, 52, 52, 52, 52, 52, 52, 52, 52, 52, 52, 52, 52, 52, 53, 53, 53, 53, 53, 53, 53, 53, 53, 53, 53, 53, 53, 53, 54, 54, 54, 54, 54, 54, 54, 54, 54, 54, 54, 54, 55, 55, 55, 55, 55, 55, 55, 55, 55, 55, 55, 55, 55, 55, 55, 56, 56, 56, 56, 56, 56, 56, 56, 56, 56, 56, 56, 56, 56, 56, 56, 56, 56, 57, 57, 57, 57, 57, 57, 57, 57, 57, 57, 57, 57, 57, 57, 57, 57, 57, 57, 57, 58, 58, 58, 58, 58, 58, 58, 58, 58, 58, 58, 59, 59, 59, 59, 59, 59, 59, 59, 59, 59, 59, 59, 59, 60, 60, 60, 60, 60, 60, 60, 60, 60, 60, 60, 60, 60, 60, 60, 60, 60, 61, 61, 61, 61, 61, 61, 61, 61, 61, 61, 61, 61, 61, 61, 61, 61, 61, 61, 62, 62, 62, 62, 62, 62, 62, 63, 63, 63, 63, 63, 63, 63, 63, 63, 63, 63, 63, 63, 64, 64, 64, 64, 64, 64, 64, 64, 64, 64, 64, 64, 64, 64, 64, 64, 64, 64, 64]\n",
      "Інтермілільна широта: 63\n"
     ]
    }
   ],
   "source": [
    "get_quantiles(sorted_a)"
   ],
   "metadata": {
    "collapsed": false,
    "ExecuteTime": {
     "end_time": "2024-02-23T20:47:04.801148400Z",
     "start_time": "2024-02-23T20:47:04.481004400Z"
    }
   },
   "id": "8ddc5999c0eaeffc"
  },
  {
   "cell_type": "code",
   "execution_count": 406,
   "outputs": [],
   "source": [
    "#інтервальний розподіл\n",
    "def interval_distribution(a):\n",
    "    n = len(a)\n",
    "    k = math.ceil(math.log2(n))\n",
    "    h = (max(a) - min(a)) / k\n",
    "    intervals = [min(a) + h * i for i in range(k + 1)]\n",
    "    freq = [0] * k\n",
    "    res = frequency_table(a)\n",
    "    for i in res:\n",
    "        for j in range(k):\n",
    "            if intervals[j] <= i < intervals[j + 1]:\n",
    "                freq[j] += res[i]\n",
    "                break\n",
    "    freq[-1] += res[max(a)]\n",
    "    return intervals, freq"
   ],
   "metadata": {
    "collapsed": false,
    "ExecuteTime": {
     "end_time": "2024-02-23T20:47:04.801148400Z",
     "start_time": "2024-02-23T20:47:04.515006300Z"
    }
   },
   "id": "c1dd49fe25af49d0"
  },
  {
   "cell_type": "code",
   "execution_count": 407,
   "outputs": [
    {
     "data": {
      "text/plain": "([1.0,\n  7.3,\n  13.6,\n  19.9,\n  26.2,\n  32.5,\n  38.8,\n  45.1,\n  51.4,\n  57.699999999999996,\n  64.0],\n [107, 81, 97, 108, 91, 106, 117, 102, 93, 98])"
     },
     "execution_count": 407,
     "metadata": {},
     "output_type": "execute_result"
    }
   ],
   "source": [
    "interval_distribution(sorted_a)"
   ],
   "metadata": {
    "collapsed": false,
    "ExecuteTime": {
     "end_time": "2024-02-23T20:47:04.802146900Z",
     "start_time": "2024-02-23T20:47:04.581010500Z"
    }
   },
   "id": "8507a18ea614cc3b"
  },
  {
   "cell_type": "code",
   "execution_count": 408,
   "outputs": [],
   "source": [
    "def print_interval_distribution(a):\n",
    "    intervals, freq = interval_distribution(a)\n",
    "    for i in range(len(intervals) - 1):\n",
    "        print(f\"{intervals[i]} - {intervals[i + 1]}: {freq[i]}\")"
   ],
   "metadata": {
    "collapsed": false,
    "ExecuteTime": {
     "end_time": "2024-02-23T20:47:04.926156200Z",
     "start_time": "2024-02-23T20:47:04.638013300Z"
    }
   },
   "id": "94b023a4ec1ce8f1"
  },
  {
   "cell_type": "code",
   "execution_count": 409,
   "outputs": [
    {
     "name": "stdout",
     "output_type": "stream",
     "text": [
      "1.0 - 7.3: 107\n",
      "7.3 - 13.6: 81\n",
      "13.6 - 19.9: 97\n",
      "19.9 - 26.2: 108\n",
      "26.2 - 32.5: 91\n",
      "32.5 - 38.8: 106\n",
      "38.8 - 45.1: 117\n",
      "45.1 - 51.4: 102\n",
      "51.4 - 57.699999999999996: 93\n",
      "57.699999999999996 - 64.0: 98\n"
     ]
    }
   ],
   "source": [
    "print_interval_distribution(sorted_a)"
   ],
   "metadata": {
    "collapsed": false,
    "ExecuteTime": {
     "end_time": "2024-02-23T20:47:05.732221100Z",
     "start_time": "2024-02-23T20:47:04.992165700Z"
    }
   },
   "id": "1e624e9f3fe32210"
  },
  {
   "cell_type": "code",
   "execution_count": 410,
   "outputs": [],
   "source": [
    "#гістограма інтервального розподілу\n",
    "def histogram(a):\n",
    "    intervals, freq = interval_distribution(a)\n",
    "    plt.bar(intervals[:-1], freq, width=intervals[1] - intervals[0], align='edge')\n",
    "    plt.xticks(intervals)\n",
    "    plt.yticks(freq)\n",
    "    plt.show()"
   ],
   "metadata": {
    "collapsed": false,
    "ExecuteTime": {
     "end_time": "2024-02-23T20:47:05.732221100Z",
     "start_time": "2024-02-23T20:47:05.124180700Z"
    }
   },
   "id": "2451d85f4e9099fe"
  },
  {
   "cell_type": "code",
   "execution_count": 411,
   "outputs": [
    {
     "data": {
      "text/plain": "<Figure size 640x480 with 1 Axes>",
      "image/png": "[encoded data removed]"
     },
     "metadata": {},
     "output_type": "display_data"
    }
   ],
   "source": [
    "histogram(sorted_a)"
   ],
   "metadata": {
    "collapsed": false,
    "ExecuteTime": {
     "end_time": "2024-02-23T20:47:06.448968100Z",
     "start_time": "2024-02-23T20:47:05.220082400Z"
    }
   },
   "id": "40579fff6060cd27"
  },
  {
   "cell_type": "code",
   "execution_count": 412,
   "outputs": [],
   "source": [
    "#графік емпіричної функція розподілу\n",
    "def empirical_distribution_function_plot(a):\n",
    "    x,freq = interval_distribution(a)\n",
    "    freqq = []\n",
    "    freqq.append(0)\n",
    "    for i in range(len(freq)):\n",
    "        freqq.append(freqq[-1]+freq[i])\n",
    "    freq = freqq\n",
    "    freq = [i/len(a) for i in freq]\n",
    "    plt.plot(x, freq)\n",
    "    plt.show()"
   ],
   "metadata": {
    "collapsed": false,
    "ExecuteTime": {
     "end_time": "2024-02-23T20:47:06.730983200Z",
     "start_time": "2024-02-23T20:47:06.444963600Z"
    }
   },
   "id": "fd7b2d8e5c8f93f4"
  },
  {
   "cell_type": "code",
   "execution_count": 413,
   "outputs": [
    {
     "data": {
      "text/plain": "<Figure size 640x480 with 1 Axes>",
      "image/png": "[encoded data removed]"
     },
     "metadata": {},
     "output_type": "display_data"
    }
   ],
   "source": [
    "empirical_distribution_function_plot(sorted_a)"
   ],
   "metadata": {
    "collapsed": false,
    "ExecuteTime": {
     "end_time": "2024-02-23T20:47:07.289980900Z",
     "start_time": "2024-02-23T20:47:06.490965800Z"
    }
   },
   "id": "b187357c7f61a985"
  },
  {
   "cell_type": "code",
   "execution_count": 414,
   "outputs": [],
   "source": [
    "#інтервальний розподіл зведений до дискретного\n",
    "def interval_distribution_discrete(a):\n",
    "    intervals, freq = interval_distribution(a)\n",
    "    x = [(intervals[i] + intervals[i + 1]) / 2 for i in range(len(intervals) - 1)]\n",
    "    return x, freq"
   ],
   "metadata": {
    "collapsed": false,
    "ExecuteTime": {
     "end_time": "2024-02-23T20:47:07.543003Z",
     "start_time": "2024-02-23T20:47:07.261982300Z"
    }
   },
   "id": "c4511f006f1240a8"
  },
  {
   "cell_type": "code",
   "execution_count": 415,
   "outputs": [
    {
     "data": {
      "text/plain": "([4.15,\n  10.45,\n  16.75,\n  23.049999999999997,\n  29.35,\n  35.65,\n  41.95,\n  48.25,\n  54.55,\n  60.849999999999994],\n [107, 81, 97, 108, 91, 106, 117, 102, 93, 98])"
     },
     "execution_count": 415,
     "metadata": {},
     "output_type": "execute_result"
    }
   ],
   "source": [
    "interval_distribution_discrete(sorted_a)"
   ],
   "metadata": {
    "collapsed": false,
    "ExecuteTime": {
     "end_time": "2024-02-23T20:47:07.668012200Z",
     "start_time": "2024-02-23T20:47:07.291983400Z"
    }
   },
   "id": "cce369b2b3fa51c5"
  },
  {
   "cell_type": "code",
   "execution_count": 416,
   "outputs": [],
   "source": [
    "def find_interval(a):\n",
    "    x, freq = interval_distribution(a)\n",
    "    n = len(a)\n",
    "    for i in range(2,len(freq)):\n",
    "        if sum(freq[:i-1]) < n /2 and sum(freq[i:]) < n / 2:\n",
    "            return x[i-1], x[i], freq[i-1], sum(freq[:i-1])    \n",
    "            break"
   ],
   "metadata": {
    "collapsed": false,
    "ExecuteTime": {
     "end_time": "2024-02-23T20:47:07.669009700Z",
     "start_time": "2024-02-23T20:47:07.333986300Z"
    }
   },
   "id": "d3ec5ce35d9f181b"
  },
  {
   "cell_type": "code",
   "execution_count": 417,
   "outputs": [],
   "source": [
    "def median_interval(a):\n",
    "    n = len(a)\n",
    "    x1, x2, x3, x4 = find_interval(a)\n",
    "    return x1 + (n/2 - x4) * (x2 - x1) / x3"
   ],
   "metadata": {
    "collapsed": false,
    "ExecuteTime": {
     "end_time": "2024-02-23T20:47:07.669009700Z",
     "start_time": "2024-02-23T20:47:07.376987400Z"
    }
   },
   "id": "7b35a4fe910f3db8"
  },
  {
   "cell_type": "code",
   "execution_count": 418,
   "outputs": [
    {
     "data": {
      "text/plain": "33.450943396226414"
     },
     "execution_count": 418,
     "metadata": {},
     "output_type": "execute_result"
    }
   ],
   "source": [
    "median_interval(sorted_a)"
   ],
   "metadata": {
    "collapsed": false,
    "ExecuteTime": {
     "end_time": "2024-02-23T20:47:07.736017600Z",
     "start_time": "2024-02-23T20:47:07.416991Z"
    }
   },
   "id": "d809ab341894ad0a"
  },
  {
   "cell_type": "code",
   "execution_count": 419,
   "outputs": [],
   "source": [
    "def find_mode_interval(a):\n",
    "    x, freq = interval_distribution(a)\n",
    "    res = {}\n",
    "    max_freq = max(freq)\n",
    "    for i in range(len(freq)):\n",
    "        if freq[i] == max_freq:\n",
    "            if i == 0:\n",
    "                res[(x[i], x[i+1])] = [0, freq[i], freq[i+1]]\n",
    "            elif i == len(freq) - 1:\n",
    "                res[(x[i], x[i+1])] = [freq[i-1], freq[i], 0]\n",
    "            else:\n",
    "                res[(x[i], x[i+1])] = [freq[i-1], freq[i], freq[i+1]]\n",
    "    return res"
   ],
   "metadata": {
    "collapsed": false,
    "ExecuteTime": {
     "end_time": "2024-02-23T20:47:07.753015700Z",
     "start_time": "2024-02-23T20:47:07.482995600Z"
    }
   },
   "id": "d198e06285707fc"
  },
  {
   "cell_type": "code",
   "execution_count": 420,
   "outputs": [
    {
     "data": {
      "text/plain": "{(38.8, 45.1): [106, 117, 102]}"
     },
     "execution_count": 420,
     "metadata": {},
     "output_type": "execute_result"
    }
   ],
   "source": [
    "find_mode_interval(sorted_a)"
   ],
   "metadata": {
    "collapsed": false,
    "ExecuteTime": {
     "end_time": "2024-02-23T20:47:08.034035900Z",
     "start_time": "2024-02-23T20:47:07.550003800Z"
    }
   },
   "id": "244d89f21d0628b0"
  },
  {
   "cell_type": "code",
   "execution_count": 421,
   "outputs": [],
   "source": [
    "def mode_interval(a):\n",
    "    res = find_mode_interval(a)\n",
    "    ans = []\n",
    "    for i in res:\n",
    "        ans.append(i[0]+((res[i][1]-res[i][0])/(2*res[i][1]-res[i][0]-res[i][2]))*(i[1]-i[0]))\n",
    "    return ans"
   ],
   "metadata": {
    "collapsed": false,
    "ExecuteTime": {
     "end_time": "2024-02-23T20:47:08.730086300Z",
     "start_time": "2024-02-23T20:47:07.633008300Z"
    }
   },
   "id": "c0fe2de60639f242"
  },
  {
   "cell_type": "code",
   "execution_count": 422,
   "outputs": [
    {
     "data": {
      "text/plain": "[41.465384615384615]"
     },
     "execution_count": 422,
     "metadata": {},
     "output_type": "execute_result"
    }
   ],
   "source": [
    "mode_interval(sorted_a)"
   ],
   "metadata": {
    "collapsed": false,
    "ExecuteTime": {
     "end_time": "2024-02-23T20:47:08.749087700Z",
     "start_time": "2024-02-23T20:47:07.695014300Z"
    }
   },
   "id": "547f13137d60b69b"
  },
  {
   "cell_type": "code",
   "execution_count": 423,
   "outputs": [],
   "source": [
    "#вибіркове середнє значення з інтервального розподілу\n",
    "def sample_mean_interval(a):\n",
    "    x, freq = interval_distribution_discrete(a)\n",
    "    summ = 0\n",
    "    for i in range(len(x)):\n",
    "        summ+=x[i]*freq[i]\n",
    "    return summ/sum(freq)"
   ],
   "metadata": {
    "collapsed": false,
    "ExecuteTime": {
     "end_time": "2024-02-23T20:47:08.829092500Z",
     "start_time": "2024-02-23T20:47:07.754015400Z"
    }
   },
   "id": "553468212de54ba8"
  },
  {
   "cell_type": "code",
   "execution_count": 424,
   "outputs": [
    {
     "data": {
      "text/plain": "32.720499999999994"
     },
     "execution_count": 424,
     "metadata": {},
     "output_type": "execute_result"
    }
   ],
   "source": [
    "sample_mean_interval(sorted_a)"
   ],
   "metadata": {
    "collapsed": false,
    "ExecuteTime": {
     "end_time": "2024-02-23T20:47:08.892099800Z",
     "start_time": "2024-02-23T20:47:07.828023400Z"
    }
   },
   "id": "94e4fdd8de977b3c"
  },
  {
   "cell_type": "code",
   "execution_count": 425,
   "outputs": [],
   "source": [
    "#розмах з інтервального розподілу\n",
    "def rrange_interval(a):\n",
    "    x, freq = interval_distribution_discrete(a)\n",
    "    return x[-1] - x[0]"
   ],
   "metadata": {
    "collapsed": false,
    "ExecuteTime": {
     "end_time": "2024-02-23T20:47:08.895099Z",
     "start_time": "2024-02-23T20:47:07.875026900Z"
    }
   },
   "id": "c9a97d6d58608bc"
  },
  {
   "cell_type": "code",
   "execution_count": 426,
   "outputs": [
    {
     "data": {
      "text/plain": "56.699999999999996"
     },
     "execution_count": 426,
     "metadata": {},
     "output_type": "execute_result"
    }
   ],
   "source": [
    "rrange_interval(sorted_a)"
   ],
   "metadata": {
    "collapsed": false,
    "ExecuteTime": {
     "end_time": "2024-02-23T20:47:08.974105100Z",
     "start_time": "2024-02-23T20:47:07.928030600Z"
    }
   },
   "id": "accfbdb0ef669dc5"
  },
  {
   "cell_type": "code",
   "execution_count": 427,
   "outputs": [],
   "source": [
    "#девіація з інтервального розподілу\n",
    "def deviation_interval(a):\n",
    "    x, freq = interval_distribution_discrete(a)\n",
    "    mean = sample_mean_interval(a)\n",
    "    return sum([((x[i] - mean)**2) * freq[i] for i in range(len(x))])"
   ],
   "metadata": {
    "collapsed": false,
    "ExecuteTime": {
     "end_time": "2024-02-23T20:47:09.032110Z",
     "start_time": "2024-02-23T20:47:07.983031600Z"
    }
   },
   "id": "1dc05a634dbb75e6"
  },
  {
   "cell_type": "code",
   "execution_count": 428,
   "outputs": [
    {
     "data": {
      "text/plain": "320725.9597499999"
     },
     "execution_count": 428,
     "metadata": {},
     "output_type": "execute_result"
    }
   ],
   "source": [
    "deviation_interval(sorted_a)"
   ],
   "metadata": {
    "collapsed": false,
    "ExecuteTime": {
     "end_time": "2024-02-23T20:47:09.257126200Z",
     "start_time": "2024-02-23T20:47:08.046037200Z"
    }
   },
   "id": "bd9ae90ca7bf455"
  },
  {
   "cell_type": "code",
   "execution_count": 429,
   "outputs": [],
   "source": [
    "#варіанса з інтервального розподілу\n",
    "def variance_interval(a):\n",
    "    return deviation_interval(a)/(sum(interval_distribution_discrete(a)[1])-1)"
   ],
   "metadata": {
    "collapsed": false,
    "ExecuteTime": {
     "end_time": "2024-02-23T20:47:09.258126500Z",
     "start_time": "2024-02-23T20:47:08.131047300Z"
    }
   },
   "id": "7e125d09eb7789d3"
  },
  {
   "cell_type": "code",
   "execution_count": 430,
   "outputs": [
    {
     "data": {
      "text/plain": "321.0470067567567"
     },
     "execution_count": 430,
     "metadata": {},
     "output_type": "execute_result"
    }
   ],
   "source": [
    "variance_interval(sorted_a)"
   ],
   "metadata": {
    "collapsed": false,
    "ExecuteTime": {
     "end_time": "2024-02-23T20:47:09.259124400Z",
     "start_time": "2024-02-23T20:47:08.245052500Z"
    }
   },
   "id": "2ea681ca87fd4bc6"
  },
  {
   "cell_type": "code",
   "execution_count": 431,
   "outputs": [],
   "source": [
    "#стандарт з інтервального розподілу\n",
    "def standard_interval(a):\n",
    "    return math.sqrt(variance_interval(a))"
   ],
   "metadata": {
    "collapsed": false,
    "ExecuteTime": {
     "end_time": "2024-02-23T20:47:09.260126300Z",
     "start_time": "2024-02-23T20:47:08.619077400Z"
    }
   },
   "id": "dd8e402ca03b0b29"
  },
  {
   "cell_type": "code",
   "execution_count": 432,
   "outputs": [
    {
     "data": {
      "text/plain": "17.917784649804133"
     },
     "execution_count": 432,
     "metadata": {},
     "output_type": "execute_result"
    }
   ],
   "source": [
    "standard_interval(sorted_a)"
   ],
   "metadata": {
    "collapsed": false,
    "ExecuteTime": {
     "end_time": "2024-02-23T20:47:09.575146800Z",
     "start_time": "2024-02-23T20:47:08.704083800Z"
    }
   },
   "id": "c12de357d891a68"
  },
  {
   "cell_type": "code",
   "execution_count": 433,
   "outputs": [],
   "source": [
    "#варіація з інтервального розподілу\n",
    "def variation_interval(a):\n",
    "    return standard_interval(a)/sample_mean_interval(a)"
   ],
   "metadata": {
    "collapsed": false,
    "ExecuteTime": {
     "end_time": "2024-02-23T20:47:09.675154500Z",
     "start_time": "2024-02-23T20:47:08.897098800Z"
    }
   },
   "id": "cc3893cd5a2f4b9e"
  },
  {
   "cell_type": "code",
   "execution_count": 434,
   "outputs": [
    {
     "data": {
      "text/plain": "0.5476011873230585"
     },
     "execution_count": 434,
     "metadata": {},
     "output_type": "execute_result"
    }
   ],
   "source": [
    "variation_interval(sorted_a)"
   ],
   "metadata": {
    "collapsed": false,
    "ExecuteTime": {
     "end_time": "2024-02-23T20:47:09.743164Z",
     "start_time": "2024-02-23T20:47:08.959105200Z"
    }
   },
   "id": "9fcf15981ceabef0"
  },
  {
   "cell_type": "code",
   "execution_count": 435,
   "outputs": [],
   "source": [
    "#вибіркова дисперсія з інтервального розподілу\n",
    "def sample_dispersion_interval(a):\n",
    "    return deviation_interval(a)/sum(interval_distribution_discrete(a)[1])"
   ],
   "metadata": {
    "collapsed": false,
    "ExecuteTime": {
     "end_time": "2024-02-23T20:47:09.788163700Z",
     "start_time": "2024-02-23T20:47:09.096112200Z"
    }
   },
   "id": "cf77dab831162f21"
  },
  {
   "cell_type": "code",
   "execution_count": 436,
   "outputs": [
    {
     "data": {
      "text/plain": "320.7259597499999"
     },
     "execution_count": 436,
     "metadata": {},
     "output_type": "execute_result"
    }
   ],
   "source": [
    "sample_dispersion_interval(sorted_a)"
   ],
   "metadata": {
    "collapsed": false,
    "ExecuteTime": {
     "end_time": "2024-02-23T20:47:10.379207500Z",
     "start_time": "2024-02-23T20:47:09.166120400Z"
    }
   },
   "id": "3d014f9270c72da2"
  },
  {
   "cell_type": "code",
   "execution_count": 437,
   "outputs": [],
   "source": [
    "#вибіркове середнє квадратичне відхилення з інтервального розподілу\n",
    "def mean_square_deviation_interval(a):\n",
    "    return math.sqrt(sample_dispersion_interval(a))"
   ],
   "metadata": {
    "collapsed": false,
    "ExecuteTime": {
     "end_time": "2024-02-23T20:47:10.587223Z",
     "start_time": "2024-02-23T20:47:09.407135800Z"
    }
   },
   "id": "e20df2166488fb1d"
  },
  {
   "cell_type": "code",
   "execution_count": 438,
   "outputs": [
    {
     "data": {
      "text/plain": "17.90882351663559"
     },
     "execution_count": 438,
     "metadata": {},
     "output_type": "execute_result"
    }
   ],
   "source": [
    "mean_square_deviation_interval(sorted_a)"
   ],
   "metadata": {
    "collapsed": false,
    "ExecuteTime": {
     "end_time": "2024-02-23T20:47:10.703233Z",
     "start_time": "2024-02-23T20:47:09.714157300Z"
    }
   },
   "id": "e16e2d6a3509b814"
  },
  {
   "cell_type": "code",
   "execution_count": 439,
   "outputs": [],
   "source": [
    "#центральний момент k-го порядку з інтервального розподілу\n",
    "def central_moment_interval(a, k):\n",
    "    x, freq = interval_distribution_discrete(a)\n",
    "    mean = sample_mean_interval(a)\n",
    "    return sum([((x[i] - mean)**k)*freq[i] for i in range(len(x))])/sum(freq)"
   ],
   "metadata": {
    "collapsed": false,
    "ExecuteTime": {
     "end_time": "2024-02-23T20:47:10.703233Z",
     "start_time": "2024-02-23T20:47:09.877172Z"
    }
   },
   "id": "7e71905b4295f196"
  },
  {
   "cell_type": "code",
   "execution_count": 440,
   "outputs": [
    {
     "data": {
      "text/plain": "320.7259597499999"
     },
     "execution_count": 440,
     "metadata": {},
     "output_type": "execute_result"
    }
   ],
   "source": [
    "central_moment_interval(sorted_a, 2)"
   ],
   "metadata": {
    "collapsed": false,
    "ExecuteTime": {
     "end_time": "2024-02-23T20:47:10.704232600Z",
     "start_time": "2024-02-23T20:47:09.947176200Z"
    }
   },
   "id": "bd7a49a3b4dcb9e1"
  },
  {
   "cell_type": "code",
   "execution_count": 441,
   "outputs": [],
   "source": [
    "#асиметрія з інтервального розподілу\n",
    "def skewness_interval(a):\n",
    "    return central_moment_interval(a, 3)/((central_moment_interval(a, 2)**(3/2)))"
   ],
   "metadata": {
    "collapsed": false,
    "ExecuteTime": {
     "end_time": "2024-02-23T20:47:10.704232600Z",
     "start_time": "2024-02-23T20:47:10.003180Z"
    }
   },
   "id": "de1e6bfaae0678c3"
  },
  {
   "cell_type": "code",
   "execution_count": 442,
   "outputs": [
    {
     "data": {
      "text/plain": "-0.04543882127227807"
     },
     "execution_count": 442,
     "metadata": {},
     "output_type": "execute_result"
    }
   ],
   "source": [
    "skewness_interval(sorted_a)"
   ],
   "metadata": {
    "collapsed": false,
    "ExecuteTime": {
     "end_time": "2024-02-23T20:47:10.706229500Z",
     "start_time": "2024-02-23T20:47:10.035182900Z"
    }
   },
   "id": "491d391e2482fee7"
  },
  {
   "cell_type": "code",
   "execution_count": 443,
   "outputs": [],
   "source": [
    "#ексцес з інтервального розподілу\n",
    "def kurtosis_interval(a):\n",
    "    return (central_moment_interval(a, 4)/((central_moment_interval(a, 2)**2))) - 3"
   ],
   "metadata": {
    "collapsed": false,
    "ExecuteTime": {
     "end_time": "2024-02-23T20:47:10.706229500Z",
     "start_time": "2024-02-23T20:47:10.082194100Z"
    }
   },
   "id": "1ded6850705b196b"
  },
  {
   "cell_type": "code",
   "execution_count": 444,
   "outputs": [
    {
     "data": {
      "text/plain": "-1.174774945727295"
     },
     "execution_count": 444,
     "metadata": {},
     "output_type": "execute_result"
    }
   ],
   "source": [
    "kurtosis_interval(sorted_a)"
   ],
   "metadata": {
    "collapsed": false,
    "ExecuteTime": {
     "end_time": "2024-02-23T20:47:10.706229500Z",
     "start_time": "2024-02-23T20:47:10.119192200Z"
    }
   },
   "id": "63f31cff11cbf654"
  },
  {
   "cell_type": "code",
   "execution_count": 445,
   "outputs": [],
   "source": [
    "#вивід всіх характеристик дискретного розподілу в вигляді назва: значення\n",
    "def print_all(a):\n",
    "    print(\"Дискретний розподіл:\")\n",
    "    print(f\"Медіана: {median(a)}\")\n",
    "    print(f\"Мода: {mode(a)}\")\n",
    "    print(f\"Вибіркове середнє значення: {sample_mean(a)}\")\n",
    "    print(f\"Девіація: {deviation(a)}\")\n",
    "    print(f\"Варіанса: {variance(a)}\")\n",
    "    print(f\"Стандарт: {standard(a)}\")\n",
    "    print(f\"Варіація: {variation(a)}\")\n",
    "    print(f\"Вибіркова дисперсія: {variance(a)}\")\n",
    "    print(f\"Вибіркове середнє квадратичне відхилення: {mean_square_deviation(a)}\")\n",
    "    print(f\"Центральний момент 2-го порядку: {central_moment(a, 2)}\")\n",
    "    print(f\"Центральний момент 3-го порядку: {central_moment(a, 3)}\")\n",
    "    print(f\"Центральний момент 4-го порядку: {central_moment(a, 4)}\")\n",
    "    print(f\"Асиметрія: {skewness(a)}\")\n",
    "    print(f\"Ексцес: {kurtosis(a)}\")\n",
    "    print(f\"Розмах: {rrange(a)}\")\n",
    "    print(\"Квантилі:\")\n",
    "    get_quantiles(a)\n",
    "    print(\"Інтервальний розподіл:\")\n",
    "    print_interval_distribution(a)\n",
    "    print(f\"Медіана з інтервального розподілу: {median_interval(a)}\")\n",
    "    print(f\"Мода з інтервального розподілу: {mode_interval(a)}\")\n",
    "    print(f\"Вибіркове середнє значення з інтервального розподілу: {sample_mean_interval(a)}\")\n",
    "    print(f\"Розмах з інтервального розподілу: {rrange_interval(a)}\")\n",
    "    print(f\"Девіація з інтервального розподілу: {deviation_interval(a)}\")\n",
    "    print(f\"Варіанса з інтервального розподілу: {variance_interval(a)}\")\n",
    "    print(f\"Стандарт з інтервального розподілу: {standard_interval(a)}\")\n",
    "    print(f\"Варіація з інтервального розподілу: {variation_interval(a)}\")\n",
    "    print(f\"Вибіркова дисперсія з інтервального розподілу: {sample_dispersion_interval(a)}\")\n",
    "    print(f\"Вибіркове середнє квадратичне відхилення з інтервального розподілу: {mean_square_deviation_interval(a)}\")\n",
    "    print(f\"Центральний момент 2-го порядку з інтервального розподілу: {central_moment_interval(a, 2)}\")\n",
    "    print(f\"Центральний момент 3-го порядку з інтервального розподілу: {central_moment_interval(a, 3)}\")\n",
    "    print(f\"Центральний момент 4-го порядку з інтервального розподілу: {central_moment_interval(a, 4)}\")\n",
    "    print(f\"Асиметрія з інтервального розподілу: {skewness_interval(a)}\")\n",
    "    print(f\"Ексцес з інтервального розподілу: {kurtosis_interval(a)}\")"
   ],
   "metadata": {
    "collapsed": false,
    "ExecuteTime": {
     "end_time": "2024-02-23T20:47:10.707233600Z",
     "start_time": "2024-02-23T20:47:10.161190800Z"
    }
   },
   "id": "9e8fc2d62815d737"
  },
  {
   "cell_type": "code",
   "execution_count": 446,
   "outputs": [
    {
     "name": "stdout",
     "output_type": "stream",
     "text": [
      "Дискретний розподіл:\n",
      "Медіана: 34.0\n",
      "Мода: [36]\n",
      "Вибіркове середнє значення: 32.754\n",
      "Девіація: 327761.48400000005\n",
      "Варіанса: 328.0895735735736\n",
      "Стандарт: 18.113243044070646\n",
      "Варіація: 0.5530085804503464\n",
      "Вибіркова дисперсія: 328.0895735735736\n",
      "Вибіркове середнє квадратичне відхилення: 18.104184157260445\n",
      "Центральний момент 2-го порядку: 327.76148400000005\n",
      "Центральний момент 3-го порядку: -182.02113787199733\n",
      "Центральний момент 4-го порядку: 197895.55265435323\n",
      "Асиметрія: -0.030675026671140842\n",
      "Ексцес: -1.1578703205687573\n",
      "Розмах: 63\n",
      "Квантилі:\n",
      "Квартилі: [17, 34, 48]\n",
      "Інтерквартильна широта: 31\n",
      "\n",
      "Октилі: [9, 17, 25, 34, 40, 48, 56]\n",
      "Інтероктильна широта: 47\n",
      "\n",
      "Децилі: [7, 14, 20, 27, 34, 39, 45, 51, 57]\n",
      "Інтердецильна широта: 50\n",
      "\n",
      "Центилі: [1, 2, 3, 4, 4, 5, 5, 6, 7, 7, 8, 9, 9, 10, 11, 11, 12, 13, 14, 14, 15, 16, 16, 17, 17, 18, 19, 19, 20, 20, 21, 22, 23, 23, 24, 25, 25, 26, 26, 27, 27, 28, 29, 29, 30, 30, 31, 32, 33, 34, 34, 35, 36, 36, 37, 37, 37, 38, 39, 39, 40, 40, 41, 41, 42, 42, 43, 44, 45, 45, 46, 46, 47, 48, 48, 49, 49, 50, 51, 51, 52, 52, 53, 54, 55, 55, 56, 56, 57, 57, 58, 59, 60, 60, 61, 61, 63, 63, 64]\n",
      "Інтерцентильна широта: 63\n",
      "\n",
      "Мілілі: [1, 1, 1, 1, 1, 1, 1, 1, 1, 1, 2, 2, 2, 2, 2, 2, 2, 2, 2, 2, 2, 2, 3, 3, 3, 3, 3, 3, 3, 3, 3, 3, 3, 3, 3, 3, 3, 3, 3, 4, 4, 4, 4, 4, 4, 4, 4, 4, 4, 4, 4, 4, 4, 4, 4, 4, 4, 5, 5, 5, 5, 5, 5, 5, 5, 5, 5, 5, 5, 5, 5, 5, 5, 6, 6, 6, 6, 6, 6, 6, 6, 6, 6, 6, 6, 6, 6, 6, 6, 7, 7, 7, 7, 7, 7, 7, 7, 7, 7, 7, 7, 7, 7, 7, 7, 7, 8, 8, 8, 8, 8, 8, 8, 8, 8, 8, 8, 8, 9, 9, 9, 9, 9, 9, 9, 9, 9, 9, 9, 9, 9, 9, 9, 9, 9, 9, 9, 10, 10, 10, 10, 10, 10, 10, 10, 10, 10, 10, 11, 11, 11, 11, 11, 11, 11, 11, 11, 11, 11, 11, 11, 12, 12, 12, 12, 12, 12, 12, 12, 12, 12, 12, 12, 12, 12, 13, 13, 13, 13, 13, 13, 13, 13, 13, 13, 13, 13, 14, 14, 14, 14, 14, 14, 14, 14, 14, 14, 14, 14, 14, 14, 14, 14, 14, 15, 15, 15, 15, 15, 15, 15, 15, 15, 15, 15, 15, 15, 15, 15, 16, 16, 16, 16, 16, 16, 16, 16, 16, 16, 16, 16, 16, 16, 16, 16, 16, 17, 17, 17, 17, 17, 17, 17, 17, 17, 17, 17, 17, 17, 17, 17, 17, 18, 18, 18, 18, 18, 18, 18, 18, 18, 18, 18, 18, 18, 18, 18, 19, 19, 19, 19, 19, 19, 19, 19, 19, 19, 19, 19, 19, 19, 19, 19, 19, 20, 20, 20, 20, 20, 20, 20, 20, 20, 20, 20, 20, 20, 20, 20, 20, 20, 20, 21, 21, 21, 21, 21, 21, 21, 21, 21, 21, 21, 22, 22, 22, 22, 22, 22, 22, 22, 22, 22, 22, 22, 22, 22, 22, 22, 23, 23, 23, 23, 23, 23, 23, 23, 23, 23, 23, 23, 23, 23, 23, 24, 24, 24, 24, 24, 24, 24, 24, 24, 24, 24, 24, 24, 24, 25, 25, 25, 25, 25, 25, 25, 25, 25, 25, 25, 25, 25, 25, 25, 25, 25, 25, 26, 26, 26, 26, 26, 26, 26, 26, 26, 26, 26, 26, 26, 26, 26, 26, 27, 27, 27, 27, 27, 27, 27, 27, 27, 27, 27, 27, 27, 27, 27, 27, 27, 27, 27, 27, 27, 28, 28, 28, 28, 28, 28, 28, 28, 28, 28, 28, 28, 28, 28, 28, 28, 29, 29, 29, 29, 29, 29, 29, 29, 29, 29, 29, 29, 29, 29, 29, 29, 29, 29, 29, 29, 30, 30, 30, 30, 30, 30, 30, 30, 30, 30, 30, 30, 30, 30, 30, 30, 31, 31, 31, 31, 31, 31, 31, 31, 32, 32, 32, 32, 32, 32, 32, 32, 32, 32, 33, 33, 33, 33, 33, 33, 33, 33, 33, 33, 33, 34, 34, 34, 34, 34, 34, 34, 34, 34, 34, 34, 34, 34, 34, 34, 34, 34, 34, 35, 35, 35, 35, 35, 35, 35, 35, 35, 35, 36, 36, 36, 36, 36, 36, 36, 36, 36, 36, 36, 36, 36, 36, 36, 36, 36, 36, 36, 36, 36, 36, 36, 36, 36, 36, 36, 37, 37, 37, 37, 37, 37, 37, 37, 37, 37, 37, 37, 37, 37, 37, 37, 37, 37, 37, 37, 37, 37, 37, 38, 38, 38, 38, 38, 38, 38, 38, 38, 38, 38, 38, 38, 38, 38, 38, 38, 39, 39, 39, 39, 39, 39, 39, 39, 39, 39, 39, 39, 39, 39, 39, 39, 39, 39, 40, 40, 40, 40, 40, 40, 40, 40, 40, 40, 40, 40, 40, 40, 40, 40, 40, 40, 40, 40, 40, 40, 41, 41, 41, 41, 41, 41, 41, 41, 41, 41, 41, 41, 41, 42, 42, 42, 42, 42, 42, 42, 42, 42, 42, 42, 42, 42, 42, 42, 42, 42, 42, 42, 42, 43, 43, 43, 43, 43, 43, 43, 43, 43, 43, 43, 44, 44, 44, 44, 44, 44, 44, 44, 44, 44, 44, 44, 44, 45, 45, 45, 45, 45, 45, 45, 45, 45, 45, 45, 45, 45, 45, 45, 45, 45, 45, 45, 45, 46, 46, 46, 46, 46, 46, 46, 46, 46, 46, 46, 46, 46, 46, 46, 46, 46, 46, 46, 47, 47, 47, 47, 47, 47, 47, 47, 47, 47, 47, 47, 47, 47, 48, 48, 48, 48, 48, 48, 48, 48, 48, 48, 48, 48, 48, 48, 48, 48, 48, 49, 49, 49, 49, 49, 49, 49, 49, 49, 49, 49, 49, 49, 49, 49, 49, 50, 50, 50, 50, 50, 50, 50, 50, 50, 50, 50, 50, 50, 50, 50, 50, 51, 51, 51, 51, 51, 51, 51, 51, 51, 51, 51, 51, 51, 51, 51, 51, 51, 51, 51, 51, 52, 52, 52, 52, 52, 52, 52, 52, 52, 52, 52, 52, 52, 52, 52, 53, 53, 53, 53, 53, 53, 53, 53, 53, 53, 53, 53, 53, 53, 54, 54, 54, 54, 54, 54, 54, 54, 54, 54, 54, 54, 55, 55, 55, 55, 55, 55, 55, 55, 55, 55, 55, 55, 55, 55, 55, 56, 56, 56, 56, 56, 56, 56, 56, 56, 56, 56, 56, 56, 56, 56, 56, 56, 56, 57, 57, 57, 57, 57, 57, 57, 57, 57, 57, 57, 57, 57, 57, 57, 57, 57, 57, 57, 58, 58, 58, 58, 58, 58, 58, 58, 58, 58, 58, 59, 59, 59, 59, 59, 59, 59, 59, 59, 59, 59, 59, 59, 60, 60, 60, 60, 60, 60, 60, 60, 60, 60, 60, 60, 60, 60, 60, 60, 60, 61, 61, 61, 61, 61, 61, 61, 61, 61, 61, 61, 61, 61, 61, 61, 61, 61, 61, 62, 62, 62, 62, 62, 62, 62, 63, 63, 63, 63, 63, 63, 63, 63, 63, 63, 63, 63, 63, 64, 64, 64, 64, 64, 64, 64, 64, 64, 64, 64, 64, 64, 64, 64, 64, 64, 64, 64]\n",
      "Інтермілільна широта: 63\n",
      "\n",
      "Інтервальний розподіл:\n",
      "1.0 - 7.3: 107\n",
      "7.3 - 13.6: 81\n",
      "13.6 - 19.9: 97\n",
      "19.9 - 26.2: 108\n",
      "26.2 - 32.5: 91\n",
      "32.5 - 38.8: 106\n",
      "38.8 - 45.1: 117\n",
      "45.1 - 51.4: 102\n",
      "51.4 - 57.699999999999996: 93\n",
      "57.699999999999996 - 64.0: 98\n",
      "Медіана з інтервального розподілу: 33.450943396226414\n",
      "Мода з інтервального розподілу: [41.465384615384615]\n",
      "Вибіркове середнє значення з інтервального розподілу: 32.720499999999994\n",
      "Розмах з інтервального розподілу: 56.699999999999996\n",
      "Девіація з інтервального розподілу: 320725.9597499999\n",
      "Варіанса з інтервального розподілу: 321.0470067567567\n",
      "Стандарт з інтервального розподілу: 17.917784649804133\n",
      "Варіація з інтервального розподілу: 0.5476011873230585\n",
      "Вибіркова дисперсія з інтервального розподілу: 320.7259597499999\n",
      "Вибіркове середнє квадратичне відхилення з інтервального розподілу: 17.90882351663559\n",
      "Центральний момент 2-го порядку з інтервального розподілу: 320.7259597499999\n",
      "Центральний момент 3-го порядку з інтервального розподілу: -260.99261988974735\n",
      "Центральний момент 4-го порядку з інтервального розподілу: 187752.0330345968\n",
      "Асиметрія з інтервального розподілу: -0.04543882127227807\n",
      "Ексцес з інтервального розподілу: -1.174774945727295\n"
     ]
    }
   ],
   "source": [
    "print_all(sorted_a)"
   ],
   "metadata": {
    "collapsed": false,
    "ExecuteTime": {
     "end_time": "2024-02-23T20:47:10.709231100Z",
     "start_time": "2024-02-23T20:47:10.250202300Z"
    }
   },
   "id": "727b4b48690ad840"
  },
  {
   "cell_type": "code",
   "execution_count": 446,
   "outputs": [],
   "source": [],
   "metadata": {
    "collapsed": false,
    "ExecuteTime": {
     "end_time": "2024-02-23T20:47:10.710231200Z",
     "start_time": "2024-02-23T20:47:10.343208600Z"
    }
   },
   "id": "f5f8686a2d0c7a4c"
  }
 ],
 "metadata": {
  "kernelspec": {
   "display_name": "Python 3",
   "language": "python",
   "name": "python3"
  },
  "language_info": {
   "codemirror_mode": {
    "name": "ipython",
    "version": 2
   },
   "file_extension": ".py",
   "mimetype": "text/x-python",
   "name": "python",
   "nbconvert_exporter": "python",
   "pygments_lexer": "ipython2",
   "version": "2.7.6"
  }
 },
 "nbformat": 4,
 "nbformat_minor": 5
}
